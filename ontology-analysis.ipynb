{
 "cells": [
  {
   "cell_type": "markdown",
   "metadata": {},
   "source": [
    "## Welcome to the Ontology Tutorial hand-on session. \n",
    "\n",
    "Here, we will demonstrate how to use ontologies through the OWLAPI, classify ontologies, reason over them, and compute semantic similarity. In the second part, we will also use machine learning with ontologies.\n",
    "\n",
    "If you have not done so, please download our data package from http://aber-owl.net/aber-owl/diseasephenotypes/ontology/ontology-tutorial.tar.gz\n",
    "\n",
    "To run a piece of code, just go to the box, and either press Shift+Enter, or click on the \"run cell\" button in the menu bar.\n",
    "\n",
    "__Please run the first cell before the tutorial!__\n",
    "This will download all the Java libraries we need.\n",
    "\n",
    "Go ahead now and run the first cell. It may take a while to download all the libraries, so you may want to get a coffee while it's running."
   ]
  },
  {
   "cell_type": "code",
   "execution_count": null,
   "metadata": {},
   "outputs": [],
   "source": [
    "#!groovy\n",
    "// @NotebookService nb"
   ]
  },
  {
   "cell_type": "code",
   "execution_count": null,
   "metadata": {},
   "outputs": [],
   "source": [
    "// Download dependencies using Groovy's Grape system\n",
    "import groovy.grape.Grape\n",
    "Grape.grab(group:'org.semanticweb.elk', module:'elk-owlapi', version:'0.4.3')\n",
    "Grape.grab(group:'net.sourceforge.owlapi', module:'owlapi-api', version:'4.2.5')\n",
    "Grape.grab(group:'net.sourceforge.owlapi', module:'owlapi-apibinding', version:'4.2.5')\n",
    "Grape.grab(group:'net.sourceforge.owlapi', module:'owlapi-impl', version:'4.2.5')\n",
    "Grape.grab(group:'com.github.sharispe', module:'slib-sml', version:'0.9.1')"
   ]
  },
  {
   "cell_type": "markdown",
   "metadata": {},
   "source": [
    "We will now show some basic operations on ontologies. We need to import lots of classes from the OWLAPI, create an OWL ontology manager, load the ontology, and start exploring a bit.\n",
    "\n",
    "The code below may need to be modified a bit. In the line `ont = manager.loadOntologyFromOntologyDocument(new IRI(\"file:merged-phenomenet.owl\"))`, please change the path to where you have extracted the content of our data package. For example, if you extracted the content of our data package to `/tmp/`, replace `file:merged-phenomenet.owl` with `file:/tmp/merged-phenomenet.owl`.\n",
    "\n",
    "__If you have memory problems:__ The ontology is rather large and requires around 10GB of memory to load (and later to classify). If you have problems loading this ontology, download `phenomenet-inferred.owl` from our Github site and replace `file:merged-phenomenet.owl` with `file:phenomenet-inferred.owl` in the code below (you just need to comment out the line which loads the ontology and uncomment the alternative)."
   ]
  },
  {
   "cell_type": "code",
   "execution_count": null,
   "metadata": {},
   "outputs": [],
   "source": [
    "// opens ontology file and prints the number of classes\n",
    "\n",
    "// import what we need\n",
    "import java.net.*\n",
    "import org.semanticweb.owlapi.model.parameters.*\n",
    "import org.semanticweb.elk.owlapi.ElkReasonerFactory;\n",
    "import org.semanticweb.elk.owlapi.ElkReasonerConfiguration\n",
    "import org.semanticweb.elk.reasoner.config.*\n",
    "import org.semanticweb.owlapi.apibinding.OWLManager;\n",
    "import org.semanticweb.owlapi.reasoner.*\n",
    "import org.semanticweb.owlapi.reasoner.structural.StructuralReasoner\n",
    "import org.semanticweb.owlapi.vocab.OWLRDFVocabulary;\n",
    "import org.semanticweb.owlapi.model.*;\n",
    "import org.semanticweb.owlapi.io.*;\n",
    "import org.semanticweb.owlapi.owllink.*;\n",
    "import org.semanticweb.owlapi.util.*;\n",
    "import org.semanticweb.owlapi.search.*;\n",
    "import org.semanticweb.owlapi.manchestersyntax.renderer.*;\n",
    "import org.semanticweb.owlapi.reasoner.structural.*\n",
    " \n",
    "// Let's load an ontology and output the number of classes\n",
    "// Create the ontology manager\n",
    "manager = OWLManager.createOWLOntologyManager()\n",
    "// create data factory (to create axioms, classes, etc.)\n",
    "fac = manager.getOWLDataFactory()\n",
    "// Load the latest version of the PhenomeNET Ontology; for more information about this ontology, see http://journals.plos.org/ploscompbiol/article?id=10.1371/journal.pcbi.1005500\n",
    "\n",
    "ont = manager.loadOntologyFromOntologyDocument(new IRI(\"file:merged-phenomenet.owl\"))\n",
    "\n",
    "// Use the next line instead if you have memory problems loading the ontology above (comment out the line above and uncomment this line):\n",
    "//ont = manager.loadOntologyFromOntologyDocument(new IRI(\"file:phenomenet-inferred.owl\"))\n",
    "\n",
    "ont.getClassesInSignature(true).size()"
   ]
  },
  {
   "cell_type": "markdown",
   "metadata": {},
   "source": [
    "## Reasoning with ontologies\n",
    "\n",
    "Reasoning means we use inference rules that use the axioms within the ontology to extract new knowledge (which may or may not be explicitly stated). The most basic operation an OWL reasoner does is to perform _classification_, i.e., it identifies for each class its sub- and super-classes. OWL reasoners can also be used to query ontologies, and find, for example, sub-classes of named classes or complex class descriptions.\n",
    "\n",
    "Reasoning in OWL may be very complex. For example, automated reasoning in OWL 2 is 2NEXPTIME-complete, and will therefore not scale well on arbitrary ontologies. Fortunately, many optimized reasoners exist, so the theoretical limitations are not always a barrier in practise. Nevertheless, OWL 2 comes with several sub-langes (OWL 2 EL, QL, and RL) which guarantee more efficient automated reasoning. In particular the OWL 2 EL language profile is widely used in biological and biomedical ontologies.\n",
    "\n",
    "In the first box below, we will just create a new OWL reasoner object (using the OWL 2 EL reasoner [ELK](https://github.com/liveontologies/elk-reasoner)). In the second box, we will use this reasoner to find all the subclasses of the \"Mode of inheritance\" class in the Human Phenotype Ontology, and output the classes and their labels."
   ]
  },
  {
   "cell_type": "code",
   "execution_count": null,
   "metadata": {},
   "outputs": [],
   "source": [
    "// import what we need\n",
    "import java.net.*\n",
    "import org.semanticweb.owlapi.model.parameters.*\n",
    "import org.semanticweb.elk.owlapi.ElkReasonerFactory;\n",
    "import org.semanticweb.elk.owlapi.ElkReasonerConfiguration\n",
    "import org.semanticweb.elk.reasoner.config.*\n",
    "import org.semanticweb.owlapi.apibinding.OWLManager;\n",
    "import org.semanticweb.owlapi.reasoner.*\n",
    "import org.semanticweb.owlapi.reasoner.structural.StructuralReasoner\n",
    "import org.semanticweb.owlapi.vocab.OWLRDFVocabulary;\n",
    "import org.semanticweb.owlapi.model.*;\n",
    "import org.semanticweb.owlapi.io.*;\n",
    "import org.semanticweb.owlapi.owllink.*;\n",
    "import org.semanticweb.owlapi.util.*;\n",
    "import org.semanticweb.owlapi.search.*;\n",
    "import org.semanticweb.owlapi.manchestersyntax.renderer.*;\n",
    "import org.semanticweb.owlapi.reasoner.structural.*\n",
    "\n",
    "ConsoleProgressMonitor progressMonitor = new ConsoleProgressMonitor()\n",
    "OWLReasonerConfiguration config = new SimpleConfiguration(progressMonitor)\n",
    "ElkReasonerFactory f1 = new ElkReasonerFactory()\n",
    "reasoner = f1.createReasoner(ont,config)\n"
   ]
  },
  {
   "cell_type": "code",
   "execution_count": null,
   "metadata": {},
   "outputs": [],
   "source": [
    "// import what we need\n",
    "import java.net.*\n",
    "import org.semanticweb.owlapi.model.parameters.*\n",
    "import org.semanticweb.elk.owlapi.ElkReasonerFactory;\n",
    "import org.semanticweb.elk.owlapi.ElkReasonerConfiguration\n",
    "import org.semanticweb.elk.reasoner.config.*\n",
    "import org.semanticweb.owlapi.apibinding.OWLManager;\n",
    "import org.semanticweb.owlapi.reasoner.*\n",
    "import org.semanticweb.owlapi.reasoner.structural.StructuralReasoner\n",
    "import org.semanticweb.owlapi.vocab.OWLRDFVocabulary;\n",
    "import org.semanticweb.owlapi.model.*;\n",
    "import org.semanticweb.owlapi.io.*;\n",
    "import org.semanticweb.owlapi.owllink.*;\n",
    "import org.semanticweb.owlapi.util.*;\n",
    "import org.semanticweb.owlapi.search.*;\n",
    "import org.semanticweb.owlapi.manchestersyntax.renderer.*;\n",
    "import org.semanticweb.owlapi.reasoner.structural.*\n",
    "\n",
    "// get all subclasses of \"Mode of inheritance\", including all descendant classes (direct set to \"false\")\n",
    "reasoner.getSubClasses(fac.getOWLClass(IRI.create(\"http://purl.obolibrary.org/obo/HP_0000005\")), false).getFlattened().each { cl ->\n",
    "  def ciri = cl.getIRI()\n",
    "  // now we get the label (rdfs:label) for each of the classes and print to stdout\n",
    "  EntitySearcher.getAnnotations(cl, ont, fac.getRDFSLabel()).each { a ->\n",
    "    OWLAnnotationValue val = a.getValue()\n",
    "    if(val instanceof OWLLiteral) {\n",
    "      def label = ((OWLLiteral)val).getLiteral()\n",
    "      println \"$label ($ciri)\"\n",
    "    }\n",
    "  }\n",
    "}\n"
   ]
  },
  {
   "cell_type": "markdown",
   "metadata": {},
   "source": [
    "You can play with this code a bit to find subclasses as well as superclasses for \"Mode of inheritance\" and other classes. A class in OWL does not have to have a URI (these are the named classes) but can also be a complex class description; for example, you can query for subclasses of phenotypes affecting some part of the \"heart\" by querying describing the class using quantifiers, relations, conjunction, disjunction, or negation, and retrieve classes that satisfy this description.\n",
    "\n",
    "\n",
    "Next, we will classify the ontology (from our data package) using the ELK reasoner, and store an inferred version of the ontology in the user home directory. The inferred version will be classified, i.e., all implied sub- and super-class relations are inferred and a transitive reduction is performed so that the resulting taxonomy does not contain redundant sub- or super-class relations.\n",
    "\n",
    "If you do not want to store the file in `$HOME/phenomenet-inferred.owl`, change the code below accordingly."
   ]
  },
  {
   "cell_type": "code",
   "execution_count": null,
   "metadata": {},
   "outputs": [],
   "source": [
    "// import what we need\n",
    "import java.net.*\n",
    "import org.semanticweb.owlapi.model.parameters.*\n",
    "import org.semanticweb.elk.owlapi.ElkReasonerFactory;\n",
    "import org.semanticweb.elk.owlapi.ElkReasonerConfiguration\n",
    "import org.semanticweb.elk.reasoner.config.*\n",
    "import org.semanticweb.owlapi.apibinding.OWLManager;\n",
    "import org.semanticweb.owlapi.reasoner.*\n",
    "import org.semanticweb.owlapi.reasoner.structural.StructuralReasoner\n",
    "import org.semanticweb.owlapi.vocab.OWLRDFVocabulary;\n",
    "import org.semanticweb.owlapi.model.*;\n",
    "import org.semanticweb.owlapi.io.*;\n",
    "import org.semanticweb.owlapi.owllink.*;\n",
    "import org.semanticweb.owlapi.util.*;\n",
    "import org.semanticweb.owlapi.search.*;\n",
    "import org.semanticweb.owlapi.manchestersyntax.renderer.*;\n",
    "import org.semanticweb.owlapi.reasoner.structural.*\n",
    "    \n",
    "// write the inferred version of the ontology to a file (phenomenet-inferred.owl in the user homedir)\n",
    "def homeDir = System.getProperty(\"user.home\")\n",
    "File outfile = new File (homeDir, \"phenomenet-inferred.owl\")\n",
    "def outont = manager.createOntology(new IRI(\"http://aber-owl.net/ismb-tutorial/phenomenet-inferred.owl\"))\n",
    "InferredOntologyGenerator generator = new InferredOntologyGenerator(reasoner, [new InferredSubClassAxiomGenerator()])\n",
    "generator.fillOntology(fac, outont)\n",
    "\n",
    "manager.saveOntology(outont, IRI.create(\"file:\"+outfile.getAbsolutePath()))\n"
   ]
  },
  {
   "cell_type": "markdown",
   "metadata": {},
   "source": [
    "## Semantic similarity\n",
    "\n",
    "We use the [Semantic Measures Library](http://semantic-measures-library.org) to compute semantic similarity over the inferred ontology. We first generate some basic objects we need to define semantic similarity, and populate the semantic graph (used by the Semantic Measures Library) with the inferred taxonomy generated above.\n",
    "\n",
    "Note: while it is possible to compute semantic similarity over the non-inferred version of the ontology, most similarity measures crucially rely on a graph structure that resembles (or approximates) the semantic content of the ontology. Using a non-inferred version will hide this content. We therefore _always_ recommend to apply semantic similarity measures on the fully inferred version of an ontology.\n",
    "\n",
    "First we set up some basic data structures, mainly the graph over which the similarity will be computed."
   ]
  },
  {
   "cell_type": "code",
   "execution_count": 5,
   "metadata": {},
   "outputs": [
    {
     "data": {
      "text/html": [
       "http://aber-owl&#8203;.net/ismb-tutorial/\n",
       "Vertices\n",
       "\tTotal   : 0  \n",
       "Edges \t  : 0\n",
       "\n"
      ]
     },
     "execution_count": 5,
     "metadata": {},
     "output_type": "execute_result"
    }
   ],
   "source": [
    "import org.openrdf.model.vocabulary.*\n",
    "import slib.sglib.io.loader.*\n",
    "import slib.sml.sm.core.metrics.ic.utils.*\n",
    "import slib.sml.sm.core.utils.*\n",
    "import slib.sglib.io.loader.bio.obo.*\n",
    "import org.openrdf.model.URI\n",
    "import slib.graph.algo.extraction.rvf.instances.*\n",
    "import slib.sglib.algo.graph.utils.*\n",
    "import slib.utils.impl.Timer\n",
    "import slib.graph.algo.extraction.utils.*\n",
    "import slib.graph.model.graph.*\n",
    "import slib.graph.model.repo.*\n",
    "import slib.graph.model.impl.graph.memory.*\n",
    "import slib.sml.sm.core.engine.*\n",
    "import slib.graph.io.conf.*\n",
    "import slib.graph.model.impl.graph.elements.*\n",
    "import slib.graph.algo.extraction.rvf.instances.impl.*\n",
    "import slib.graph.model.impl.repo.*\n",
    "import slib.graph.io.util.*\n",
    "import slib.graph.io.loader.*\n",
    "    \n",
    "factory = URIFactoryMemory.getSingleton()\n",
    "URI graph_uri = factory.getURI(\"http://aber-owl.net/ismb-tutorial/\")\n",
    "graph = new GraphMemory(graph_uri)\n"
   ]
  },
  {
   "cell_type": "markdown",
   "metadata": {},
   "source": [
    "Next we populate the graph with the inferred ontology. We use the RDF_XML format which we generated before. There are some warning messages appearing here which can be safely ignored (because the INFO logger seems to write to stderr by default)."
   ]
  },
  {
   "cell_type": "code",
   "execution_count": 6,
   "metadata": {},
   "outputs": [
    {
     "name": "stderr",
     "output_type": "stream",
     "text": [
      "[SciJava-28b46504-Thread-org.scijava.jupyter.kernel.evaluator.ScijavaEvaluator] INFO slib.graph.io.loader.rdf.RDFLoader - -------------------------------------\n",
      "[SciJava-28b46504-Thread-org.scijava.jupyter.kernel.evaluator.ScijavaEvaluator] INFO slib.graph.io.loader.rdf.RDFLoader -  RDF Loader\n",
      "[SciJava-28b46504-Thread-org.scijava.jupyter.kernel.evaluator.ScijavaEvaluator] INFO slib.graph.io.loader.rdf.RDFLoader - -------------------------------------\n",
      "[SciJava-28b46504-Thread-org.scijava.jupyter.kernel.evaluator.ScijavaEvaluator] INFO slib.graph.io.loader.rdf.RDFLoader - Populate graph http://aber-owl.net/ismb-tutorial/ from /home/leechuck/phenomenet-inferred.owl\n",
      "[SciJava-28b46504-Thread-org.scijava.jupyter.kernel.evaluator.ScijavaEvaluator] INFO slib.graph.io.loader.rdf.RDFLoader - Parser loaded for: RDF/XML (mimeTypes=application/rdf+xml, application/xml; ext=rdf, rdfs, owl, xml)\n",
      "[SciJava-28b46504-Thread-org.scijava.jupyter.kernel.evaluator.ScijavaEvaluator] INFO slib.graph.io.loader.rdf.RDFLoader - Parsing RDF file...\n",
      "[SciJava-28b46504-Thread-org.scijava.jupyter.kernel.evaluator.ScijavaEvaluator] INFO slib.graph.io.loader.rdf.SlibRdfHandler - Start Process\n",
      "[SciJava-28b46504-Thread-org.scijava.jupyter.kernel.evaluator.ScijavaEvaluator] INFO slib.graph.io.loader.rdf.SlibRdfHandler - 100000 statements already loaded\n",
      "[SciJava-28b46504-Thread-org.scijava.jupyter.kernel.evaluator.ScijavaEvaluator] INFO slib.graph.io.loader.rdf.SlibRdfHandler - Number of vertices: 36716\n",
      "[SciJava-28b46504-Thread-org.scijava.jupyter.kernel.evaluator.ScijavaEvaluator] INFO slib.graph.io.loader.rdf.SlibRdfHandler - Number of edges   : 100000\n",
      "[SciJava-28b46504-Thread-org.scijava.jupyter.kernel.evaluator.ScijavaEvaluator] INFO slib.graph.io.loader.rdf.SlibRdfHandler - 200000 statements already loaded\n",
      "[SciJava-28b46504-Thread-org.scijava.jupyter.kernel.evaluator.ScijavaEvaluator] INFO slib.graph.io.loader.rdf.SlibRdfHandler - Number of vertices: 79744\n",
      "[SciJava-28b46504-Thread-org.scijava.jupyter.kernel.evaluator.ScijavaEvaluator] INFO slib.graph.io.loader.rdf.SlibRdfHandler - Number of edges   : 200000\n",
      "[SciJava-28b46504-Thread-org.scijava.jupyter.kernel.evaluator.ScijavaEvaluator] INFO slib.graph.io.loader.rdf.SlibRdfHandler - 300000 statements already loaded\n",
      "[SciJava-28b46504-Thread-org.scijava.jupyter.kernel.evaluator.ScijavaEvaluator] INFO slib.graph.io.loader.rdf.SlibRdfHandler - Number of vertices: 115106\n",
      "[SciJava-28b46504-Thread-org.scijava.jupyter.kernel.evaluator.ScijavaEvaluator] INFO slib.graph.io.loader.rdf.SlibRdfHandler - Number of edges   : 300000\n",
      "[SciJava-28b46504-Thread-org.scijava.jupyter.kernel.evaluator.ScijavaEvaluator] INFO slib.graph.io.loader.rdf.SlibRdfHandler - 400000 statements already loaded\n",
      "[SciJava-28b46504-Thread-org.scijava.jupyter.kernel.evaluator.ScijavaEvaluator] INFO slib.graph.io.loader.rdf.SlibRdfHandler - Number of vertices: 157633\n",
      "[SciJava-28b46504-Thread-org.scijava.jupyter.kernel.evaluator.ScijavaEvaluator] INFO slib.graph.io.loader.rdf.SlibRdfHandler - Number of edges   : 400000\n",
      "[SciJava-28b46504-Thread-org.scijava.jupyter.kernel.evaluator.ScijavaEvaluator] INFO slib.graph.io.loader.rdf.SlibRdfHandler - 500000 statements already loaded\n",
      "[SciJava-28b46504-Thread-org.scijava.jupyter.kernel.evaluator.ScijavaEvaluator] INFO slib.graph.io.loader.rdf.SlibRdfHandler - Number of vertices: 189817\n",
      "[SciJava-28b46504-Thread-org.scijava.jupyter.kernel.evaluator.ScijavaEvaluator] INFO slib.graph.io.loader.rdf.SlibRdfHandler - Number of edges   : 500000\n",
      "[SciJava-28b46504-Thread-org.scijava.jupyter.kernel.evaluator.ScijavaEvaluator] INFO slib.graph.io.loader.rdf.SlibRdfHandler - 600000 statements already loaded\n",
      "[SciJava-28b46504-Thread-org.scijava.jupyter.kernel.evaluator.ScijavaEvaluator] INFO slib.graph.io.loader.rdf.SlibRdfHandler - Number of vertices: 220936\n",
      "[SciJava-28b46504-Thread-org.scijava.jupyter.kernel.evaluator.ScijavaEvaluator] INFO slib.graph.io.loader.rdf.SlibRdfHandler - Number of edges   : 600000\n",
      "[SciJava-28b46504-Thread-org.scijava.jupyter.kernel.evaluator.ScijavaEvaluator] INFO slib.graph.io.loader.rdf.SlibRdfHandler - Ending Process 612744 statements loaded \n",
      "[SciJava-28b46504-Thread-org.scijava.jupyter.kernel.evaluator.ScijavaEvaluator] INFO slib.graph.io.loader.rdf.SlibRdfHandler - vertices: 224751\n",
      "[SciJava-28b46504-Thread-org.scijava.jupyter.kernel.evaluator.ScijavaEvaluator] INFO slib.graph.io.loader.rdf.SlibRdfHandler - edges   : 612744\n",
      "[SciJava-28b46504-Thread-org.scijava.jupyter.kernel.evaluator.ScijavaEvaluator] INFO slib.graph.io.loader.rdf.SlibRdfHandler - Skipped (statement involving non URI ressources) : 0\n",
      "[SciJava-28b46504-Thread-org.scijava.jupyter.kernel.evaluator.ScijavaEvaluator] INFO slib.graph.io.loader.rdf.RDFLoader - Graph http://aber-owl.net/ismb-tutorial/ populated by RDF data \n",
      "[SciJava-28b46504-Thread-org.scijava.jupyter.kernel.evaluator.ScijavaEvaluator] INFO slib.graph.io.loader.rdf.RDFLoader - -------------------------------------\n"
     ]
    },
    {
     "data": {
      "text/html": [
       "http://aber-owl&#8203;.net/ismb-tutorial/\n",
       "Vertices\n",
       "\tTotal   : 224751  {e&#8203;.g&#8203;. http://purl&#8203;.obolibrary&#8203;.org/obo/HP&#8203;_0011770}\n",
       "Edges \t  : 612744\n",
       "\n"
      ]
     },
     "execution_count": 6,
     "metadata": {},
     "output_type": "execute_result"
    }
   ],
   "source": [
    "import org.openrdf.model.vocabulary.*\n",
    "import slib.sglib.io.loader.*\n",
    "import slib.sml.sm.core.metrics.ic.utils.*\n",
    "import slib.sml.sm.core.utils.*\n",
    "import slib.sglib.io.loader.bio.obo.*\n",
    "import org.openrdf.model.URI\n",
    "import slib.graph.algo.extraction.rvf.instances.*\n",
    "import slib.sglib.algo.graph.utils.*\n",
    "import slib.utils.impl.Timer\n",
    "import slib.graph.algo.extraction.utils.*\n",
    "import slib.graph.model.graph.*\n",
    "import slib.graph.model.repo.*\n",
    "import slib.graph.model.impl.graph.memory.*\n",
    "import slib.sml.sm.core.engine.*\n",
    "import slib.graph.io.conf.*\n",
    "import slib.graph.model.impl.graph.elements.*\n",
    "import slib.graph.algo.extraction.rvf.instances.impl.*\n",
    "import slib.graph.model.impl.repo.*\n",
    "import slib.graph.io.util.*\n",
    "import slib.graph.io.loader.*\n",
    "    \n",
    "def homeDir = System.getProperty(\"user.home\")\n",
    "File ontfile = new File (homeDir, \"phenomenet-inferred.owl\")\n",
    "GDataConf graphconf = new GDataConf(GFormat.RDF_XML, ontfile.getCanonicalPath())\n",
    "GraphLoaderGeneric.populate(graphconf, graph)\n"
   ]
  },
  {
   "cell_type": "markdown",
   "metadata": {},
   "source": [
    "Sometimes, ontologies (or the taxonomies underlying them) have more than one root (below `owl:Thing`). For example, the Gene Ontology has three roots, _Biological process_, _Molecular function_, and _Cellular Component_. To make classes comparable when they do not share a root (necessary for example in path-based similarity measures), we generate a new artificial root and make this the new root of our semantic graph."
   ]
  },
  {
   "cell_type": "code",
   "execution_count": 7,
   "metadata": {},
   "outputs": [
    {
     "name": "stderr",
     "output_type": "stream",
     "text": [
      "[SciJava-28b46504-Thread-org.scijava.jupyter.kernel.evaluator.ScijavaEvaluator] INFO slib.graph.algo.extraction.utils.GraphActionExecutor - -------------------------------------\n",
      "[SciJava-28b46504-Thread-org.scijava.jupyter.kernel.evaluator.ScijavaEvaluator] INFO slib.graph.algo.extraction.utils.GraphActionExecutor - Rerooting\n",
      "[SciJava-28b46504-Thread-org.scijava.jupyter.kernel.evaluator.ScijavaEvaluator] INFO slib.graph.algo.extraction.utils.GraphActionExecutor - -------------------------------------\n",
      "[SciJava-28b46504-Thread-org.scijava.jupyter.kernel.evaluator.ScijavaEvaluator] INFO slib.graph.algo.extraction.utils.GraphActionExecutor - Fetching root node, uri: http://aber-owl.net/ismb-tutorial/virtualRoot\n",
      "[SciJava-28b46504-Thread-org.scijava.jupyter.kernel.evaluator.ScijavaEvaluator] INFO slib.graph.algo.extraction.utils.RooterDAG - Rooting taxonomic Graph using http://aber-owl.net/ismb-tutorial/virtualRoot\n",
      "[SciJava-28b46504-Thread-org.scijava.jupyter.kernel.evaluator.ScijavaEvaluator] INFO slib.graph.algo.validator.dag.ValidatorDAG - Number of roots 3\n",
      "[SciJava-28b46504-Thread-org.scijava.jupyter.kernel.evaluator.ScijavaEvaluator] INFO slib.graph.algo.validator.dag.ValidatorDAG - Starting process from 168068 vertices\n",
      "[SciJava-28b46504-Thread-org.scijava.jupyter.kernel.evaluator.ScijavaEvaluator] INFO slib.graph.algo.validator.dag.ValidatorDAG - isDag : true\n",
      "[SciJava-28b46504-Thread-org.scijava.jupyter.kernel.evaluator.ScijavaEvaluator] INFO slib.graph.algo.extraction.utils.RooterDAG - Number of roots detected: 3\n",
      "[SciJava-28b46504-Thread-org.scijava.jupyter.kernel.evaluator.ScijavaEvaluator] INFO slib.graph.algo.extraction.utils.RooterDAG - Rooting performed using http://aber-owl.net/ismb-tutorial/virtualRoot as root 3 edges created\n",
      "[SciJava-28b46504-Thread-org.scijava.jupyter.kernel.evaluator.ScijavaEvaluator] INFO slib.graph.algo.validator.dag.ValidatorDAG - Number of roots 1\n",
      "[SciJava-28b46504-Thread-org.scijava.jupyter.kernel.evaluator.ScijavaEvaluator] INFO slib.graph.algo.validator.dag.ValidatorDAG - isDag : true\n",
      "[SciJava-28b46504-Thread-org.scijava.jupyter.kernel.evaluator.ScijavaEvaluator] INFO slib.graph.algo.extraction.utils.GraphActionExecutor - Rerooting performed\n",
      "[SciJava-28b46504-Thread-org.scijava.jupyter.kernel.evaluator.ScijavaEvaluator] INFO slib.graph.algo.extraction.utils.GraphActionExecutor - -------------------------------------\n"
     ]
    }
   ],
   "source": [
    "import org.openrdf.model.vocabulary.*\n",
    "import slib.sglib.io.loader.*\n",
    "import slib.sml.sm.core.metrics.ic.utils.*\n",
    "import slib.sml.sm.core.utils.*\n",
    "import slib.sglib.io.loader.bio.obo.*\n",
    "import org.openrdf.model.URI\n",
    "import slib.graph.algo.extraction.rvf.instances.*\n",
    "import slib.sglib.algo.graph.utils.*\n",
    "import slib.utils.impl.Timer\n",
    "import slib.graph.algo.extraction.utils.*\n",
    "import slib.graph.model.graph.*\n",
    "import slib.graph.model.repo.*\n",
    "import slib.graph.model.impl.graph.memory.*\n",
    "import slib.sml.sm.core.engine.*\n",
    "import slib.graph.io.conf.*\n",
    "import slib.graph.model.impl.graph.elements.*\n",
    "import slib.graph.algo.extraction.rvf.instances.impl.*\n",
    "import slib.graph.model.impl.repo.*\n",
    "import slib.graph.io.util.*\n",
    "import slib.graph.io.loader.*\n",
    "\n",
    "\n",
    "URI virtualRoot = factory.getURI(\"http://aber-owl.net/ismb-tutorial/virtualRoot\")\n",
    "graph.addV(virtualRoot)\n",
    "GAction rooting = new GAction(GActionType.REROOTING)\n",
    "rooting.addParameter(\"root_uri\", virtualRoot.stringValue())\n",
    "GraphActionExecutor.applyAction(factory, rooting, graph)\n"
   ]
  },
  {
   "cell_type": "markdown",
   "metadata": {},
   "source": [
    "Now we configure the semantic similarity measure we want to use.\n",
    "\n",
    "Because we do not have instances, we use only the ontology structure to determine how specific a class is (`IC_Conf_Topo` below for use of a specificity measure based only on the topology of the semantic graph). We use Resnik's similarity measure (\"similarity of two classes is the specificity value of their most specific common ancestor\")."
   ]
  },
  {
   "cell_type": "code",
   "execution_count": 8,
   "metadata": {},
   "outputs": [
    {
     "name": "stderr",
     "output_type": "stream",
     "text": [
      "[SciJava-28b46504-Thread-org.scijava.jupyter.kernel.evaluator.ScijavaEvaluator] INFO slib.sml.sm.core.engine.SM_Engine - ================================================================\n",
      "[SciJava-28b46504-Thread-org.scijava.jupyter.kernel.evaluator.ScijavaEvaluator] INFO slib.sml.sm.core.engine.SM_Engine - Loading Semantic Measures Engine for graph http://aber-owl.net/ismb-tutorial/\n",
      "[SciJava-28b46504-Thread-org.scijava.jupyter.kernel.evaluator.ScijavaEvaluator] INFO slib.sml.sm.core.engine.SM_Engine - ================================================================\n",
      "[SciJava-28b46504-Thread-org.scijava.jupyter.kernel.evaluator.ScijavaEvaluator] INFO slib.sml.sm.core.engine.SM_Engine - Graph Info: \n",
      "[SciJava-28b46504-Thread-org.scijava.jupyter.kernel.evaluator.ScijavaEvaluator] INFO slib.sml.sm.core.engine.SM_Engine - http://aber-owl.net/ismb-tutorial/\n",
      "Vertices\n",
      "\tTotal   : 224752  {e.g. http://purl.obolibrary.org/obo/HP_0011770}\n",
      "Edges \t  : 612747\n",
      "\n",
      "\n",
      "[SciJava-28b46504-Thread-org.scijava.jupyter.kernel.evaluator.ScijavaEvaluator] INFO slib.sml.sm.core.engine.SM_Engine - ---------------------------------------------------------------\n",
      "[SciJava-28b46504-Thread-org.scijava.jupyter.kernel.evaluator.ScijavaEvaluator] INFO slib.sml.sm.core.engine.SM_Engine - Pre-processing\n",
      "[SciJava-28b46504-Thread-org.scijava.jupyter.kernel.evaluator.ScijavaEvaluator] INFO slib.sml.sm.core.engine.SM_Engine - ---------------------------------------------------------------\n",
      "[SciJava-28b46504-Thread-org.scijava.jupyter.kernel.evaluator.ScijavaEvaluator] INFO slib.sml.sm.core.engine.SM_Engine - Computing classes...\n",
      "[SciJava-28b46504-Thread-org.scijava.jupyter.kernel.evaluator.ScijavaEvaluator] INFO slib.sml.sm.core.engine.SM_Engine - Computing instances...\n",
      "[SciJava-28b46504-Thread-org.scijava.jupyter.kernel.evaluator.ScijavaEvaluator] INFO slib.sml.sm.core.engine.SM_Engine - Classes  : 224751\n",
      "[SciJava-28b46504-Thread-org.scijava.jupyter.kernel.evaluator.ScijavaEvaluator] INFO slib.sml.sm.core.engine.SM_Engine - Instances: 1\n",
      "[SciJava-28b46504-Thread-org.scijava.jupyter.kernel.evaluator.ScijavaEvaluator] INFO slib.sml.sm.core.engine.SM_Engine - ---------------------------------------------------------------\n",
      "[SciJava-28b46504-Thread-org.scijava.jupyter.kernel.evaluator.ScijavaEvaluator] INFO slib.sml.sm.core.engine.SM_Engine - Inferences \n",
      "[SciJava-28b46504-Thread-org.scijava.jupyter.kernel.evaluator.ScijavaEvaluator] INFO slib.sml.sm.core.engine.SM_Engine - ---------------------------------------------------------------\n",
      "[SciJava-28b46504-Thread-org.scijava.jupyter.kernel.evaluator.ScijavaEvaluator] INFO slib.sml.sm.core.engine.SM_Engine - Inferring ancestors...\n",
      "[SciJava-28b46504-Thread-org.scijava.jupyter.kernel.evaluator.ScijavaEvaluator] INFO slib.graph.algo.extraction.rvf.AncestorEngine - Checking Treatment coherency\n",
      "[SciJava-28b46504-Thread-org.scijava.jupyter.kernel.evaluator.ScijavaEvaluator] INFO slib.graph.algo.extraction.rvf.AncestorEngine - Incoherencies : 0\n",
      "[SciJava-28b46504-Thread-org.scijava.jupyter.kernel.evaluator.ScijavaEvaluator] INFO slib.sml.sm.core.engine.SM_Engine - Inferring descendants...\n",
      "[SciJava-28b46504-Thread-org.scijava.jupyter.kernel.evaluator.ScijavaEvaluator] INFO slib.graph.algo.extraction.rvf.DescendantEngine - Checking Treatment coherency\n",
      "[SciJava-28b46504-Thread-org.scijava.jupyter.kernel.evaluator.ScijavaEvaluator] INFO slib.graph.algo.extraction.rvf.DescendantEngine - Incoherencies : 0\n",
      "[SciJava-28b46504-Thread-org.scijava.jupyter.kernel.evaluator.ScijavaEvaluator] INFO slib.sml.sm.core.engine.SM_Engine - Inferring Conceptual Leaves...\n",
      "[SciJava-28b46504-Thread-org.scijava.jupyter.kernel.evaluator.ScijavaEvaluator] INFO slib.sml.sm.core.engine.SM_Engine - ---------------------------------------------------------------\n",
      "[SciJava-28b46504-Thread-org.scijava.jupyter.kernel.evaluator.ScijavaEvaluator] INFO slib.sml.sm.core.engine.SM_Engine - Engine initialized\n",
      "[SciJava-28b46504-Thread-org.scijava.jupyter.kernel.evaluator.ScijavaEvaluator] INFO slib.sml.sm.core.engine.SM_Engine - ================================================================\n"
     ]
    },
    {
     "data": {
      "text/html": [
       "slib&#8203;.sml&#8203;.sm&#8203;.core&#8203;.engine&#8203;.SM&#8203;_Engine&#8203;@52403d1d"
      ]
     },
     "execution_count": 8,
     "metadata": {},
     "output_type": "execute_result"
    }
   ],
   "source": [
    "import org.openrdf.model.vocabulary.*\n",
    "import slib.sglib.io.loader.*\n",
    "import slib.sml.sm.core.metrics.ic.utils.*\n",
    "import slib.sml.sm.core.utils.*\n",
    "import slib.sglib.io.loader.bio.obo.*\n",
    "import org.openrdf.model.URI\n",
    "import slib.graph.algo.extraction.rvf.instances.*\n",
    "import slib.sglib.algo.graph.utils.*\n",
    "import slib.utils.impl.Timer\n",
    "import slib.graph.algo.extraction.utils.*\n",
    "import slib.graph.model.graph.*\n",
    "import slib.graph.model.repo.*\n",
    "import slib.graph.model.impl.graph.memory.*\n",
    "import slib.sml.sm.core.engine.*\n",
    "import slib.graph.io.conf.*\n",
    "import slib.graph.model.impl.graph.elements.*\n",
    "import slib.graph.algo.extraction.rvf.instances.impl.*\n",
    "import slib.graph.model.impl.repo.*\n",
    "import slib.graph.io.util.*\n",
    "import slib.graph.io.loader.*\n",
    "\n",
    "// configure the semantic similarity measure: use Resnik's (extrinsic) information content measure, and Resnik's similarity measure\n",
    "icConf = new IC_Conf_Topo(\"Sanchez\", SMConstants.FLAG_ICI_SANCHEZ_2011)\n",
    "smConfPairwise = new SMconf(\"Resnik\", SMConstants.FLAG_SIM_PAIRWISE_DAG_NODE_RESNIK_1995 )\n",
    "smConfPairwise.setICconf(icConf)\n",
    "\n",
    "// initialize the engine\n",
    "engine = new SM_Engine(graph)\n",
    "\n"
   ]
  },
  {
   "cell_type": "markdown",
   "metadata": {},
   "source": [
    "Now we can compare some classes and determine how similar they are. Feel free to change the code to some new classes and see how the similarity changes.\n",
    "\n",
    "You can use classes from the Human Phenotype Ontology (HPO) and the Mammalian Phenotype Ontology (MPO) for similarity computation between phenotypes. Since we are using the PhenomeNET ontology (see [our paper](http://journals.plos.org/ploscompbiol/article?id=10.1371/journal.pcbi.1005500)), classes in both ontologies are actually comparable."
   ]
  },
  {
   "cell_type": "code",
   "execution_count": 9,
   "metadata": {},
   "outputs": [
    {
     "name": "stderr",
     "output_type": "stream",
     "text": [
      "[SciJava-28b46504-Thread-org.scijava.jupyter.kernel.evaluator.ScijavaEvaluator] INFO slib.sml.sm.core.engine.SM_Engine - ---------------------------------------------------------------\n",
      "[SciJava-28b46504-Thread-org.scijava.jupyter.kernel.evaluator.ScijavaEvaluator] INFO slib.sml.sm.core.engine.SM_Engine - computing IC Sanchez\n",
      "[SciJava-28b46504-Thread-org.scijava.jupyter.kernel.evaluator.ScijavaEvaluator] INFO slib.sml.sm.core.engine.SM_Engine - ---------------------------------------------------------------\n",
      "[SciJava-28b46504-Thread-org.scijava.jupyter.kernel.evaluator.ScijavaEvaluator] INFO slib.sml.sm.core.engine.SM_Engine - Class name slib.sml.sm.core.metrics.ic.topo.ICi_sanchez_2011\n",
      "[SciJava-28b46504-Thread-org.scijava.jupyter.kernel.evaluator.ScijavaEvaluator] INFO slib.sml.sm.core.engine.SM_Engine - Computing Nb Reachable Leaves : start\n",
      "[SciJava-28b46504-Thread-org.scijava.jupyter.kernel.evaluator.ScijavaEvaluator] INFO slib.graph.algo.extraction.rvf.DescendantEngine - Retrieving all reachable leaves\n",
      "[SciJava-28b46504-Thread-org.scijava.jupyter.kernel.evaluator.ScijavaEvaluator] INFO slib.graph.algo.extraction.rvf.DescendantEngine - Propagation of leave counts start from 168068 leaves on 224752 concepts\n",
      "[SciJava-28b46504-Thread-org.scijava.jupyter.kernel.evaluator.ScijavaEvaluator] INFO slib.sml.sm.core.engine.SM_Engine - Computing Nb Reachable Leaves : end\n",
      "[SciJava-28b46504-Thread-org.scijava.jupyter.kernel.evaluator.ScijavaEvaluator] INFO slib.sml.sm.core.engine.SM_Engine - Checking null or infinite in the ICs computed\n",
      "[SciJava-28b46504-Thread-org.scijava.jupyter.kernel.evaluator.ScijavaEvaluator] INFO slib.sml.sm.core.engine.SM_Engine - ic Sanchez computed\n",
      "[SciJava-28b46504-Thread-org.scijava.jupyter.kernel.evaluator.ScijavaEvaluator] INFO slib.sml.sm.core.engine.SM_Engine - ---------------------------------------------------------------\n"
     ]
    },
    {
     "name": "stdout",
     "output_type": "stream",
     "text": [
      "Similarity between 'Ear pain' and 'mid frequency hearing loss': 8.617973362046424\n"
     ]
    }
   ],
   "source": [
    "// similarity between two classes from HPO\n",
    "cl1 = factory.getURI(\"http://purl.obolibrary.org/obo/HP_0030766\") // Ear pain\n",
    "cl2 = factory.getURI(\"http://purl.obolibrary.org/obo/HP_0012781\") // mid frequency hearing loss\n",
    "println \"Similarity between 'Ear pain' and 'mid frequency hearing loss': \"+engine.compare(smConfPairwise, cl1, cl2)\n"
   ]
  },
  {
   "cell_type": "code",
   "execution_count": 10,
   "metadata": {},
   "outputs": [
    {
     "name": "stdout",
     "output_type": "stream",
     "text": [
      "Similarity between 'Ear pain' and 'tetralogy of fallot': 5.755799731300896\n"
     ]
    }
   ],
   "source": [
    "// similarity between two classes from HPO\n",
    "cl2 = factory.getURI(\"http://purl.obolibrary.org/obo/HP_0001636\") // tetralogy of fallot\n",
    "println \"Similarity between 'Ear pain' and 'tetralogy of fallot': \"+engine.compare(smConfPairwise, cl1, cl2)\n"
   ]
  },
  {
   "cell_type": "code",
   "execution_count": null,
   "metadata": {},
   "outputs": [],
   "source": [
    "// similarity between two classes, one from HPO and one from MP\n",
    "cl1 = factory.getURI(\"http://purl.obolibrary.org/obo/MP_0004084\") // abnormal cardiac muscle relaxation\n",
    "cl2 = factory.getURI(\"http://purl.obolibrary.org/obo/HP_0001636\") // tetralogy of fallot\n",
    "println \"Similarity between 'abnormal cardiac muscle relaxation' (MP) and 'tetralogy of fallot' (HP): \"+engine.compare(smConfPairwise, cl1, cl2)\n"
   ]
  },
  {
   "cell_type": "code",
   "execution_count": 11,
   "metadata": {},
   "outputs": [
    {
     "name": "stdout",
     "output_type": "stream",
     "text": [
      "Similarity between 'ventricular septal defect' (MP) and 'tetralogy of fallot' (HP): 11.744447815899305\n"
     ]
    }
   ],
   "source": [
    "// similarity between two classes, one from HPO and one from MP\n",
    "cl1 = factory.getURI(\"http://purl.obolibrary.org/obo/MP_0010402\") // ventricular septal defect\n",
    "println \"Similarity between 'ventricular septal defect' (MP) and 'tetralogy of fallot' (HP): \"+engine.compare(smConfPairwise, cl1, cl2)\n"
   ]
  },
  {
   "cell_type": "markdown",
   "metadata": {},
   "source": [
    "So far, we have only looked at comparisons between two individual classes. This may be nice if we just want to understand how the classes in an ontology are related, but usually we want to compare _things that are annotated with classes_ from an ontology.\n",
    "\n",
    "We now download mouse phenotypes resulting from single gene knockouts (note: replace `http://www.informatics.jax.org/downloads/reports/MGI_GenePheno.rpt` with a `file:...` URL in case of slow Internet connection; you can find the file `MGI_GenePheno.rpt` in our data package), and add each gene as an instance of its phenotype classes (using an `rdf:type` edge). \n",
    "\n",
    "Important: this is __not__ the right way to do this in an ontology but is an artifact of the Semantic Measures Library. When building an ontology, a _gene_ is not an _instance_ of a phenotype, but will be related to the phenotype through other kinds of relations. In the Semantic Measures Library, we will treat them as instances, however."
   ]
  },
  {
   "cell_type": "code",
   "execution_count": 13,
   "metadata": {},
   "outputs": [],
   "source": [
    "import org.openrdf.model.vocabulary.*\n",
    "import slib.sglib.io.loader.*\n",
    "import slib.sml.sm.core.metrics.ic.utils.*\n",
    "import slib.sml.sm.core.utils.*\n",
    "import slib.sglib.io.loader.bio.obo.*\n",
    "import org.openrdf.model.URI\n",
    "import slib.graph.algo.extraction.rvf.instances.*\n",
    "import slib.sglib.algo.graph.utils.*\n",
    "import slib.utils.impl.Timer\n",
    "import slib.graph.algo.extraction.utils.*\n",
    "import slib.graph.model.graph.*\n",
    "import slib.graph.model.repo.*\n",
    "import slib.graph.model.impl.graph.memory.*\n",
    "import slib.sml.sm.core.engine.*\n",
    "import slib.graph.io.conf.*\n",
    "import slib.graph.model.impl.graph.elements.*\n",
    "import slib.graph.algo.extraction.rvf.instances.impl.*\n",
    "import slib.graph.model.impl.repo.*\n",
    "import slib.graph.io.util.*\n",
    "import slib.graph.io.loader.*\n",
    "\n",
    "// now we download mouse phenotype annotations and add them to our graph as instances (using rdf:type)\n",
    "new URL (\"file:misc/MGI_GenePheno.rpt\").getText().splitEachLine(\"\\t\") { line ->\n",
    "  def geneid = line[6]\n",
    "  def idUri = factory.getURI(\"http://phenomebrowser.net/ismb-tutorial/gene/\"+geneid)\n",
    "  def pheno = line[4].replaceAll(\":\",\"_\")\n",
    "  def phenoUri = factory.getURI(\"http://purl.obolibrary.org/obo/\"+pheno)\n",
    "  Edge e = new Edge(idUri, RDF.TYPE, phenoUri)\n",
    "  graph.addE(e)\n",
    "}\n"
   ]
  },
  {
   "cell_type": "markdown",
   "metadata": {},
   "source": [
    "In the presence of instances, we can change our class specificity measure. We now use Resnik's specificity measure, which is just the information content of a class (i.e., `-log(p(c))` where `p(c)` is the probability to have an instance annotated with the class. This is a specificity measure that relies on instances, and is therefore a _corpus-based_ measure (using `IC_Conf_Corpus` below).\n",
    "\n",
    "We also configure a group-wise measure now, using the Best-Matching Average strategy. This will allow us to compare sets of classes to sets of classes.\n",
    "\n",
    "Finally, the `InstanceAccessor` will allow us to identify all instances of our classes."
   ]
  },
  {
   "cell_type": "code",
   "execution_count": 14,
   "metadata": {},
   "outputs": [
    {
     "name": "stderr",
     "output_type": "stream",
     "text": [
      "[SciJava-28b46504-Thread-org.scijava.jupyter.kernel.evaluator.ScijavaEvaluator] INFO slib.sml.sm.core.engine.SM_Engine - ================================================================\n",
      "[SciJava-28b46504-Thread-org.scijava.jupyter.kernel.evaluator.ScijavaEvaluator] INFO slib.sml.sm.core.engine.SM_Engine - Loading Semantic Measures Engine for graph http://aber-owl.net/ismb-tutorial/\n",
      "[SciJava-28b46504-Thread-org.scijava.jupyter.kernel.evaluator.ScijavaEvaluator] INFO slib.sml.sm.core.engine.SM_Engine - ================================================================\n",
      "[SciJava-28b46504-Thread-org.scijava.jupyter.kernel.evaluator.ScijavaEvaluator] INFO slib.sml.sm.core.engine.SM_Engine - Graph Info: \n",
      "[SciJava-28b46504-Thread-org.scijava.jupyter.kernel.evaluator.ScijavaEvaluator] INFO slib.sml.sm.core.engine.SM_Engine - http://aber-owl.net/ismb-tutorial/\n",
      "Vertices\n",
      "\tTotal   : 237689  {e.g. http://purl.obolibrary.org/obo/HP_0011770}\n",
      "Edges \t  : 779607\n",
      "\n",
      "\n",
      "[SciJava-28b46504-Thread-org.scijava.jupyter.kernel.evaluator.ScijavaEvaluator] INFO slib.sml.sm.core.engine.SM_Engine - ---------------------------------------------------------------\n",
      "[SciJava-28b46504-Thread-org.scijava.jupyter.kernel.evaluator.ScijavaEvaluator] INFO slib.sml.sm.core.engine.SM_Engine - Pre-processing\n",
      "[SciJava-28b46504-Thread-org.scijava.jupyter.kernel.evaluator.ScijavaEvaluator] INFO slib.sml.sm.core.engine.SM_Engine - ---------------------------------------------------------------\n",
      "[SciJava-28b46504-Thread-org.scijava.jupyter.kernel.evaluator.ScijavaEvaluator] INFO slib.sml.sm.core.engine.SM_Engine - Computing classes...\n",
      "[SciJava-28b46504-Thread-org.scijava.jupyter.kernel.evaluator.ScijavaEvaluator] INFO slib.sml.sm.core.engine.SM_Engine - Computing instances...\n",
      "[SciJava-28b46504-Thread-org.scijava.jupyter.kernel.evaluator.ScijavaEvaluator] INFO slib.sml.sm.core.engine.SM_Engine - Classes  : 225475\n",
      "[SciJava-28b46504-Thread-org.scijava.jupyter.kernel.evaluator.ScijavaEvaluator] INFO slib.sml.sm.core.engine.SM_Engine - Instances: 12938\n",
      "[SciJava-28b46504-Thread-org.scijava.jupyter.kernel.evaluator.ScijavaEvaluator] INFO slib.sml.sm.core.engine.SM_Engine - ---------------------------------------------------------------\n",
      "[SciJava-28b46504-Thread-org.scijava.jupyter.kernel.evaluator.ScijavaEvaluator] INFO slib.sml.sm.core.engine.SM_Engine - Inferences \n",
      "[SciJava-28b46504-Thread-org.scijava.jupyter.kernel.evaluator.ScijavaEvaluator] INFO slib.sml.sm.core.engine.SM_Engine - ---------------------------------------------------------------\n",
      "[SciJava-28b46504-Thread-org.scijava.jupyter.kernel.evaluator.ScijavaEvaluator] INFO slib.sml.sm.core.engine.SM_Engine - Inferring ancestors...\n",
      "[SciJava-28b46504-Thread-org.scijava.jupyter.kernel.evaluator.ScijavaEvaluator] INFO slib.graph.algo.extraction.rvf.AncestorEngine - Checking Treatment coherency\n",
      "[SciJava-28b46504-Thread-org.scijava.jupyter.kernel.evaluator.ScijavaEvaluator] INFO slib.graph.algo.extraction.rvf.AncestorEngine - Incoherencies : 0\n",
      "[SciJava-28b46504-Thread-org.scijava.jupyter.kernel.evaluator.ScijavaEvaluator] INFO slib.sml.sm.core.engine.SM_Engine - Inferring descendants...\n",
      "[SciJava-28b46504-Thread-org.scijava.jupyter.kernel.evaluator.ScijavaEvaluator] INFO slib.graph.algo.extraction.rvf.DescendantEngine - Checking Treatment coherency\n",
      "[SciJava-28b46504-Thread-org.scijava.jupyter.kernel.evaluator.ScijavaEvaluator] INFO slib.graph.algo.extraction.rvf.DescendantEngine - Incoherencies : 0\n",
      "[SciJava-28b46504-Thread-org.scijava.jupyter.kernel.evaluator.ScijavaEvaluator] INFO slib.sml.sm.core.engine.SM_Engine - Inferring Conceptual Leaves...\n",
      "[SciJava-28b46504-Thread-org.scijava.jupyter.kernel.evaluator.ScijavaEvaluator] INFO slib.sml.sm.core.engine.SM_Engine - ---------------------------------------------------------------\n",
      "[SciJava-28b46504-Thread-org.scijava.jupyter.kernel.evaluator.ScijavaEvaluator] INFO slib.sml.sm.core.engine.SM_Engine - Engine initialized\n",
      "[SciJava-28b46504-Thread-org.scijava.jupyter.kernel.evaluator.ScijavaEvaluator] INFO slib.sml.sm.core.engine.SM_Engine - ================================================================\n"
     ]
    },
    {
     "data": {
      "text/html": [
       "slib&#8203;.graph&#8203;.algo&#8203;.extraction&#8203;.rvf&#8203;.instances&#8203;.impl&#8203;.InstanceAccessor&#8203;_RDF&#8203;_TYPE&#8203;@43e03378"
      ]
     },
     "execution_count": 14,
     "metadata": {},
     "output_type": "execute_result"
    }
   ],
   "source": [
    "import org.openrdf.model.vocabulary.*\n",
    "import slib.sglib.io.loader.*\n",
    "import slib.sml.sm.core.metrics.ic.utils.*\n",
    "import slib.sml.sm.core.utils.*\n",
    "import slib.sglib.io.loader.bio.obo.*\n",
    "import org.openrdf.model.URI\n",
    "import slib.graph.algo.extraction.rvf.instances.*\n",
    "import slib.sglib.algo.graph.utils.*\n",
    "import slib.utils.impl.Timer\n",
    "import slib.graph.algo.extraction.utils.*\n",
    "import slib.graph.model.graph.*\n",
    "import slib.graph.model.repo.*\n",
    "import slib.graph.model.impl.graph.memory.*\n",
    "import slib.sml.sm.core.engine.*\n",
    "import slib.graph.io.conf.*\n",
    "import slib.graph.model.impl.graph.elements.*\n",
    "import slib.graph.algo.extraction.rvf.instances.impl.*\n",
    "import slib.graph.model.impl.repo.*\n",
    "import slib.graph.io.util.*\n",
    "import slib.graph.io.loader.*\n",
    "\n",
    "\n",
    "// now that we have instances/annotations, we switch to Resnik's information content measure\n",
    "icConf = new IC_Conf_Corpus(\"ResnikIC\", SMConstants.FLAG_IC_ANNOT_RESNIK_1995_NORMALIZED)\n",
    "smConfPairwise.setICconf(icConf)\n",
    "// using Best-Matching Average to merge annotations when comparing sets of classes\n",
    "smConfGroupwise = new SMconf(\"BMA\", SMConstants.FLAG_SIM_GROUPWISE_BMA)\n",
    "// and re-initialize the graph\n",
    "engine = new SM_Engine(graph)\n",
    "\n",
    "// we need this to find our instances again\n",
    "ia = new InstanceAccessor_RDF_TYPE(graph)\n",
    "\n"
   ]
  },
  {
   "cell_type": "markdown",
   "metadata": {},
   "source": [
    "We can now compute again similarity between two classes. Note how the similarity values change. Feel free to experiment with this and compare different classes."
   ]
  },
  {
   "cell_type": "code",
   "execution_count": 15,
   "metadata": {},
   "outputs": [
    {
     "name": "stderr",
     "output_type": "stream",
     "text": [
      "[SciJava-28b46504-Thread-org.scijava.jupyter.kernel.evaluator.ScijavaEvaluator] INFO slib.sml.sm.core.engine.SM_Engine - ---------------------------------------------------------------\n",
      "[SciJava-28b46504-Thread-org.scijava.jupyter.kernel.evaluator.ScijavaEvaluator] INFO slib.sml.sm.core.engine.SM_Engine - computing IC ResnikIC\n",
      "[SciJava-28b46504-Thread-org.scijava.jupyter.kernel.evaluator.ScijavaEvaluator] INFO slib.sml.sm.core.engine.SM_Engine - ---------------------------------------------------------------\n",
      "[SciJava-28b46504-Thread-org.scijava.jupyter.kernel.evaluator.ScijavaEvaluator] INFO slib.sml.sm.core.engine.SM_Engine - Class name slib.sml.sm.core.metrics.ic.annot.IC_annot_resnik_1995_Normalized\n",
      "[SciJava-28b46504-Thread-org.scijava.jupyter.kernel.evaluator.ScijavaEvaluator] INFO slib.sml.sm.core.engine.SM_Engine - Checking null or infinite in the ICs computed\n",
      "[SciJava-28b46504-Thread-org.scijava.jupyter.kernel.evaluator.ScijavaEvaluator] INFO slib.sml.sm.core.engine.SM_Engine - ic ResnikIC computed\n",
      "[SciJava-28b46504-Thread-org.scijava.jupyter.kernel.evaluator.ScijavaEvaluator] INFO slib.sml.sm.core.engine.SM_Engine - ---------------------------------------------------------------\n"
     ]
    },
    {
     "name": "stdout",
     "output_type": "stream",
     "text": [
      "Similarity (Resnik) between 'abnormal cardiac muscle relaxation' (MP) and 'tetralogy of fallot' (HP): 0.30687152162569886\n"
     ]
    }
   ],
   "source": [
    "// similarity between two classes, one from HPO and one from MP\n",
    "cl1 = factory.getURI(\"http://purl.obolibrary.org/obo/MP_0004084\") // abnormal cardiac muscle relaxation\n",
    "cl2 = factory.getURI(\"http://purl.obolibrary.org/obo/HP_0001636\") // tetralogy of fallot\n",
    "println \"Similarity (Resnik) between 'abnormal cardiac muscle relaxation' (MP) and 'tetralogy of fallot' (HP): \"+engine.compare(smConfPairwise, cl1, cl2)\n"
   ]
  },
  {
   "cell_type": "code",
   "execution_count": 16,
   "metadata": {},
   "outputs": [
    {
     "name": "stdout",
     "output_type": "stream",
     "text": [
      "Similarity (Resnik) between 'ventricular septal defect' (MP) and 'tetralogy of fallot' (HP): 0.5605218915985221\n"
     ]
    }
   ],
   "source": [
    "// similarity between two classes, one from HPO and one from MP\n",
    "cl1 = factory.getURI(\"http://purl.obolibrary.org/obo/MP_0010402\") // ventricular septal defect\n",
    "println \"Similarity (Resnik) between 'ventricular septal defect' (MP) and 'tetralogy of fallot' (HP): \"+engine.compare(smConfPairwise, cl1, cl2)\n"
   ]
  },
  {
   "cell_type": "markdown",
   "metadata": {},
   "source": [
    "With the presence of mouse genes as instances in our semantic graph, we can do some more sophisticated analyses. Here, we define a patient through a set of phenotypes (i.e., clinical signs and symptoms). The patient has a rare, heritable form of macular dystrophy without known etiology (see https://www.omim.org/entry/153840). We hypothesize that there may be a mouse knockout that resembles this disease, and possibly the human ortholog of the mouse gene may also be involved in this form of macular dystrophy.\n",
    "\n",
    "We compare our patient to _all_ instances in our graph (i.e., all mouse knockouts) using our measure of phenotypic similarity. We then sort the resulting list by their similarity score in descending order, and output the top 10 predictions."
   ]
  },
  {
   "cell_type": "code",
   "execution_count": 18,
   "metadata": {},
   "outputs": [
    {
     "name": "stdout",
     "output_type": "stream",
     "text": [
      "Highest ranking genes for patient 1 (macular dystrophy): \n"
     ]
    },
    {
     "data": {
      "text/html": [
       "<style>table.converted {color: #333; font-family: Helvetica, Arial, sans-serif; border-collapse: collapse; border-spacing: 0;}table.converted td, table.converted th {border: 1px solid #C9C7C7;}table.converted th, table.converted td.rowLabel {background: #626262; color: #FFFFFF; font-weight: bold; text-align: left;}table.converted td {text-align: left;}table.converted tr:nth-child(even) {background: #F3F3F3;}table.converted tr:nth-child(odd) {background: #FFFFFF;}table.converted tbody tr:hover {background: #BDF4B5;}table.converted td.rowLabel, table.converted th.rowLabel {display: none;}</style><table class=\"converted\"><tbody><tr><td>{gene=http://phenomebrowser&#8203;.net/ismb-tutorial/gene/MGI:5792188, sim=0&#8203;.5555893918721817}</td></tr><tr><td>{gene=http://phenomebrowser&#8203;.net/ismb-tutorial/gene/MGI:1097692, sim=0&#8203;.5423467880015543}</td></tr><tr><td>{gene=http://phenomebrowser&#8203;.net/ismb-tutorial/gene/MGI:1915084, sim=0&#8203;.5276590352710075}</td></tr><tr><td>{gene=http://phenomebrowser&#8203;.net/ismb-tutorial/gene/MGI:2384871, sim=0&#8203;.5198831701567547}</td></tr><tr><td>{gene=http://phenomebrowser&#8203;.net/ismb-tutorial/gene/MGI:97525, sim=0&#8203;.5064965880467487}</td></tr><tr><td>{gene=http://phenomebrowser&#8203;.net/ismb-tutorial/gene/MGI:2685267, sim=0&#8203;.5015339678444678}</td></tr><tr><td>{gene=http://phenomebrowser&#8203;.net/ismb-tutorial/gene/MGI:95793, sim=0&#8203;.49775295336856695}</td></tr><tr><td>{gene=http://phenomebrowser&#8203;.net/ismb-tutorial/gene/MGI:1277953, sim=0&#8203;.4960533580227945}</td></tr><tr><td>{gene=http://phenomebrowser&#8203;.net/ismb-tutorial/gene/MGI:2448607, sim=0&#8203;.49545547645498755}</td></tr><tr><td>{gene=http://phenomebrowser&#8203;.net/ismb-tutorial/gene/MGI:1341818, sim=0&#8203;.4940524682750143}</td></tr><tr><td>{gene=http://phenomebrowser&#8203;.net/ismb-tutorial/gene/MGI:1339969, sim=0&#8203;.489986747260717}</td></tr></tbody></table>"
      ]
     },
     "execution_count": 18,
     "metadata": {},
     "output_type": "execute_result"
    }
   ],
   "source": [
    "// that's our patient, with a single phenotype of an orphan disease, \"MACULAR DYSTROPHY, VITELLIFORM, 1; VMD1\" (https://www.omim.org/entry/153840)\n",
    "Set patient = [ factory.getURI(\"http://purl.obolibrary.org/obo/HP_0007754\"), factory.getURI(\"http://purl.obolibrary.org/obo/HP_0007663\"), factory.getURI(\"http://purl.obolibrary.org/obo/HP_0001123\"), \n",
    "  factory.getURI(\"http://purl.obolibrary.org/obo/HP_0000505\"), factory.getURI(\"http://purl.obolibrary.org/obo/HP_0007677\") ]\n",
    "// we store the similarity values in the results set\n",
    "def results = new LinkedHashSet()\n",
    "engine.getInstances().each { gene ->\n",
    "  def phenoSet = ia.getDirectClass(gene) // gets all the annotations of each instance (gene)\n",
    "  Expando exp = new Expando()\n",
    "  try { // this part might fail if the version of MP we use to compute similarity and the MP used for annotation is different; we ignore all errors for now\n",
    "    exp.sim = engine.compare(smConfGroupwise, smConfPairwise, phenoSet, patient)\n",
    "    exp.gene = gene\n",
    "    results.add(exp)\n",
    "  } catch (Exception E) {}\n",
    "}\n",
    "// sorting results by similarity (highest first) and output the top 10 predictions\n",
    "println \"Highest ranking genes for patient 1 (macular dystrophy): \"\n",
    "results.sort { it.sim }.reverse()[0..10]\n"
   ]
  },
  {
   "cell_type": "markdown",
   "metadata": {},
   "source": [
    "We test this with another patient, this time with Wiskott-Aldrich Syndrome (https://www.omim.org/entry/301000). \n",
    "Wiskott-Aldrich Syndrome is a rare genetically-based disease in which the WAS gene is known to be causally involved. In the mouse, there is also a FOXP3 model that is used as a disease model for Wiskott-Aldrich syndrome (http://www.informatics.jax.org/allele/MGI:1857034)."
   ]
  },
  {
   "cell_type": "code",
   "execution_count": 19,
   "metadata": {},
   "outputs": [
    {
     "name": "stdout",
     "output_type": "stream",
     "text": [
      "Highest ranking genes for patient 2 (Wiskott Aldrich Syndrom): \n"
     ]
    },
    {
     "data": {
      "text/html": [
       "<style>table.converted {color: #333; font-family: Helvetica, Arial, sans-serif; border-collapse: collapse; border-spacing: 0;}table.converted td, table.converted th {border: 1px solid #C9C7C7;}table.converted th, table.converted td.rowLabel {background: #626262; color: #FFFFFF; font-weight: bold; text-align: left;}table.converted td {text-align: left;}table.converted tr:nth-child(even) {background: #F3F3F3;}table.converted tr:nth-child(odd) {background: #FFFFFF;}table.converted tbody tr:hover {background: #BDF4B5;}table.converted td.rowLabel, table.converted th.rowLabel {display: none;}</style><table class=\"converted\"><tbody><tr><td>{gene=http://phenomebrowser&#8203;.net/ismb-tutorial/gene/MGI:102849, sim=0&#8203;.5188118012539226}</td></tr><tr><td>{gene=http://phenomebrowser&#8203;.net/ismb-tutorial/gene/MGI:96548, sim=0&#8203;.5107686733622316}</td></tr><tr><td>{gene=http://phenomebrowser&#8203;.net/ismb-tutorial/gene/MGI:98941, sim=0&#8203;.5092662894962212}</td></tr><tr><td>{gene=http://phenomebrowser&#8203;.net/ismb-tutorial/gene/MGI:1349436, sim=0&#8203;.5001870224320165}</td></tr><tr><td>{gene=http://phenomebrowser&#8203;.net/ismb-tutorial/gene/MGI:1918576, sim=0&#8203;.48993342722986777}</td></tr><tr><td>{gene=http://phenomebrowser&#8203;.net/ismb-tutorial/gene/MGI:87967, sim=0&#8203;.48933405215860903}</td></tr><tr><td>{gene=http://phenomebrowser&#8203;.net/ismb-tutorial/gene/MGI:5792227, sim=0&#8203;.4891438237476968}</td></tr><tr><td>{gene=http://phenomebrowser&#8203;.net/ismb-tutorial/gene/MGI:1891436, sim=0&#8203;.48810218219880075}</td></tr><tr><td>{gene=http://phenomebrowser&#8203;.net/ismb-tutorial/gene/MGI:2180699, sim=0&#8203;.4876913998812737}</td></tr><tr><td>{gene=http://phenomebrowser&#8203;.net/ismb-tutorial/gene/MGI:96549, sim=0&#8203;.4847793602161192}</td></tr><tr><td>{gene=http://phenomebrowser&#8203;.net/ismb-tutorial/gene/MGI:1919073, sim=0&#8203;.4841476580703824}</td></tr></tbody></table>"
      ]
     },
     "execution_count": 19,
     "metadata": {},
     "output_type": "execute_result"
    }
   ],
   "source": [
    "// another patient with Wiskott-Aldrich Syndrome\n",
    "Set patient = [ factory.getURI(\"http://purl.obolibrary.org/obo/HP_0000112\"), factory.getURI(\"http://purl.obolibrary.org/obo/HP_0000225\"), factory.getURI(\"http://purl.obolibrary.org/obo/HP_0000246\"), factory.getURI(\"http://purl.obolibrary.org/obo/HP_0000388\"), factory.getURI(\"http://purl.obolibrary.org/obo/HP_0000421\"), factory.getURI(\"http://purl.obolibrary.org/obo/HP_0000964\"), factory.getURI(\"http://purl.obolibrary.org/obo/HP_0000967\"), factory.getURI(\"http://purl.obolibrary.org/obo/HP_0000979\"), factory.getURI(\"http://purl.obolibrary.org/obo/HP_0001287\"), factory.getURI(\"http://purl.obolibrary.org/obo/HP_0001419\"), factory.getURI(\"http://purl.obolibrary.org/obo/HP_0001873\"), factory.getURI(\"http://purl.obolibrary.org/obo/HP_0001878\"), factory.getURI(\"http://purl.obolibrary.org/obo/HP_0001888\"), factory.getURI(\"http://purl.obolibrary.org/obo/HP_0001891\"), factory.getURI(\"http://purl.obolibrary.org/obo/HP_0001983\"), factory.getURI(\"http://purl.obolibrary.org/obo/HP_0002037\"), factory.getURI(\"http://purl.obolibrary.org/obo/HP_0002090\"), factory.getURI(\"http://purl.obolibrary.org/obo/HP_0002248\"), factory.getURI(\"http://purl.obolibrary.org/obo/HP_0002249\"), factory.getURI(\"http://purl.obolibrary.org/obo/HP_0002783\"), factory.getURI(\"http://purl.obolibrary.org/obo/HP_0002788\"), factory.getURI(\"http://purl.obolibrary.org/obo/HP_0002848\"), factory.getURI(\"http://purl.obolibrary.org/obo/HP_0002850\"), factory.getURI(\"http://purl.obolibrary.org/obo/HP_0002963\"), factory.getURI(\"http://purl.obolibrary.org/obo/HP_0002971\"), factory.getURI(\"http://purl.obolibrary.org/obo/HP_0003010\"), factory.getURI(\"http://purl.obolibrary.org/obo/HP_0003212\"), factory.getURI(\"http://purl.obolibrary.org/obo/HP_0003261\"), factory.getURI(\"http://purl.obolibrary.org/obo/HP_0005310\"), factory.getURI(\"http://purl.obolibrary.org/obo/HP_0005537\"), factory.getURI(\"http://purl.obolibrary.org/obo/HP_0011944\"), factory.getURI(\"http://purl.obolibrary.org/obo/HP_0040184\") ]\n",
    "def results = new LinkedHashSet()\n",
    "engine.getInstances().each { gene ->\n",
    "  def phenoSet = ia.getDirectClass(gene) // gets all the annotations of each instance (gene)\n",
    "  Expando exp = new Expando()\n",
    "  try { // this might fail if the version of MP we use to compute similarity and the MP used for annotation is different; we ignore this for now\n",
    "    exp.sim = engine.compare(smConfGroupwise, smConfPairwise, phenoSet, patient)\n",
    "    exp.gene = gene\n",
    "    results.add(exp)\n",
    "  } catch (Exception E) { }\n",
    "}\n",
    "// sorting results by similarity (highest first) and output the top 10 predictions\n",
    "println \"Highest ranking genes for patient 2 (Wiskott Aldrich Syndrom): \"\n",
    "results.sort { it.sim }.reverse()[0..10] // includes MGI:1891436, FOXP3\n"
   ]
  },
  {
   "cell_type": "markdown",
   "metadata": {},
   "source": [
    "## Ontology embeddings\n",
    "\n",
    "Given an ontology $O = (C, R, I; ax; \\vdash)$ with classes $C$, relations $R$, instances $I$, axioms $ax$, and an inference relation $\\vdash$, an ontology embedding is a function $f: C \\cup R \\cup I \\mapsto \\mathbf{R}^n$ that maps the entities in the ontology into an $n$-dimension vector space (subject to certain constraints).\n",
    "\n",
    "Here, we use the OPA2Vec tool (https://github.com/bio-ontology-research-group/opa2vec/) to generate ontology embeddings for classes in PhenomeNET, mouse genes (and their phenotypes), and OMIM diseases (and their phenotypes). We get the data from http://www.informatics.jax.org/downloads/reports/MGI_GenePheno.rpt and http://compbio.charite.de/jenkins/job/hpo.annotations/lastStableBuild/artifact/misc/phenotype_annotation.tab and then prepare it for OPA2Vec. We will generate the association file for OPA2Vec first.\n"
   ]
  },
  {
   "cell_type": "code",
   "execution_count": 20,
   "metadata": {},
   "outputs": [],
   "source": [
    "PrintWriter fout = new PrintWriter(new BufferedWriter(new FileWriter(\"misc/phenotype-associations.txt\")))\n",
    "new File(\"misc/MGI_GenePheno.rpt\").splitEachLine(\"\\t\") { line ->\n",
    "    def id = line[-2]\n",
    "    def p = \"<http://purl.obolibrary.org/\"+line[-4].replaceAll(\":\",\"_\")+\">\"\n",
    "    fout.println(id+\"\\t\"+p)\n",
    "}\n",
    "\n",
    "new File(\"misc/phenotype_annotation.tab\").splitEachLine(\"\\t\") { line ->\n",
    "    def id = line[0]+\":\"+line[1]\n",
    "    def p = \"<http://purl.obolibrary.org/obo/\"+line[4].replaceAll(\":\", \"_\")+\">\"\n",
    "    fout.println(id+\"\\t\"+p)\n",
    "}\n",
    "fout.flush()\n",
    "fout.close()"
   ]
  },
  {
   "cell_type": "markdown",
   "metadata": {},
   "source": [
    "The next step is to generate the embedding function and embedding vectors. We are not going to do this here, but will use the OPA2Vec command line tool. You can do this during this tutorial, but it may take quite some time to finish, so we will just continue with the output of OPA2Vec in the next steps.\n",
    "To run OPA2Vec with PhenomeNET and the association file we just generated, use this (adjust the pathnames to your own locations):\n",
    "`python2 opa2vec/runOPA2Vec.py -ontology merged-phenomenet.owl -associations misc/phenotype-associations.txt -outfile misc/phenome-vec.txt -embedsize 200 -pretrained opa2vec/PMC_model/PMC_model.txt -reasoner elk`\n",
    "The result will be one file, `misc/phenome-vec.txt`, which contains the vectors (of size 200) for each class, each gene, and each disease. It's not very nicely formatted for what we want to do here, and it contains vectors for every class in the ontology which we won't use, so we will do some reformatting and skip the things we don't need, and the remaining vectors will end up in a map. \n",
    "\n",
    "In the end, we output the embedding vector for the Tetralogy of Fallot (OMIM:187500)."
   ]
  },
  {
   "cell_type": "code",
   "execution_count": null,
   "metadata": {},
   "outputs": [],
   "source": [
    "\"python2 opa2vec/runOPA2Vec.py -ontology merged-phenomenet.owl -associations misc/phenotype-associations.txt -outfile misc/phenome-vec.txt -embedsize 200 -pretrained opa2vec/PMC_model/PMC_model.txt -reasoner elk\".execute()"
   ]
  },
  {
   "cell_type": "code",
   "execution_count": null,
   "metadata": {},
   "outputs": [],
   "source": [
    "import java.util.zip.*\n",
    "\n",
    "map = [:]\n",
    "InputStream fileStream = new FileInputStream(\"misc/phenome-vec.txt.gz\")\n",
    "InputStream gzipStream = new GZIPInputStream(fileStream)\n",
    "Reader decoder = new InputStreamReader(gzipStream)\n",
    "BufferedReader fin = new BufferedReader(decoder)\n",
    "def current = null\n",
    "fin.eachLine { line ->\n",
    "    if (line.indexOf(\"[\")>-1) { // new vector starts here\n",
    "      if (line.indexOf(\"MGI\")>-1 || line.indexOf(\"OMIM\")>-1) { // gene or disease; otherwise ignore\n",
    "          toks = line.replaceAll(\"]\",\"\").replaceAll(\"\\\\[\",\"\")trim().split(\" +\")\n",
    "          current = toks[0]\n",
    "          map[current] = []\n",
    "          toks[1..-1].each { map[current] << new Double(it) }\n",
    "      } else {\n",
    "          current = null\n",
    "      }\n",
    "    } else {\n",
    "        if (current != null) {\n",
    "          toks = line.replaceAll(\"]\",\"\").replaceAll(\"\\\\[\",\"\")trim().split(\" +\")\n",
    "          toks[0..-1].each { map[current] << new Double(it) }\n",
    "        }\n",
    "    }\n",
    "}\n",
    "map[\"OMIM:187500\"]"
   ]
  },
  {
   "cell_type": "code",
   "execution_count": null,
   "metadata": {},
   "outputs": [],
   "source": [
    "Double cosineSimilarity(def a, def b) {\n",
    "    double dotProduct = 0.0\n",
    "    double normA = 0.0\n",
    "    double normB = 0.0\n",
    "    for (int i = 0; i < a.size(); i++) {\n",
    "        dotProduct += a[i] * b[i]\n",
    "        normA += Math.pow(a[i], 2);\n",
    "        normB += Math.pow(b[i], 2);\n",
    "    }   \n",
    "    return dotProduct / (Math.sqrt(normA) * Math.sqrt(normB))\n",
    "}\n",
    "println cosineSimilarity(map[\"OMIM:187500\"], map[\"OMIM:209900\"])\n",
    "println cosineSimilarity(map[\"OMIM:187500\"], map[\"MGI:99604\"])"
   ]
  },
  {
   "cell_type": "code",
   "execution_count": null,
   "metadata": {},
   "outputs": [],
   "source": [
    "#!groovy\n",
    "def maxval = 0\n",
    "def max = \"\"\n",
    "map.keySet().each {k ->\n",
    "    if (k.indexOf(\"MGI\")>-1 && map[k]) { // mouse genes only\n",
    "        if (map[\"OMIM:187500\"].size()!=map[k].size()) {\n",
    "            println \"$k: \"+map[k].size()+\" \"+map[\"OMIM:187500\"].size()\n",
    "        }\n",
    "        def val = cosineSimilarity(map[\"OMIM:613011\"], map[k])\n",
    "        if (val > maxval) {\n",
    "            maxval = val\n",
    "            max = k\n",
    "        }\n",
    "    }\n",
    "}\n",
    "println \"$max $maxval\""
   ]
  },
  {
   "cell_type": "code",
   "execution_count": null,
   "metadata": {},
   "outputs": [],
   "source": []
  },
  {
   "cell_type": "code",
   "execution_count": null,
   "metadata": {},
   "outputs": [],
   "source": [
    "from sklearn.manifold import TSNE\n"
   ]
  },
  {
   "cell_type": "code",
   "execution_count": null,
   "metadata": {},
   "outputs": [],
   "source": []
  }
 ],
 "metadata": {
  "kernelspec": {
   "display_name": "SciJava",
   "language": "groovy",
   "name": "scijava"
  },
  "language_info": {
   "codemirror_mode": "groovy",
   "file_extension": "",
   "mimetype": "",
   "name": "scijava",
   "nbconverter_exporter": "",
   "pygments_lexer": "groovy",
   "version": "1.0"
  }
 },
 "nbformat": 4,
 "nbformat_minor": 2
}
