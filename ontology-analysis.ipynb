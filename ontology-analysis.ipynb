{
 "cells": [
  {
   "cell_type": "markdown",
   "metadata": {},
   "source": [
    "## Welcome to the Ontology Tutorial hand-on session. \n",
    "\n",
    "Here, we will demonstrate how to use ontologies through the OWLAPI, classify ontologies, reason over them, and compute semantic similarity. In the second part, we will also use machine learning with ontologies.\n",
    "\n",
    "If you have not done so, please download our data package from http://aber-owl.net/aber-owl/diseasephenotypes/ontology/ontology-tutorial.tar.gz\n",
    "\n",
    "To run a piece of code, just go to the box, and either press Shift+Enter, or click on the \"run cell\" button in the menu bar.\n",
    "\n",
    "__Please run the first cell before the tutorial!__\n",
    "This will download all the Java libraries we need.\n",
    "\n",
    "Go ahead now and run the first cell. It may take a while to download all the libraries, so you may want to get a coffee while it's running."
   ]
  },
  {
   "cell_type": "code",
   "execution_count": 1,
   "metadata": {},
   "outputs": [],
   "source": [
    "#!groovy\n",
    "// @NotebookService nb"
   ]
  },
  {
   "cell_type": "code",
   "execution_count": null,
   "metadata": {},
   "outputs": [],
   "source": [
    "// Download dependencies using Groovy's Grape system\n",
    "import groovy.grape.Grape\n",
    "Grape.grab(group:'org.semanticweb.elk', module:'elk-owlapi', version:'0.4.3')\n",
    "Grape.grab(group:'net.sourceforge.owlapi', module:'owlapi-api', version:'4.2.5')\n",
    "Grape.grab(group:'net.sourceforge.owlapi', module:'owlapi-apibinding', version:'4.2.5')\n",
    "Grape.grab(group:'net.sourceforge.owlapi', module:'owlapi-impl', version:'4.2.5')\n",
    "Grape.grab(group:'com.github.sharispe', module:'slib-sml', version:'0.9.1')"
   ]
  },
  {
   "cell_type": "markdown",
   "metadata": {},
   "source": [
    "We will now show some basic operations on ontologies. We need to import lots of classes from the OWLAPI, create an OWL ontology manager, load the ontology, and start exploring a bit.\n",
    "\n",
    "The code below may need to be modified a bit. In the line `ont = manager.loadOntologyFromOntologyDocument(new IRI(\"file:merged-phenomenet.owl\"))`, please change the path to where you have extracted the content of our data package. For example, if you extracted the content of our data package to `/tmp/`, replace `file:merged-phenomenet.owl` with `file:/tmp/merged-phenomenet.owl`.\n",
    "\n",
    "__If you have memory problems:__ The ontology is rather large and requires around 10GB of memory to load (and later to classify). If you have problems loading this ontology, download `phenomenet-inferred.owl` from our Github site and replace `file:merged-phenomenet.owl` with `file:phenomenet-inferred.owl` in the code below (you just need to comment out the line which loads the ontology and uncomment the alternative)."
   ]
  },
  {
   "cell_type": "code",
   "execution_count": 5,
   "metadata": {},
   "outputs": [
    {
     "data": {
      "text/html": [
       "224748"
      ]
     },
     "execution_count": 5,
     "metadata": {},
     "output_type": "execute_result"
    }
   ],
   "source": [
    "// opens ontology file and prints the number of classes\n",
    "\n",
    "// import what we need\n",
    "import java.net.*\n",
    "import org.semanticweb.owlapi.model.parameters.*\n",
    "import org.semanticweb.elk.owlapi.ElkReasonerFactory;\n",
    "import org.semanticweb.elk.owlapi.ElkReasonerConfiguration\n",
    "import org.semanticweb.elk.reasoner.config.*\n",
    "import org.semanticweb.owlapi.apibinding.OWLManager;\n",
    "import org.semanticweb.owlapi.reasoner.*\n",
    "import org.semanticweb.owlapi.reasoner.structural.StructuralReasoner\n",
    "import org.semanticweb.owlapi.vocab.OWLRDFVocabulary;\n",
    "import org.semanticweb.owlapi.model.*;\n",
    "import org.semanticweb.owlapi.io.*;\n",
    "import org.semanticweb.owlapi.owllink.*;\n",
    "import org.semanticweb.owlapi.util.*;\n",
    "import org.semanticweb.owlapi.search.*;\n",
    "import org.semanticweb.owlapi.manchestersyntax.renderer.*;\n",
    "import org.semanticweb.owlapi.reasoner.structural.*\n",
    " \n",
    "// Let's load an ontology and output the number of classes\n",
    "// Create the ontology manager\n",
    "manager = OWLManager.createOWLOntologyManager()\n",
    "// create data factory (to create axioms, classes, etc.)\n",
    "fac = manager.getOWLDataFactory()\n",
    "// Load the latest version of the PhenomeNET Ontology; for more information about this ontology, see http://journals.plos.org/ploscompbiol/article?id=10.1371/journal.pcbi.1005500\n",
    "\n",
    "ont = manager.loadOntologyFromOntologyDocument(new IRI(\"file:merged-phenomenet.owl\"))\n",
    "\n",
    "// Use the next line instead if you have memory problems loading the ontology above (comment out the line above and uncomment this line):\n",
    "//ont = manager.loadOntologyFromOntologyDocument(new IRI(\"file:phenomenet-inferred.owl\"))\n",
    "\n",
    "ont.getClassesInSignature(true).size()"
   ]
  },
  {
   "cell_type": "markdown",
   "metadata": {},
   "source": [
    "## Reasoning with ontologies\n",
    "\n",
    "Reasoning means we use inference rules that use the axioms within the ontology to extract new knowledge (which may or may not be explicitly stated). The most basic operation an OWL reasoner does is to perform _classification_, i.e., it identifies for each class its sub- and super-classes. OWL reasoners can also be used to query ontologies, and find, for example, sub-classes of named classes or complex class descriptions.\n",
    "\n",
    "Reasoning in OWL may be very complex. For example, automated reasoning in OWL 2 is 2NEXPTIME-complete, and will therefore not scale well on arbitrary ontologies. Fortunately, many optimized reasoners exist, so the theoretical limitations are not always a barrier in practise. Nevertheless, OWL 2 comes with several sub-langes (OWL 2 EL, QL, and RL) which guarantee more efficient automated reasoning. In particular the OWL 2 EL language profile is widely used in biological and biomedical ontologies.\n",
    "\n",
    "In the first box below, we will just create a new OWL reasoner object (using the OWL 2 EL reasoner [ELK](https://github.com/liveontologies/elk-reasoner)). In the second box, we will use this reasoner to find all the subclasses of the \"Mode of inheritance\" class in the Human Phenotype Ontology, and output the classes and their labels."
   ]
  },
  {
   "cell_type": "code",
   "execution_count": 6,
   "metadata": {},
   "outputs": [
    {
     "data": {
      "text/html": [
       "org&#8203;.semanticweb&#8203;.elk&#8203;.owlapi&#8203;.ElkReasoner&#8203;@792a2622"
      ]
     },
     "execution_count": 6,
     "metadata": {},
     "output_type": "execute_result"
    }
   ],
   "source": [
    "// import what we need\n",
    "import java.net.*\n",
    "import org.semanticweb.owlapi.model.parameters.*\n",
    "import org.semanticweb.elk.owlapi.ElkReasonerFactory;\n",
    "import org.semanticweb.elk.owlapi.ElkReasonerConfiguration\n",
    "import org.semanticweb.elk.reasoner.config.*\n",
    "import org.semanticweb.owlapi.apibinding.OWLManager;\n",
    "import org.semanticweb.owlapi.reasoner.*\n",
    "import org.semanticweb.owlapi.reasoner.structural.StructuralReasoner\n",
    "import org.semanticweb.owlapi.vocab.OWLRDFVocabulary;\n",
    "import org.semanticweb.owlapi.model.*;\n",
    "import org.semanticweb.owlapi.io.*;\n",
    "import org.semanticweb.owlapi.owllink.*;\n",
    "import org.semanticweb.owlapi.util.*;\n",
    "import org.semanticweb.owlapi.search.*;\n",
    "import org.semanticweb.owlapi.manchestersyntax.renderer.*;\n",
    "import org.semanticweb.owlapi.reasoner.structural.*\n",
    "\n",
    "ConsoleProgressMonitor progressMonitor = new ConsoleProgressMonitor()\n",
    "OWLReasonerConfiguration config = new SimpleConfiguration(progressMonitor)\n",
    "ElkReasonerFactory f1 = new ElkReasonerFactory()\n",
    "reasoner = f1.createReasoner(ont,config)\n"
   ]
  },
  {
   "cell_type": "code",
   "execution_count": 7,
   "metadata": {},
   "outputs": [
    {
     "name": "stdout",
     "output_type": "stream",
     "text": [
      "Loading ...\n",
      "    1%\n",
      "    2%\n",
      "    3%\n",
      "    4%\n",
      "    5%\n",
      "    6%\n",
      "    7%\n",
      "    8%\n",
      "    9%\n",
      "    10%\n",
      "    11%\n",
      "    12%\n",
      "    13%\n",
      "    14%\n",
      "    15%\n",
      "    16%\n",
      "    17%\n",
      "    18%\n",
      "    19%\n",
      "    20%\n",
      "    21%\n",
      "    22%\n",
      "    23%\n",
      "    24%\n",
      "    25%\n",
      "    26%\n",
      "    27%\n",
      "    28%\n",
      "    29%\n",
      "    30%\n",
      "    31%\n",
      "    32%\n",
      "    33%\n",
      "    34%\n",
      "    35%\n",
      "    36%\n",
      "    37%\n",
      "    38%\n",
      "    39%\n",
      "    40%\n",
      "    41%\n",
      "    42%\n",
      "    43%\n",
      "    44%\n",
      "    45%\n",
      "    46%\n",
      "    47%\n",
      "    48%\n",
      "    49%\n",
      "    50%\n",
      "    51%\n",
      "    52%\n",
      "    53%\n",
      "    54%\n",
      "    55%\n",
      "    56%\n",
      "    57%\n",
      "    58%\n",
      "    59%\n",
      "    60%\n",
      "    61%\n",
      "    62%\n",
      "    63%\n",
      "    64%\n",
      "    65%\n",
      "    66%\n",
      "    67%\n",
      "    68%\n",
      "    69%\n",
      "    70%\n",
      "    71%\n",
      "    72%\n",
      "    73%\n",
      "    74%\n",
      "    75%\n",
      "    76%\n",
      "    77%\n",
      "    78%\n",
      "    79%\n",
      "    80%\n",
      "    81%\n",
      "    82%\n",
      "    83%\n",
      "    84%\n",
      "    85%\n",
      "    86%\n",
      "    87%\n",
      "    88%\n",
      "    89%\n",
      "    90%\n",
      "    91%\n",
      "    92%\n",
      "    93%\n",
      "    94%\n",
      "    95%\n",
      "    96%\n",
      "    97%\n",
      "    98%\n",
      "    99%\n",
      "    ... finished\n",
      "Gonosomal inheritance (http://purl.obolibrary.org/obo/HP_0010985)\n",
      "Digenic inheritance (http://purl.obolibrary.org/obo/HP_0010984)\n",
      "Oligogenic inheritance (http://purl.obolibrary.org/obo/HP_0010983)\n",
      "Polygenic inheritance (http://purl.obolibrary.org/obo/HP_0010982)\n",
      "X-linked inheritance (http://purl.obolibrary.org/obo/HP_0001417)\n",
      "X-linked recessive inheritance (http://purl.obolibrary.org/obo/HP_0001419)\n",
      "Autosomal recessive inheritance (http://purl.obolibrary.org/obo/HP_0000007)\n",
      "Autosomal dominant (http://purl.obolibrary.org/obo/HP_0000006)\n",
      "Autosomal dominant inheritance (http://purl.obolibrary.org/obo/HP_0000006)\n",
      "Male-limited autosomal dominant (http://purl.obolibrary.org/obo/HP_0001475)\n",
      "Autosomal dominant contiguous gene syndrome (http://purl.obolibrary.org/obo/HP_0001452)\n",
      "Sex-limited autosomal dominant (http://purl.obolibrary.org/obo/HP_0001470)\n",
      "Familial predisposition (http://purl.obolibrary.org/obo/HP_0001472)\n",
      "Y-linked inheritance (http://purl.obolibrary.org/obo/HP_0001450)\n",
      "Autosomal dominant inheritance with paternal imprinting (http://purl.obolibrary.org/obo/HP_0012274)\n",
      "Autosomal dominant inheritance with maternal imprinting (http://purl.obolibrary.org/obo/HP_0012275)\n",
      "Somatic mutation (http://purl.obolibrary.org/obo/HP_0001428)\n",
      "Mitochondrial inheritance (http://purl.obolibrary.org/obo/HP_0001427)\n",
      "X-linked dominant inheritance (http://purl.obolibrary.org/obo/HP_0001423)\n",
      "Multifactorial inheritance (http://purl.obolibrary.org/obo/HP_0001426)\n",
      "Multifactorial Inheritance (http://purl.obolibrary.org/obo/HP_0001426)\n",
      "Genetic anticipation with paternal anticipation bias (http://purl.obolibrary.org/obo/HP_0003744)\n",
      "Heterogeneous (http://purl.obolibrary.org/obo/HP_0001425)\n",
      "Sporadic (http://purl.obolibrary.org/obo/HP_0003745)\n",
      "Somatic mosaicism (http://purl.obolibrary.org/obo/HP_0001442)\n",
      "Genetic anticipation (http://purl.obolibrary.org/obo/HP_0003743)\n",
      "Anticipation, Genetic (http://purl.obolibrary.org/obo/HP_0003743)\n",
      "Contiguous gene syndrome (http://purl.obolibrary.org/obo/HP_0001466)\n",
      "Autosomal dominant somatic cell mutation (http://purl.obolibrary.org/obo/HP_0001444)\n"
     ]
    },
    {
     "data": {
      "text/html": [
       "[&lt;http://purl&#8203;.obolibrary&#8203;.org/obo/HP&#8203;_0010985&gt;, &lt;http://purl&#8203;.obolibrary&#8203;.org/obo/HP&#8203;_0010984&gt;, &lt;http://purl&#8203;.obolibrary&#8203;.org/obo/HP&#8203;_0010983&gt;, &lt;http://purl&#8203;.obolibrary&#8203;.org/obo/HP&#8203;_0010982&gt;, &lt;http://purl&#8203;.obolibrary&#8203;.org/obo/HP&#8203;_0001417&gt;, &lt;http://purl&#8203;.obolibrary&#8203;.org/obo/HP&#8203;_0001419&gt;, &lt;http://purl&#8203;.obolibrary&#8203;.org/obo/HP&#8203;_0000007&gt;, &lt;http://purl&#8203;.obolibrary&#8203;.org/obo/HP&#8203;_0000006&gt;, &lt;http://purl&#8203;.obolibrary&#8203;.org/obo/HP&#8203;_0001475&gt;, &lt;http://purl&#8203;.obolibrary&#8203;.org/obo/HP&#8203;_0001452&gt;, &lt;http://purl&#8203;.obolibrary&#8203;.org/obo/HP&#8203;_0001470&gt;, &lt;http://purl&#8203;.obolibrary&#8203;.org/obo/HP&#8203;_0001472&gt;, &lt;http://purl&#8203;.obolibrary&#8203;.org/obo/HP&#8203;_0001450&gt;, &lt;http://purl&#8203;.obolibrary&#8203;.org/obo/HP&#8203;_0012274&gt;, &lt;http://purl&#8203;.obolibrary&#8203;.org/obo/HP&#8203;_0012275&gt;, &lt;http://purl&#8203;.obolibrary&#8203;.org/obo/HP&#8203;_0001428&gt;, &lt;http://purl&#8203;.obolibrary&#8203;.org/obo/HP&#8203;_0001427&gt;, &lt;http://purl&#8203;.obolibrary&#8203;.org/obo/HP&#8203;_0001423&gt;, &lt;http://purl&#8203;.obolibrary&#8203;.org/obo/HP&#8203;_0001426&gt;, &lt;http://purl&#8203;.obolibrary&#8203;.org/obo/HP&#8203;_0003744&gt;, &lt;http://purl&#8203;.obolibrary&#8203;.org/obo/HP&#8203;_0001425&gt;, &lt;http://purl&#8203;.obolibrary&#8203;.org/obo/HP&#8203;_0003745&gt;, &lt;http://purl&#8203;.obolibrary&#8203;.org/obo/HP&#8203;_0001442&gt;, owl:Nothing, &lt;http://purl&#8203;.obolibrary&#8203;.org/obo/HP&#8203;_0003743&gt;, &lt;http://purl&#8203;.obolibrary&#8203;.org/obo/HP&#8203;_0001466&gt;, &lt;http://purl&#8203;.obolibrary&#8203;.org/obo/HP&#8203;_0001444&gt;]"
      ]
     },
     "execution_count": 7,
     "metadata": {},
     "output_type": "execute_result"
    }
   ],
   "source": [
    "// import what we need\n",
    "import java.net.*\n",
    "import org.semanticweb.owlapi.model.parameters.*\n",
    "import org.semanticweb.elk.owlapi.ElkReasonerFactory;\n",
    "import org.semanticweb.elk.owlapi.ElkReasonerConfiguration\n",
    "import org.semanticweb.elk.reasoner.config.*\n",
    "import org.semanticweb.owlapi.apibinding.OWLManager;\n",
    "import org.semanticweb.owlapi.reasoner.*\n",
    "import org.semanticweb.owlapi.reasoner.structural.StructuralReasoner\n",
    "import org.semanticweb.owlapi.vocab.OWLRDFVocabulary;\n",
    "import org.semanticweb.owlapi.model.*;\n",
    "import org.semanticweb.owlapi.io.*;\n",
    "import org.semanticweb.owlapi.owllink.*;\n",
    "import org.semanticweb.owlapi.util.*;\n",
    "import org.semanticweb.owlapi.search.*;\n",
    "import org.semanticweb.owlapi.manchestersyntax.renderer.*;\n",
    "import org.semanticweb.owlapi.reasoner.structural.*\n",
    "\n",
    "// get all subclasses of \"Mode of inheritance\", including all descendant classes (direct set to \"false\")\n",
    "reasoner.getSubClasses(fac.getOWLClass(IRI.create(\"http://purl.obolibrary.org/obo/HP_0000005\")), false).getFlattened().each { cl ->\n",
    "  def ciri = cl.getIRI()\n",
    "  // now we get the label (rdfs:label) for each of the classes and print to stdout\n",
    "  EntitySearcher.getAnnotations(cl, ont, fac.getRDFSLabel()).each { a ->\n",
    "    OWLAnnotationValue val = a.getValue()\n",
    "    if(val instanceof OWLLiteral) {\n",
    "      def label = ((OWLLiteral)val).getLiteral()\n",
    "      println \"$label ($ciri)\"\n",
    "    }\n",
    "  }\n",
    "}\n"
   ]
  },
  {
   "cell_type": "markdown",
   "metadata": {},
   "source": [
    "You can play with this code a bit to find subclasses as well as superclasses for \"Mode of inheritance\" and other classes. A class in OWL does not have to have a URI (these are the named classes) but can also be a complex class description; for example, you can query for subclasses of phenotypes affecting some part of the \"heart\" by querying describing the class using quantifiers, relations, conjunction, disjunction, or negation, and retrieve classes that satisfy this description.\n",
    "\n",
    "\n",
    "Next, we will classify the ontology (from our data package) using the ELK reasoner, and store an inferred version of the ontology in the user home directory. The inferred version will be classified, i.e., all implied sub- and super-class relations are inferred and a transitive reduction is performed so that the resulting taxonomy does not contain redundant sub- or super-class relations.\n",
    "\n",
    "If you do not want to store the file in `$HOME/phenomenet-inferred.owl`, change the code below accordingly."
   ]
  },
  {
   "cell_type": "code",
   "execution_count": 8,
   "metadata": {},
   "outputs": [],
   "source": [
    "// import what we need\n",
    "import java.net.*\n",
    "import org.semanticweb.owlapi.model.parameters.*\n",
    "import org.semanticweb.elk.owlapi.ElkReasonerFactory;\n",
    "import org.semanticweb.elk.owlapi.ElkReasonerConfiguration\n",
    "import org.semanticweb.elk.reasoner.config.*\n",
    "import org.semanticweb.owlapi.apibinding.OWLManager;\n",
    "import org.semanticweb.owlapi.reasoner.*\n",
    "import org.semanticweb.owlapi.reasoner.structural.StructuralReasoner\n",
    "import org.semanticweb.owlapi.vocab.OWLRDFVocabulary;\n",
    "import org.semanticweb.owlapi.model.*;\n",
    "import org.semanticweb.owlapi.io.*;\n",
    "import org.semanticweb.owlapi.owllink.*;\n",
    "import org.semanticweb.owlapi.util.*;\n",
    "import org.semanticweb.owlapi.search.*;\n",
    "import org.semanticweb.owlapi.manchestersyntax.renderer.*;\n",
    "import org.semanticweb.owlapi.reasoner.structural.*\n",
    "    \n",
    "// write the inferred version of the ontology to a file (phenomenet-inferred.owl in the user homedir)\n",
    "def homeDir = System.getProperty(\"user.home\")\n",
    "File outfile = new File (homeDir, \"phenomenet-inferred.owl\")\n",
    "def outont = manager.createOntology(new IRI(\"http://aber-owl.net/ismb-tutorial/phenomenet-inferred.owl\"))\n",
    "InferredOntologyGenerator generator = new InferredOntologyGenerator(reasoner, [new InferredSubClassAxiomGenerator()])\n",
    "generator.fillOntology(fac, outont)\n",
    "\n",
    "manager.saveOntology(outont, IRI.create(\"file:\"+outfile.getAbsolutePath()))\n"
   ]
  },
  {
   "cell_type": "markdown",
   "metadata": {},
   "source": [
    "## Semantic similarity\n",
    "\n",
    "We use the [Semantic Measures Library](http://semantic-measures-library.org) to compute semantic similarity over the inferred ontology. We first generate some basic objects we need to define semantic similarity, and populate the semantic graph (used by the Semantic Measures Library) with the inferred taxonomy generated above.\n",
    "\n",
    "Note: while it is possible to compute semantic similarity over the non-inferred version of the ontology, most similarity measures crucially rely on a graph structure that resembles (or approximates) the semantic content of the ontology. Using a non-inferred version will hide this content. We therefore _always_ recommend to apply semantic similarity measures on the fully inferred version of an ontology."
   ]
  },
  {
   "cell_type": "code",
   "execution_count": null,
   "metadata": {},
   "outputs": [],
   "source": [
    "import org.openrdf.model.vocabulary.*\n",
    "import slib.sglib.io.loader.*\n",
    "import slib.sml.sm.core.metrics.ic.utils.*\n",
    "import slib.sml.sm.core.utils.*\n",
    "import slib.sglib.io.loader.bio.obo.*\n",
    "import org.openrdf.model.URI\n",
    "import slib.graph.algo.extraction.rvf.instances.*\n",
    "import slib.sglib.algo.graph.utils.*\n",
    "import slib.utils.impl.Timer\n",
    "import slib.graph.algo.extraction.utils.*\n",
    "import slib.graph.model.graph.*\n",
    "import slib.graph.model.repo.*\n",
    "import slib.graph.model.impl.graph.memory.*\n",
    "import slib.sml.sm.core.engine.*\n",
    "import slib.graph.io.conf.*\n",
    "import slib.graph.model.impl.graph.elements.*\n",
    "import slib.graph.algo.extraction.rvf.instances.impl.*\n",
    "import slib.graph.model.impl.repo.*\n",
    "import slib.graph.io.util.*\n",
    "import slib.graph.io.loader.*\n",
    "    \n",
    "factory = URIFactoryMemory.getSingleton()\n",
    "URI graph_uri = factory.getURI(\"http://aber-owl.net/ismb-tutorial/\")\n",
    "graph = new GraphMemory(graph_uri)\n"
   ]
  },
  {
   "cell_type": "code",
   "execution_count": null,
   "metadata": {},
   "outputs": [],
   "source": [
    "import org.openrdf.model.vocabulary.*\n",
    "import slib.sglib.io.loader.*\n",
    "import slib.sml.sm.core.metrics.ic.utils.*\n",
    "import slib.sml.sm.core.utils.*\n",
    "import slib.sglib.io.loader.bio.obo.*\n",
    "import org.openrdf.model.URI\n",
    "import slib.graph.algo.extraction.rvf.instances.*\n",
    "import slib.sglib.algo.graph.utils.*\n",
    "import slib.utils.impl.Timer\n",
    "import slib.graph.algo.extraction.utils.*\n",
    "import slib.graph.model.graph.*\n",
    "import slib.graph.model.repo.*\n",
    "import slib.graph.model.impl.graph.memory.*\n",
    "import slib.sml.sm.core.engine.*\n",
    "import slib.graph.io.conf.*\n",
    "import slib.graph.model.impl.graph.elements.*\n",
    "import slib.graph.algo.extraction.rvf.instances.impl.*\n",
    "import slib.graph.model.impl.repo.*\n",
    "import slib.graph.io.util.*\n",
    "import slib.graph.io.loader.*\n",
    "    \n",
    "def homeDir = System.getProperty(\"user.home\")\n",
    "File ontfile = new File (homeDir, \"phenomenet-inferred.owl\")\n",
    "GDataConf graphconf = new GDataConf(GFormat.RDF_XML, ontfile.getCanonicalPath())\n",
    "GraphLoaderGeneric.populate(graphconf, graph)\n"
   ]
  },
  {
   "cell_type": "markdown",
   "metadata": {},
   "source": [
    "Sometimes, ontologies (or the taxonomies underlying them) have more than one root (below `owl:Thing`). For example, the Gene Ontology has three roots, _Biological process_, _Molecular function_, and _Cellular Component_. To make classes comparable when they do not share a root (necessary for example in path-based similarity measures), we generate a new artificial root and make this the new root of our semantic graph."
   ]
  },
  {
   "cell_type": "code",
   "execution_count": null,
   "metadata": {},
   "outputs": [],
   "source": [
    "import org.openrdf.model.vocabulary.*\n",
    "import slib.sglib.io.loader.*\n",
    "import slib.sml.sm.core.metrics.ic.utils.*\n",
    "import slib.sml.sm.core.utils.*\n",
    "import slib.sglib.io.loader.bio.obo.*\n",
    "import org.openrdf.model.URI\n",
    "import slib.graph.algo.extraction.rvf.instances.*\n",
    "import slib.sglib.algo.graph.utils.*\n",
    "import slib.utils.impl.Timer\n",
    "import slib.graph.algo.extraction.utils.*\n",
    "import slib.graph.model.graph.*\n",
    "import slib.graph.model.repo.*\n",
    "import slib.graph.model.impl.graph.memory.*\n",
    "import slib.sml.sm.core.engine.*\n",
    "import slib.graph.io.conf.*\n",
    "import slib.graph.model.impl.graph.elements.*\n",
    "import slib.graph.algo.extraction.rvf.instances.impl.*\n",
    "import slib.graph.model.impl.repo.*\n",
    "import slib.graph.io.util.*\n",
    "import slib.graph.io.loader.*\n",
    "\n",
    "\n",
    "URI virtualRoot = factory.getURI(\"http://aber-owl.net/ismb-tutorial/virtualRoot\")\n",
    "graph.addV(virtualRoot)\n",
    "GAction rooting = new GAction(GActionType.REROOTING)\n",
    "rooting.addParameter(\"root_uri\", virtualRoot.stringValue())\n",
    "GraphActionExecutor.applyAction(factory, rooting, graph)\n"
   ]
  },
  {
   "cell_type": "markdown",
   "metadata": {},
   "source": [
    "Now we configure the semantic similarity measure we want to use.\n",
    "\n",
    "Because we do not have instances, we use only the ontology structure to determine how specific a class is (`IC_Conf_Topo` below for use of a specificity measure based only on the topology of the semantic graph). We use Resnik's similarity measure (\"similarity of two classes is the specificity value of their most specific common ancestor\")."
   ]
  },
  {
   "cell_type": "code",
   "execution_count": null,
   "metadata": {},
   "outputs": [],
   "source": [
    "import org.openrdf.model.vocabulary.*\n",
    "import slib.sglib.io.loader.*\n",
    "import slib.sml.sm.core.metrics.ic.utils.*\n",
    "import slib.sml.sm.core.utils.*\n",
    "import slib.sglib.io.loader.bio.obo.*\n",
    "import org.openrdf.model.URI\n",
    "import slib.graph.algo.extraction.rvf.instances.*\n",
    "import slib.sglib.algo.graph.utils.*\n",
    "import slib.utils.impl.Timer\n",
    "import slib.graph.algo.extraction.utils.*\n",
    "import slib.graph.model.graph.*\n",
    "import slib.graph.model.repo.*\n",
    "import slib.graph.model.impl.graph.memory.*\n",
    "import slib.sml.sm.core.engine.*\n",
    "import slib.graph.io.conf.*\n",
    "import slib.graph.model.impl.graph.elements.*\n",
    "import slib.graph.algo.extraction.rvf.instances.impl.*\n",
    "import slib.graph.model.impl.repo.*\n",
    "import slib.graph.io.util.*\n",
    "import slib.graph.io.loader.*\n",
    "\n",
    "// configure the semantic similarity measure: use Resnik's (extrinsic) information content measure, and Resnik's similarity measure\n",
    "icConf = new IC_Conf_Topo(\"Sanchez\", SMConstants.FLAG_ICI_SANCHEZ_2011)\n",
    "smConfPairwise = new SMconf(\"Resnik\", SMConstants.FLAG_SIM_PAIRWISE_DAG_NODE_RESNIK_1995 )\n",
    "smConfPairwise.setICconf(icConf)\n",
    "\n",
    "// initialize the engine\n",
    "engine = new SM_Engine(graph)\n",
    "\n"
   ]
  },
  {
   "cell_type": "markdown",
   "metadata": {},
   "source": [
    "Now we can compare some classes and determine how similar they are. Feel free to change the code to some new classes and see how the similarity changes.\n",
    "\n",
    "You can use classes from the Human Phenotype Ontology (HPO) and the Mammalian Phenotype Ontology (MPO) for similarity computation between phenotypes. Since we are using the PhenomeNET ontology (see [our paper](http://journals.plos.org/ploscompbiol/article?id=10.1371/journal.pcbi.1005500)), classes in both ontologies are actually comparable."
   ]
  },
  {
   "cell_type": "code",
   "execution_count": null,
   "metadata": {},
   "outputs": [],
   "source": [
    "// similarity between two classes from HPO\n",
    "cl1 = factory.getURI(\"http://purl.obolibrary.org/obo/HP_0030766\") // Ear pain\n",
    "cl2 = factory.getURI(\"http://purl.obolibrary.org/obo/HP_0012781\") // mid frequency hearing loss\n",
    "println \"Similarity between 'Ear pain' and 'mid frequency hearing loss': \"+engine.compare(smConfPairwise, cl1, cl2)\n"
   ]
  },
  {
   "cell_type": "code",
   "execution_count": null,
   "metadata": {},
   "outputs": [],
   "source": [
    "// similarity between two classes from HPO\n",
    "cl2 = factory.getURI(\"http://purl.obolibrary.org/obo/HP_0001636\") // tetralogy of fallot\n",
    "println \"Similarity between 'Ear pain' and 'tetralogy of fallot': \"+engine.compare(smConfPairwise, cl1, cl2)\n"
   ]
  },
  {
   "cell_type": "code",
   "execution_count": null,
   "metadata": {},
   "outputs": [],
   "source": [
    "// similarity between two classes, one from HPO and one from MP\n",
    "cl1 = factory.getURI(\"http://purl.obolibrary.org/obo/MP_0004084\") // abnormal cardiac muscle relaxation\n",
    "cl2 = factory.getURI(\"http://purl.obolibrary.org/obo/HP_0001636\") // tetralogy of fallot\n",
    "println \"Similarity between 'abnormal cardiac muscle relaxation' (MP) and 'tetralogy of fallot' (HP): \"+engine.compare(smConfPairwise, cl1, cl2)\n"
   ]
  },
  {
   "cell_type": "code",
   "execution_count": null,
   "metadata": {},
   "outputs": [],
   "source": [
    "// similarity between two classes, one from HPO and one from MP\n",
    "cl1 = factory.getURI(\"http://purl.obolibrary.org/obo/MP_0010402\") // ventricular septal defect\n",
    "println \"Similarity between 'ventricular septal defect' (MP) and 'tetralogy of fallot' (HP): \"+engine.compare(smConfPairwise, cl1, cl2)\n"
   ]
  },
  {
   "cell_type": "markdown",
   "metadata": {},
   "source": [
    "So far, we have only looked at comparisons between two individual classes. This may be nice if we just want to understand how the classes in an ontology are related, but usually we want to compare _things that are annotated with classes_ from an ontology.\n",
    "\n",
    "We now download mouse phenotypes resulting from single gene knockouts (note: replace `http://www.informatics.jax.org/downloads/reports/MGI_GenePheno.rpt` with a `file:...` URL in case of slow Internet connection; you can find the file `MGI_GenePheno.rpt` in our data package), and add each gene as an instance of its phenotype classes (using an `rdf:type` edge). \n",
    "\n",
    "Important: this is __not__ the right way to do this in an ontology but is an artifact of the Semantic Measures Library. When building an ontology, a _gene_ is not an _instance_ of a phenotype, but will be related to the phenotype through other kinds of relations. In the Semantic Measures Library, we will treat them as instances, however."
   ]
  },
  {
   "cell_type": "code",
   "execution_count": null,
   "metadata": {},
   "outputs": [],
   "source": [
    "import org.openrdf.model.vocabulary.*\n",
    "import slib.sglib.io.loader.*\n",
    "import slib.sml.sm.core.metrics.ic.utils.*\n",
    "import slib.sml.sm.core.utils.*\n",
    "import slib.sglib.io.loader.bio.obo.*\n",
    "import org.openrdf.model.URI\n",
    "import slib.graph.algo.extraction.rvf.instances.*\n",
    "import slib.sglib.algo.graph.utils.*\n",
    "import slib.utils.impl.Timer\n",
    "import slib.graph.algo.extraction.utils.*\n",
    "import slib.graph.model.graph.*\n",
    "import slib.graph.model.repo.*\n",
    "import slib.graph.model.impl.graph.memory.*\n",
    "import slib.sml.sm.core.engine.*\n",
    "import slib.graph.io.conf.*\n",
    "import slib.graph.model.impl.graph.elements.*\n",
    "import slib.graph.algo.extraction.rvf.instances.impl.*\n",
    "import slib.graph.model.impl.repo.*\n",
    "import slib.graph.io.util.*\n",
    "import slib.graph.io.loader.*\n",
    "\n",
    "// now we download mouse phenotype annotations and add them to our graph as instances (using rdf:type)\n",
    "new URL (\"file:MGI_GenePheno.rpt\").getText().splitEachLine(\"\\t\") { line ->\n",
    "  def geneid = line[6]\n",
    "  def idUri = factory.getURI(\"http://phenomebrowser.net/ismb-tutorial/gene/\"+geneid)\n",
    "  def pheno = line[4].replaceAll(\":\",\"_\")\n",
    "  def phenoUri = factory.getURI(\"http://purl.obolibrary.org/obo/\"+pheno)\n",
    "  Edge e = new Edge(idUri, RDF.TYPE, phenoUri)\n",
    "  graph.addE(e)\n",
    "}\n"
   ]
  },
  {
   "cell_type": "markdown",
   "metadata": {},
   "source": [
    "In the presence of instances, we can change our class specificity measure. We now use Resnik's specificity measure, which is just the information content of a class (i.e., `-log(p(c))` where `p(c)` is the probability to have an instance annotated with the class. This is a specificity measure that relies on instances, and is therefore a _corpus-based_ measure (using `IC_Conf_Corpus` below).\n",
    "\n",
    "We also configure a group-wise measure now, using the Best-Matching Average strategy. This will allow us to compare sets of classes to sets of classes.\n",
    "\n",
    "Finally, the `InstanceAccessor` will allow us to identify all instances of our classes."
   ]
  },
  {
   "cell_type": "code",
   "execution_count": null,
   "metadata": {},
   "outputs": [],
   "source": [
    "import org.openrdf.model.vocabulary.*\n",
    "import slib.sglib.io.loader.*\n",
    "import slib.sml.sm.core.metrics.ic.utils.*\n",
    "import slib.sml.sm.core.utils.*\n",
    "import slib.sglib.io.loader.bio.obo.*\n",
    "import org.openrdf.model.URI\n",
    "import slib.graph.algo.extraction.rvf.instances.*\n",
    "import slib.sglib.algo.graph.utils.*\n",
    "import slib.utils.impl.Timer\n",
    "import slib.graph.algo.extraction.utils.*\n",
    "import slib.graph.model.graph.*\n",
    "import slib.graph.model.repo.*\n",
    "import slib.graph.model.impl.graph.memory.*\n",
    "import slib.sml.sm.core.engine.*\n",
    "import slib.graph.io.conf.*\n",
    "import slib.graph.model.impl.graph.elements.*\n",
    "import slib.graph.algo.extraction.rvf.instances.impl.*\n",
    "import slib.graph.model.impl.repo.*\n",
    "import slib.graph.io.util.*\n",
    "import slib.graph.io.loader.*\n",
    "\n",
    "\n",
    "// now that we have instances/annotations, we switch to Resnik's information content measure\n",
    "icConf = new IC_Conf_Corpus(\"ResnikIC\", SMConstants.FLAG_IC_ANNOT_RESNIK_1995_NORMALIZED)\n",
    "smConfPairwise.setICconf(icConf)\n",
    "// using Best-Matching Average to merge annotations when comparing sets of classes\n",
    "smConfGroupwise = new SMconf(\"BMA\", SMConstants.FLAG_SIM_GROUPWISE_BMA)\n",
    "// and re-initialize the graph\n",
    "engine = new SM_Engine(graph)\n",
    "\n",
    "// we need this to find our instances again\n",
    "ia = new InstanceAccessor_RDF_TYPE(graph)\n",
    "\n"
   ]
  },
  {
   "cell_type": "markdown",
   "metadata": {},
   "source": [
    "We can now compute again similarity between two classes. Note how the similarity values change. Feel free to experiment with this and compare different classes."
   ]
  },
  {
   "cell_type": "code",
   "execution_count": null,
   "metadata": {},
   "outputs": [],
   "source": [
    "// similarity between two classes, one from HPO and one from MP\n",
    "cl1 = factory.getURI(\"http://purl.obolibrary.org/obo/MP_0004084\") // abnormal cardiac muscle relaxation\n",
    "cl2 = factory.getURI(\"http://purl.obolibrary.org/obo/HP_0001636\") // tetralogy of fallot\n",
    "println \"Similarity (Resnik) between 'abnormal cardiac muscle relaxation' (MP) and 'tetralogy of fallot' (HP): \"+engine.compare(smConfPairwise, cl1, cl2)\n"
   ]
  },
  {
   "cell_type": "code",
   "execution_count": null,
   "metadata": {},
   "outputs": [],
   "source": [
    "// similarity between two classes, one from HPO and one from MP\n",
    "cl1 = factory.getURI(\"http://purl.obolibrary.org/obo/MP_0010402\") // ventricular septal defect\n",
    "println \"Similarity (Resnik) between 'ventricular septal defect' (MP) and 'tetralogy of fallot' (HP): \"+engine.compare(smConfPairwise, cl1, cl2)\n"
   ]
  },
  {
   "cell_type": "markdown",
   "metadata": {},
   "source": [
    "With the presence of mouse genes as instances in our semantic graph, we can do some more sophisticated analyses. Here, we define a patient through a set of phenotypes (i.e., clinical signs and symptoms). The patient has a rare, heritable form of macular dystrophy without known etiology (see https://www.omim.org/entry/153840). We hypothesize that there may be a mouse knockout that resembles this disease, and possibly the human ortholog of the mouse gene may also be involved in this form of macular dystrophy.\n",
    "\n",
    "We compare our patient to _all_ instances in our graph (i.e., all mouse knockouts) using our measure of phenotypic similarity. We then sort the resulting list by their similarity score in descending order, and output the top 10 predictions."
   ]
  },
  {
   "cell_type": "code",
   "execution_count": null,
   "metadata": {},
   "outputs": [],
   "source": [
    "// that's our patient, with a single phenotype of an orphan disease, \"MACULAR DYSTROPHY, VITELLIFORM, 1; VMD1\" (https://www.omim.org/entry/153840)\n",
    "Set patient = [ factory.getURI(\"http://purl.obolibrary.org/obo/HP_0007754\"), factory.getURI(\"http://purl.obolibrary.org/obo/HP_0007663\"), factory.getURI(\"http://purl.obolibrary.org/obo/HP_0001123\"), \n",
    "  factory.getURI(\"http://purl.obolibrary.org/obo/HP_0000505\"), factory.getURI(\"http://purl.obolibrary.org/obo/HP_0007677\") ]\n",
    "// we store the similarity values in the results set\n",
    "def results = new LinkedHashSet()\n",
    "engine.getInstances().each { gene ->\n",
    "  def phenoSet = ia.getDirectClass(gene) // gets all the annotations of each instance (gene)\n",
    "  Expando exp = new Expando()\n",
    "  try { // this part might fail if the version of MP we use to compute similarity and the MP used for annotation is different; we ignore all errors for now\n",
    "    exp.sim = engine.compare(smConfGroupwise, smConfPairwise, phenoSet, patient)\n",
    "    exp.gene = gene\n",
    "    results.add(exp)\n",
    "  } catch (Exception E) {}\n",
    "}\n",
    "// sorting results by similarity (highest first) and output the top 10 predictions\n",
    "println \"Highest ranking genes for patient 1 (macular dystrophy): \"+results.sort { it.sim }.reverse()[0..10]\n"
   ]
  },
  {
   "cell_type": "markdown",
   "metadata": {},
   "source": [
    "We test this with another patient, this time with Wiskott-Aldrich Syndrome (https://www.omim.org/entry/301000). \n",
    "Wiskott-Aldrich Syndrome is a rare genetically-based disease in which the WAS gene is known to be causally involved. In the mouse, there is also a FOXP3 model that is used as a disease model for Wiskott-Aldrich syndrome (http://www.informatics.jax.org/allele/MGI:1857034)."
   ]
  },
  {
   "cell_type": "code",
   "execution_count": null,
   "metadata": {},
   "outputs": [],
   "source": [
    "// another patient with Wiskott-Aldrich Syndrome\n",
    "Set patient = [ factory.getURI(\"http://purl.obolibrary.org/obo/HP_0000112\"), factory.getURI(\"http://purl.obolibrary.org/obo/HP_0000225\"), factory.getURI(\"http://purl.obolibrary.org/obo/HP_0000246\"), factory.getURI(\"http://purl.obolibrary.org/obo/HP_0000388\"), factory.getURI(\"http://purl.obolibrary.org/obo/HP_0000421\"), factory.getURI(\"http://purl.obolibrary.org/obo/HP_0000964\"), factory.getURI(\"http://purl.obolibrary.org/obo/HP_0000967\"), factory.getURI(\"http://purl.obolibrary.org/obo/HP_0000979\"), factory.getURI(\"http://purl.obolibrary.org/obo/HP_0001287\"), factory.getURI(\"http://purl.obolibrary.org/obo/HP_0001419\"), factory.getURI(\"http://purl.obolibrary.org/obo/HP_0001873\"), factory.getURI(\"http://purl.obolibrary.org/obo/HP_0001878\"), factory.getURI(\"http://purl.obolibrary.org/obo/HP_0001888\"), factory.getURI(\"http://purl.obolibrary.org/obo/HP_0001891\"), factory.getURI(\"http://purl.obolibrary.org/obo/HP_0001983\"), factory.getURI(\"http://purl.obolibrary.org/obo/HP_0002037\"), factory.getURI(\"http://purl.obolibrary.org/obo/HP_0002090\"), factory.getURI(\"http://purl.obolibrary.org/obo/HP_0002248\"), factory.getURI(\"http://purl.obolibrary.org/obo/HP_0002249\"), factory.getURI(\"http://purl.obolibrary.org/obo/HP_0002783\"), factory.getURI(\"http://purl.obolibrary.org/obo/HP_0002788\"), factory.getURI(\"http://purl.obolibrary.org/obo/HP_0002848\"), factory.getURI(\"http://purl.obolibrary.org/obo/HP_0002850\"), factory.getURI(\"http://purl.obolibrary.org/obo/HP_0002963\"), factory.getURI(\"http://purl.obolibrary.org/obo/HP_0002971\"), factory.getURI(\"http://purl.obolibrary.org/obo/HP_0003010\"), factory.getURI(\"http://purl.obolibrary.org/obo/HP_0003212\"), factory.getURI(\"http://purl.obolibrary.org/obo/HP_0003261\"), factory.getURI(\"http://purl.obolibrary.org/obo/HP_0005310\"), factory.getURI(\"http://purl.obolibrary.org/obo/HP_0005537\"), factory.getURI(\"http://purl.obolibrary.org/obo/HP_0011944\"), factory.getURI(\"http://purl.obolibrary.org/obo/HP_0040184\") ]\n",
    "def results = new LinkedHashSet()\n",
    "engine.getInstances().each { gene ->\n",
    "  def phenoSet = ia.getDirectClass(gene) // gets all the annotations of each instance (gene)\n",
    "  Expando exp = new Expando()\n",
    "  try { // this might fail if the version of MP we use to compute similarity and the MP used for annotation is different; we ignore this for now\n",
    "    exp.sim = engine.compare(smConfGroupwise, smConfPairwise, phenoSet, patient)\n",
    "    exp.gene = gene\n",
    "    results.add(exp)\n",
    "  } catch (Exception E) { }\n",
    "}\n",
    "// sorting results by similarity (highest first) and output the top 10 predictions\n",
    "println \"Highest ranking genes for patient 2 (Wiskott Aldrich Syndrom): \"+results.sort { it.sim }.reverse()[0..10] // includes MGI:1891436, FOXP3\n"
   ]
  },
  {
   "cell_type": "markdown",
   "metadata": {},
   "source": [
    "## Ontology embeddings\n",
    "\n",
    "Given an ontology $O = (C, R, I; ax; \\vdash)$ with classes $C$, relations $R$, instances $I$, axioms $ax$, and an inference relation $\\vdash$, an ontology embedding is a function $f: C \\cup R \\cup I \\mapsto \\mathbf{R}^n$ that maps the entities in the ontology into an $n$-dimension vector space (subject to certain constraints).\n",
    "\n",
    "Here, we use the OPA2Vec tool (https://github.com/bio-ontology-research-group/opa2vec/) to generate ontology embeddings for classes in PhenomeNET, mouse genes (and their phenotypes), and OMIM diseases (and their phenotypes). We get the data from http://www.informatics.jax.org/downloads/reports/MGI_GenePheno.rpt and http://compbio.charite.de/jenkins/job/hpo.annotations/lastStableBuild/artifact/misc/phenotype_annotation.tab and then prepare it for OPA2Vec. We will generate the association file for OPA2Vec first.\n"
   ]
  },
  {
   "cell_type": "code",
   "execution_count": 2,
   "metadata": {},
   "outputs": [],
   "source": [
    "PrintWriter fout = new PrintWriter(new BufferedWriter(new FileWriter(\"misc/phenotype-associations.txt\")))\n",
    "new File(\"misc/MGI_GenePheno.rpt\").splitEachLine(\"\\t\") { line ->\n",
    "    def id = line[-2]\n",
    "    def p = \"<http://purl.obolibrary.org/\"+line[-4].replaceAll(\":\",\"_\")+\">\"\n",
    "    fout.println(id+\"\\t\"+p)\n",
    "}\n",
    "\n",
    "new File(\"misc/phenotype_annotation.tab\").splitEachLine(\"\\t\") { line ->\n",
    "    def id = line[0]+\":\"+line[1]\n",
    "    def p = \"<http://purl.obolibrary.org/obo/\"+line[4].replaceAll(\":\", \"_\")+\">\"\n",
    "    fout.println(id+\"\\t\"+p)\n",
    "}\n",
    "fout.flush()\n",
    "fout.close()"
   ]
  },
  {
   "cell_type": "markdown",
   "metadata": {},
   "source": [
    "The next step is to generate the embedding function and embedding vectors. We are not going to do this here, but will use the OPA2Vec command line tool. You can do this during this tutorial, but it may take quite some time to finish, so we will just continue with the output of OPA2Vec in the next steps.\n",
    "To run OPA2Vec with PhenomeNET and the association file we just generated, use this (adjust the pathnames to your own locations):\n",
    "`python2 opa2vec/runOPA2Vec.py -ontology merged-phenomenet.owl -associations misc/phenotype-associations.txt -outfile misc/phenome-vec.txt -embedsize 200 -pretrained opa2vec/PMC_model/PMC_model.txt -reasoner elk`\n",
    "The result will be one file, `misc/phenome-vec.txt`, which contains the vectors (of size 200) for each class, each gene, and each disease. It's not very nicely formatted for what we want to do here, and it contains vectors for every class in the ontology which we won't use, so we will do some reformatting and skip the things we don't need, and the remaining vectors will end up in a map. \n",
    "\n",
    "In the end, we output the embedding vector for the Tetralogy of Fallot (OMIM:187500)."
   ]
  },
  {
   "cell_type": "code",
   "execution_count": 3,
   "metadata": {},
   "outputs": [
    {
     "name": "stdout",
     "output_type": "stream",
     "text": [
      "200\n",
      "200\n"
     ]
    }
   ],
   "source": [
    "import java.util.zip.*\n",
    "\n",
    "map = [:]\n",
    "InputStream fileStream = new FileInputStream(\"misc/phenome-vec.txt.gz\")\n",
    "InputStream gzipStream = new GZIPInputStream(fileStream)\n",
    "Reader decoder = new InputStreamReader(gzipStream)\n",
    "BufferedReader fin = new BufferedReader(decoder)\n",
    "def current = null\n",
    "fin.eachLine { line ->\n",
    "    if (line.indexOf(\"[\")>-1) { // new vector starts here\n",
    "      if (line.indexOf(\"MGI\")>-1 || line.indexOf(\"OMIM\")>-1) { // gene or disease; otherwise ignore\n",
    "          toks = line.replaceAll(\"]\",\"\").replaceAll(\"\\\\[\",\"\")trim().split(\" +\")\n",
    "          current = toks[0]\n",
    "          map[current] = []\n",
    "          toks[1..-1].each { map[current] << new Double(it) }\n",
    "      } else {\n",
    "          current = null\n",
    "      }\n",
    "    } else {\n",
    "        if (current != null) {\n",
    "          toks = line.replaceAll(\"]\",\"\").replaceAll(\"\\\\[\",\"\")trim().split(\" +\")\n",
    "          toks[0..-1].each { map[current] << new Double(it) }\n",
    "        }\n",
    "    }\n",
    "}\n",
    "map[\"OMIM:187500\"]"
   ]
  },
  {
   "cell_type": "code",
   "execution_count": 4,
   "metadata": {},
   "outputs": [
    {
     "name": "stdout",
     "output_type": "stream",
     "text": [
      "0.9732494484762702\n",
      "0.9809716364981477\n"
     ]
    }
   ],
   "source": [
    "Double cosineSimilarity(def a, def b) {\n",
    "    double dotProduct = 0.0\n",
    "    double normA = 0.0\n",
    "    double normB = 0.0\n",
    "    for (int i = 0; i < a.size(); i++) {\n",
    "        dotProduct += a[i] * b[i]\n",
    "        normA += Math.pow(a[i], 2);\n",
    "        normB += Math.pow(b[i], 2);\n",
    "    }   \n",
    "    return dotProduct / (Math.sqrt(normA) * Math.sqrt(normB))\n",
    "}\n",
    "println cosineSimilarity(map[\"OMIM:187500\"], map[\"OMIM:209900\"])\n",
    "println cosineSimilarity(map[\"OMIM:187500\"], map[\"MGI:99604\"])"
   ]
  },
  {
   "cell_type": "code",
   "execution_count": 19,
   "metadata": {},
   "outputs": [
    {
     "name": "stdout",
     "output_type": "stream",
     "text": [
      "MGI:2150920 0.992000977439153\n"
     ]
    }
   ],
   "source": [
    "#!groovy\n",
    "def maxval = 0\n",
    "def max = \"\"\n",
    "map.keySet().each {k ->\n",
    "    if (k.indexOf(\"MGI\")>-1 && map[k]) { // mouse genes only\n",
    "        if (map[\"OMIM:187500\"].size()!=map[k].size()) {\n",
    "            println \"$k: \"+map[k].size()+\" \"+map[\"OMIM:187500\"].size()\n",
    "        }\n",
    "        def val = cosineSimilarity(map[\"OMIM:613011\"], map[k])\n",
    "        if (val > maxval) {\n",
    "            maxval = val\n",
    "            max = k\n",
    "        }\n",
    "    }\n",
    "}\n",
    "println \"$max $maxval\""
   ]
  },
  {
   "cell_type": "code",
   "execution_count": 22,
   "metadata": {},
   "outputs": [
    {
     "data": {
      "text/html": [
       "<style>table.converted {color: #333; font-family: Helvetica, Arial, sans-serif; border-collapse: collapse; border-spacing: 0;}table.converted td, table.converted th {border: 1px solid #C9C7C7;}table.converted th, table.converted td.rowLabel {background: #626262; color: #FFFFFF; font-weight: bold; text-align: left;}table.converted td {text-align: left;}table.converted tr:nth-child(even) {background: #F3F3F3;}table.converted tr:nth-child(odd) {background: #FFFFFF;}table.converted tbody tr:hover {background: #BDF4B5;}table.converted td.rowLabel, table.converted th.rowLabel {display: none;}</style><table class=\"converted\"><tbody><tr><td>0&#8203;.00318506</td></tr><tr><td>-0&#8203;.02546438</td></tr><tr><td>-0&#8203;.15403828</td></tr><tr><td>-0&#8203;.14236727</td></tr><tr><td>0&#8203;.10750835</td></tr><tr><td>0&#8203;.12858145</td></tr><tr><td>-0&#8203;.00100048</td></tr><tr><td>-0&#8203;.15033978</td></tr><tr><td>-0&#8203;.01881029</td></tr><tr><td>0&#8203;.08918631</td></tr><tr><td>0&#8203;.03351209</td></tr><tr><td>-0&#8203;.13384137</td></tr><tr><td>0&#8203;.0129881</td></tr><tr><td>-0&#8203;.02059172</td></tr><tr><td>-0&#8203;.08968745</td></tr><tr><td>-0&#8203;.0523639</td></tr><tr><td>-0&#8203;.03557616</td></tr><tr><td>0&#8203;.09568679</td></tr><tr><td>0&#8203;.10221536</td></tr><tr><td>-0&#8203;.04587468</td></tr><tr><td>-0&#8203;.027755</td></tr><tr><td>0&#8203;.04331577</td></tr><tr><td>0&#8203;.21216033</td></tr><tr><td>-0&#8203;.02373125</td></tr><tr><td>0&#8203;.26837817</td></tr><tr><td>0&#8203;.03694101</td></tr><tr><td>-0&#8203;.12482333</td></tr><tr><td>-0&#8203;.06497479</td></tr><tr><td>0&#8203;.10980995</td></tr><tr><td>-0&#8203;.10979332</td></tr><tr><td>0&#8203;.03330102</td></tr><tr><td>-0&#8203;.04898665</td></tr><tr><td>0&#8203;.05056606</td></tr><tr><td>-0&#8203;.1653329</td></tr><tr><td>0&#8203;.13738245</td></tr><tr><td>-0&#8203;.0654669</td></tr><tr><td>-0&#8203;.12280776</td></tr><tr><td>-0&#8203;.01061661</td></tr><tr><td>-0&#8203;.03662942</td></tr><tr><td>-0&#8203;.13115942</td></tr><tr><td>0&#8203;.06471636</td></tr><tr><td>0&#8203;.00632692</td></tr><tr><td>0&#8203;.01676986</td></tr><tr><td>0&#8203;.03089311</td></tr><tr><td>0&#8203;.03551831</td></tr><tr><td>0&#8203;.04319771</td></tr><tr><td>0&#8203;.01796457</td></tr><tr><td>0&#8203;.04688978</td></tr><tr><td>-0&#8203;.02928682</td></tr><tr><td>-0&#8203;.06779981</td></tr><tr><td>-8&#8203;.5675E-4</td></tr><tr><td>-0&#8203;.04894293</td></tr><tr><td>-0&#8203;.02762283</td></tr><tr><td>-0&#8203;.09874517</td></tr><tr><td>-0&#8203;.05099936</td></tr><tr><td>0&#8203;.13345358</td></tr><tr><td>-0&#8203;.15526274</td></tr><tr><td>0&#8203;.03259312</td></tr><tr><td>-0&#8203;.07054773</td></tr><tr><td>-0&#8203;.18644314</td></tr><tr><td>-0&#8203;.13911161</td></tr><tr><td>0&#8203;.07253287</td></tr><tr><td>0&#8203;.0149497</td></tr><tr><td>-0&#8203;.0404947</td></tr><tr><td>0&#8203;.02077309</td></tr><tr><td>0&#8203;.04071953</td></tr><tr><td>-0&#8203;.02330523</td></tr><tr><td>-0&#8203;.01500213</td></tr><tr><td>0&#8203;.08316139</td></tr><tr><td>0&#8203;.0243528</td></tr><tr><td>-0&#8203;.05897275</td></tr><tr><td>-0&#8203;.0594613</td></tr><tr><td>-0&#8203;.14490353</td></tr><tr><td>0&#8203;.05802251</td></tr><tr><td>-0&#8203;.16068502</td></tr><tr><td>0&#8203;.05381894</td></tr><tr><td>-0&#8203;.0514796</td></tr><tr><td>-0&#8203;.12007231</td></tr><tr><td>0&#8203;.09692093</td></tr><tr><td>0&#8203;.01203236</td></tr><tr><td>-0&#8203;.04692261</td></tr><tr><td>0&#8203;.03742256</td></tr><tr><td>0&#8203;.06806485</td></tr><tr><td>0&#8203;.06349184</td></tr><tr><td>0&#8203;.16154839</td></tr><tr><td>-0&#8203;.20877205</td></tr><tr><td>-0&#8203;.00128961</td></tr><tr><td>0&#8203;.11304297</td></tr><tr><td>-0&#8203;.00753187</td></tr><tr><td>0&#8203;.09000997</td></tr><tr><td>0&#8203;.00383358</td></tr><tr><td>-0&#8203;.15867457</td></tr><tr><td>-0&#8203;.03660588</td></tr><tr><td>0&#8203;.14051555</td></tr><tr><td>0&#8203;.13169517</td></tr><tr><td>0&#8203;.05915093</td></tr><tr><td>0&#8203;.02227958</td></tr><tr><td>-0&#8203;.05066623</td></tr><tr><td>-0&#8203;.00959262</td></tr><tr><td>0&#8203;.01709189</td></tr><tr><td>0&#8203;.13085058</td></tr><tr><td>0&#8203;.01923069</td></tr><tr><td>-0&#8203;.09742393</td></tr><tr><td>-0&#8203;.15835366</td></tr><tr><td>0&#8203;.03054271</td></tr><tr><td>-0&#8203;.05443842</td></tr><tr><td>0&#8203;.07846849</td></tr><tr><td>-0&#8203;.04120304</td></tr><tr><td>0&#8203;.03989767</td></tr><tr><td>0&#8203;.12846953</td></tr><tr><td>-0&#8203;.38231975</td></tr><tr><td>-0&#8203;.24290533</td></tr><tr><td>0&#8203;.21927041</td></tr><tr><td>-0&#8203;.17956054</td></tr><tr><td>-0&#8203;.08621334</td></tr><tr><td>0&#8203;.04372768</td></tr><tr><td>-0&#8203;.18612133</td></tr><tr><td>0&#8203;.04101678</td></tr><tr><td>-0&#8203;.05835938</td></tr><tr><td>-0&#8203;.01728017</td></tr><tr><td>-0&#8203;.07930797</td></tr><tr><td>0&#8203;.11624446</td></tr><tr><td>0&#8203;.21953377</td></tr><tr><td>0&#8203;.0654808</td></tr><tr><td>-0&#8203;.14283854</td></tr><tr><td>-0&#8203;.1531055</td></tr><tr><td>0&#8203;.08332255</td></tr><tr><td>-0&#8203;.00138719</td></tr><tr><td>-0&#8203;.03395695</td></tr><tr><td>-0&#8203;.10963829</td></tr><tr><td>0&#8203;.04443456</td></tr><tr><td>-0&#8203;.05555623</td></tr><tr><td>-0&#8203;.14110537</td></tr><tr><td>0&#8203;.12781793</td></tr><tr><td>-0&#8203;.1347492</td></tr><tr><td>0&#8203;.14398986</td></tr><tr><td>0&#8203;.05461524</td></tr><tr><td>-0&#8203;.00340724</td></tr><tr><td>-0&#8203;.19733201</td></tr><tr><td>0&#8203;.0282202</td></tr><tr><td>0&#8203;.13970442</td></tr><tr><td>0&#8203;.01010856</td></tr><tr><td>0&#8203;.06483529</td></tr><tr><td>-0&#8203;.0171464</td></tr><tr><td>-0&#8203;.09531059</td></tr><tr><td>0&#8203;.04280791</td></tr><tr><td>-0&#8203;.13448782</td></tr><tr><td>0&#8203;.18767002</td></tr><tr><td>0&#8203;.003834</td></tr><tr><td>-0&#8203;.05830061</td></tr><tr><td>-0&#8203;.05142206</td></tr><tr><td>-0&#8203;.13456276</td></tr><tr><td>-0&#8203;.06444445</td></tr><tr><td>-0&#8203;.04642802</td></tr><tr><td>0&#8203;.01290154</td></tr><tr><td>0&#8203;.09043491</td></tr><tr><td>-0&#8203;.10031819</td></tr><tr><td>-0&#8203;.09207882</td></tr><tr><td>0&#8203;.01340035</td></tr><tr><td>-0&#8203;.11429776</td></tr><tr><td>-0&#8203;.08276919</td></tr><tr><td>0&#8203;.09248834</td></tr><tr><td>0&#8203;.06464015</td></tr><tr><td>-0&#8203;.11602633</td></tr><tr><td>-0&#8203;.04996083</td></tr><tr><td>-0&#8203;.05694227</td></tr><tr><td>0&#8203;.09098639</td></tr><tr><td>-0&#8203;.0052933</td></tr><tr><td>0&#8203;.08626219</td></tr><tr><td>0&#8203;.0537135</td></tr><tr><td>-0&#8203;.00658539</td></tr><tr><td>0&#8203;.16853392</td></tr><tr><td>-0&#8203;.2458331</td></tr><tr><td>0&#8203;.05995292</td></tr><tr><td>0&#8203;.1364156</td></tr><tr><td>0&#8203;.02295836</td></tr><tr><td>-0&#8203;.04543422</td></tr><tr><td>0&#8203;.03826711</td></tr><tr><td>0&#8203;.04686129</td></tr><tr><td>-0&#8203;.11537898</td></tr><tr><td>-0&#8203;.10617584</td></tr><tr><td>-0&#8203;.00719438</td></tr><tr><td>0&#8203;.00787927</td></tr><tr><td>0&#8203;.04810355</td></tr><tr><td>0&#8203;.05824137</td></tr><tr><td>-0&#8203;.04052031</td></tr><tr><td>-0&#8203;.03840859</td></tr><tr><td>-0&#8203;.04923118</td></tr><tr><td>-0&#8203;.01449108</td></tr><tr><td>-0&#8203;.0808457</td></tr><tr><td>0&#8203;.12386867</td></tr><tr><td>0&#8203;.01817608</td></tr><tr><td>0&#8203;.02880767</td></tr><tr><td>0&#8203;.06472483</td></tr><tr><td>-0&#8203;.13277075</td></tr><tr><td>-0&#8203;.03324956</td></tr><tr><td>0&#8203;.10592771</td></tr><tr><td>-0&#8203;.02586421</td></tr><tr><td>0&#8203;.07616054</td></tr><tr><td>-0&#8203;.00453083</td></tr></tbody></table>"
      ]
     },
     "execution_count": 22,
     "metadata": {},
     "output_type": "execute_result"
    }
   ],
   "source": []
  },
  {
   "cell_type": "code",
   "execution_count": 21,
   "metadata": {},
   "outputs": [
    {
     "name": "stderr",
     "output_type": "stream",
     "text": [
      "[ERROR] null\n",
      "Traceback (most recent call last):\n",
      "  File \"dummy.py\", line 1, in <module>\n",
      "ImportError: No module named sklearn\n",
      "\n",
      "\tat org.python.core.Py.ImportError(Py.java:328)\n",
      "\tat org.python.core.imp.import_first(imp.java:877)\n",
      "\tat org.python.core.imp.import_module_level(imp.java:972)\n",
      "\tat org.python.core.imp.importName(imp.java:1062)\n",
      "\tat org.python.core.ImportFunction.__call__(__builtin__.java:1280)\n",
      "\tat org.python.core.PyObject.__call__(PyObject.java:431)\n",
      "\tat org.python.core.__builtin__.__import__(__builtin__.java:1232)\n",
      "\tat org.python.core.imp.importFromAs(imp.java:1156)\n",
      "\tat org.python.core.imp.importFrom(imp.java:1132)\n",
      "\tat org.python.pycode._pyx10.f$0(dummy.py:1)\n",
      "\tat org.python.pycode._pyx10.call_function(dummy.py)\n",
      "\tat org.python.core.PyTableCode.call(PyTableCode.java:167)\n",
      "\tat org.python.core.PyCode.call(PyCode.java:18)\n",
      "\tat org.python.core.Py.runCode(Py.java:1386)\n",
      "\tat org.python.core.__builtin__.eval(__builtin__.java:497)\n",
      "\tat org.python.core.__builtin__.eval(__builtin__.java:501)\n",
      "\tat org.python.util.PythonInterpreter.eval(PythonInterpreter.java:259)\n",
      "\tat org.python.jsr223.PyScriptEngine.eval(PyScriptEngine.java:40)\n",
      "\tat org.python.jsr223.PyScriptEngine.eval(PyScriptEngine.java:31)\n",
      "\tat javax.script.AbstractScriptEngine.eval(AbstractScriptEngine.java:264)\n",
      "\tat org.scijava.script.ScriptModule.run(ScriptModule.java:160)\n",
      "\tat org.scijava.module.ModuleRunner.run(ModuleRunner.java:168)\n",
      "\tat org.scijava.jupyter.kernel.evaluator.Worker.run(Worker.java:108)\n",
      "\tat org.scijava.thread.DefaultThreadService$2.run(DefaultThreadService.java:221)\n",
      "\tat java.util.concurrent.Executors$RunnableAdapter.call(Executors.java:511)\n",
      "\tat java.util.concurrent.FutureTask.run(FutureTask.java:266)\n",
      "\tat java.util.concurrent.ThreadPoolExecutor.runWorker(ThreadPoolExecutor.java:1142)\n",
      "\tat java.util.concurrent.ThreadPoolExecutor$Worker.run(ThreadPoolExecutor.java:617)\n",
      "\tat java.lang.Thread.run(Thread.java:745)\n"
     ]
    }
   ],
   "source": [
    "from sklearn.manifold import TSNE\n"
   ]
  },
  {
   "cell_type": "code",
   "execution_count": null,
   "metadata": {},
   "outputs": [],
   "source": []
  }
 ],
 "metadata": {
  "kernelspec": {
   "display_name": "SciJava",
   "language": "groovy",
   "name": "scijava"
  },
  "language_info": {
   "codemirror_mode": "groovy",
   "file_extension": "",
   "mimetype": "",
   "name": "scijava",
   "nbconverter_exporter": "",
   "pygments_lexer": "groovy",
   "version": "1.0"
  }
 },
 "nbformat": 4,
 "nbformat_minor": 2
}
