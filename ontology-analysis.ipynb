{
 "cells": [
  {
   "cell_type": "markdown",
   "metadata": {},
   "source": [
    "## Welcome to the Ontology Tutorial hand-on session. \n",
    "\n",
    "Here, we will demonstrate how to use ontologies through the OWLAPI, classify ontologies, reason over them, and compute semantic similarity. In the second part, we will also use machine learning with ontologies.\n",
    "\n",
    "If you have not done so, please download our data package from http://aber-owl.net/aber-owl/diseasephenotypes/ontology/ontology-tutorial.tar.gz\n",
    "\n",
    "To run a piece of code, just go to the box, and either press Shift+Enter, or click on the \"run cell\" button in the menu bar.\n",
    "\n",
    "__Please run the first cell before the tutorial!__\n",
    "This will download all the Java libraries we need.\n",
    "\n",
    "Go ahead now and run the first cell. It may take a while to download all the libraries, so you may want to get a coffee while it's running."
   ]
  },
  {
   "cell_type": "code",
   "execution_count": null,
   "metadata": {},
   "outputs": [],
   "source": [
    "#!groovy\n",
    "// @NotebookService nb"
   ]
  },
  {
   "cell_type": "code",
   "execution_count": null,
   "metadata": {},
   "outputs": [],
   "source": [
    "// Download dependencies using Groovy's Grape system\n",
    "import groovy.grape.Grape\n",
    "Grape.grab(group:'org.semanticweb.elk', module:'elk-owlapi', version:'0.4.3')\n",
    "Grape.grab(group:'net.sourceforge.owlapi', module:'owlapi-api', version:'4.2.5')\n",
    "Grape.grab(group:'net.sourceforge.owlapi', module:'owlapi-apibinding', version:'4.2.5')\n",
    "Grape.grab(group:'net.sourceforge.owlapi', module:'owlapi-impl', version:'4.2.5')\n",
    "Grape.grab(group:'com.github.sharispe', module:'slib-sml', version:'0.9.1')"
   ]
  },
  {
   "cell_type": "markdown",
   "metadata": {},
   "source": [
    "We will now show some basic operations on ontologies. We need to import lots of classes from the OWLAPI, create an OWL ontology manager, load the ontology, and start exploring a bit.\n",
    "\n",
    "The code below may need to be modified a bit. In the line `ont = manager.loadOntologyFromOntologyDocument(new IRI(\"file:merged-phenomenet.owl\"))`, please change the path to where you have extracted the content of our data package. For example, if you extracted the content of our data package to `/tmp/`, replace `file:merged-phenomenet.owl` with `file:/tmp/merged-phenomenet.owl`.\n",
    "\n",
    "__If you have memory problems:__ The ontology is rather large and requires around 10GB of memory to load (and later to classify). If you have problems loading this ontology, download `phenomenet-inferred.owl` from our Github site and replace `file:merged-phenomenet.owl` with `file:phenomenet-inferred.owl` in the code below (you just need to comment out the line which loads the ontology and uncomment the alternative)."
   ]
  },
  {
   "cell_type": "code",
   "execution_count": null,
   "metadata": {},
   "outputs": [],
   "source": [
    "// opens ontology file and prints the number of classes\n",
    "\n",
    "// import what we need\n",
    "import java.net.*\n",
    "import org.semanticweb.owlapi.model.parameters.*\n",
    "import org.semanticweb.elk.owlapi.ElkReasonerFactory;\n",
    "import org.semanticweb.elk.owlapi.ElkReasonerConfiguration\n",
    "import org.semanticweb.elk.reasoner.config.*\n",
    "import org.semanticweb.owlapi.apibinding.OWLManager;\n",
    "import org.semanticweb.owlapi.reasoner.*\n",
    "import org.semanticweb.owlapi.reasoner.structural.StructuralReasoner\n",
    "import org.semanticweb.owlapi.vocab.OWLRDFVocabulary;\n",
    "import org.semanticweb.owlapi.model.*;\n",
    "import org.semanticweb.owlapi.io.*;\n",
    "import org.semanticweb.owlapi.owllink.*;\n",
    "import org.semanticweb.owlapi.util.*;\n",
    "import org.semanticweb.owlapi.search.*;\n",
    "import org.semanticweb.owlapi.manchestersyntax.renderer.*;\n",
    "import org.semanticweb.owlapi.reasoner.structural.*\n",
    " \n",
    "// Let's load an ontology and output the number of classes\n",
    "// Create the ontology manager\n",
    "manager = OWLManager.createOWLOntologyManager()\n",
    "// create data factory (to create axioms, classes, etc.)\n",
    "fac = manager.getOWLDataFactory()\n",
    "// Load the latest version of the PhenomeNET Ontology; for more information about this ontology, see http://journals.plos.org/ploscompbiol/article?id=10.1371/journal.pcbi.1005500\n",
    "\n",
    "ont = manager.loadOntologyFromOntologyDocument(new IRI(\"file:merged-phenomenet.owl\"))\n",
    "\n",
    "// Use the next line instead if you have memory problems loading the ontology above (comment out the line above and uncomment this line):\n",
    "//ont = manager.loadOntologyFromOntologyDocument(new IRI(\"file:phenomenet-inferred.owl\"))\n",
    "\n",
    "ont.getClassesInSignature(true).size()"
   ]
  },
  {
   "cell_type": "markdown",
   "metadata": {},
   "source": [
    "## Reasoning with ontologies\n",
    "\n",
    "Reasoning means we use inference rules that use the axioms within the ontology to extract new knowledge (which may or may not be explicitly stated). The most basic operation an OWL reasoner does is to perform _classification_, i.e., it identifies for each class its sub- and super-classes. OWL reasoners can also be used to query ontologies, and find, for example, sub-classes of named classes or complex class descriptions.\n",
    "\n",
    "Reasoning in OWL may be very complex. For example, automated reasoning in OWL 2 is 2NEXPTIME-complete, and will therefore not scale well on arbitrary ontologies. Fortunately, many optimized reasoners exist, so the theoretical limitations are not always a barrier in practise. Nevertheless, OWL 2 comes with several sub-langes (OWL 2 EL, QL, and RL) which guarantee more efficient automated reasoning. In particular the OWL 2 EL language profile is widely used in biological and biomedical ontologies.\n",
    "\n",
    "In the first box below, we will just create a new OWL reasoner object (using the OWL 2 EL reasoner [ELK](https://github.com/liveontologies/elk-reasoner)). In the second box, we will use this reasoner to find all the subclasses of the \"Mode of inheritance\" class in the Human Phenotype Ontology, and output the classes and their labels."
   ]
  },
  {
   "cell_type": "code",
   "execution_count": null,
   "metadata": {},
   "outputs": [],
   "source": [
    "// import what we need\n",
    "import java.net.*\n",
    "import org.semanticweb.owlapi.model.parameters.*\n",
    "import org.semanticweb.elk.owlapi.ElkReasonerFactory;\n",
    "import org.semanticweb.elk.owlapi.ElkReasonerConfiguration\n",
    "import org.semanticweb.elk.reasoner.config.*\n",
    "import org.semanticweb.owlapi.apibinding.OWLManager;\n",
    "import org.semanticweb.owlapi.reasoner.*\n",
    "import org.semanticweb.owlapi.reasoner.structural.StructuralReasoner\n",
    "import org.semanticweb.owlapi.vocab.OWLRDFVocabulary;\n",
    "import org.semanticweb.owlapi.model.*;\n",
    "import org.semanticweb.owlapi.io.*;\n",
    "import org.semanticweb.owlapi.owllink.*;\n",
    "import org.semanticweb.owlapi.util.*;\n",
    "import org.semanticweb.owlapi.search.*;\n",
    "import org.semanticweb.owlapi.manchestersyntax.renderer.*;\n",
    "import org.semanticweb.owlapi.reasoner.structural.*\n",
    "\n",
    "ConsoleProgressMonitor progressMonitor = new ConsoleProgressMonitor()\n",
    "OWLReasonerConfiguration config = new SimpleConfiguration(progressMonitor)\n",
    "ElkReasonerFactory f1 = new ElkReasonerFactory()\n",
    "reasoner = f1.createReasoner(ont,config)\n"
   ]
  },
  {
   "cell_type": "code",
   "execution_count": null,
   "metadata": {},
   "outputs": [],
   "source": [
    "// import what we need\n",
    "import java.net.*\n",
    "import org.semanticweb.owlapi.model.parameters.*\n",
    "import org.semanticweb.elk.owlapi.ElkReasonerFactory;\n",
    "import org.semanticweb.elk.owlapi.ElkReasonerConfiguration\n",
    "import org.semanticweb.elk.reasoner.config.*\n",
    "import org.semanticweb.owlapi.apibinding.OWLManager;\n",
    "import org.semanticweb.owlapi.reasoner.*\n",
    "import org.semanticweb.owlapi.reasoner.structural.StructuralReasoner\n",
    "import org.semanticweb.owlapi.vocab.OWLRDFVocabulary;\n",
    "import org.semanticweb.owlapi.model.*;\n",
    "import org.semanticweb.owlapi.io.*;\n",
    "import org.semanticweb.owlapi.owllink.*;\n",
    "import org.semanticweb.owlapi.util.*;\n",
    "import org.semanticweb.owlapi.search.*;\n",
    "import org.semanticweb.owlapi.manchestersyntax.renderer.*;\n",
    "import org.semanticweb.owlapi.reasoner.structural.*\n",
    "\n",
    "// get all subclasses of \"Mode of inheritance\", including all descendant classes (direct set to \"false\")\n",
    "reasoner.getSubClasses(fac.getOWLClass(IRI.create(\"http://purl.obolibrary.org/obo/HP_0000005\")), false).getFlattened().each { cl ->\n",
    "  def ciri = cl.getIRI()\n",
    "  // now we get the label (rdfs:label) for each of the classes and print to stdout\n",
    "  EntitySearcher.getAnnotations(cl, ont, fac.getRDFSLabel()).each { a ->\n",
    "    OWLAnnotationValue val = a.getValue()\n",
    "    if(val instanceof OWLLiteral) {\n",
    "      def label = ((OWLLiteral)val).getLiteral()\n",
    "      println \"$label ($ciri)\"\n",
    "    }\n",
    "  }\n",
    "}\n"
   ]
  },
  {
   "cell_type": "markdown",
   "metadata": {},
   "source": [
    "You can play with this code a bit to find subclasses as well as superclasses for \"Mode of inheritance\" and other classes. A class in OWL does not have to have a URI (these are the named classes) but can also be a complex class description; for example, you can query for subclasses of phenotypes affecting some part of the \"heart\" by querying describing the class using quantifiers, relations, conjunction, disjunction, or negation, and retrieve classes that satisfy this description.\n",
    "\n",
    "\n",
    "Next, we will classify the ontology (from our data package) using the ELK reasoner, and store an inferred version of the ontology in the user home directory. The inferred version will be classified, i.e., all implied sub- and super-class relations are inferred and a transitive reduction is performed so that the resulting taxonomy does not contain redundant sub- or super-class relations.\n",
    "\n",
    "If you do not want to store the file in `$HOME/phenomenet-inferred.owl`, change the code below accordingly."
   ]
  },
  {
   "cell_type": "code",
   "execution_count": null,
   "metadata": {},
   "outputs": [],
   "source": [
    "// import what we need\n",
    "import java.net.*\n",
    "import org.semanticweb.owlapi.model.parameters.*\n",
    "import org.semanticweb.elk.owlapi.ElkReasonerFactory;\n",
    "import org.semanticweb.elk.owlapi.ElkReasonerConfiguration\n",
    "import org.semanticweb.elk.reasoner.config.*\n",
    "import org.semanticweb.owlapi.apibinding.OWLManager;\n",
    "import org.semanticweb.owlapi.reasoner.*\n",
    "import org.semanticweb.owlapi.reasoner.structural.StructuralReasoner\n",
    "import org.semanticweb.owlapi.vocab.OWLRDFVocabulary;\n",
    "import org.semanticweb.owlapi.model.*;\n",
    "import org.semanticweb.owlapi.io.*;\n",
    "import org.semanticweb.owlapi.owllink.*;\n",
    "import org.semanticweb.owlapi.util.*;\n",
    "import org.semanticweb.owlapi.search.*;\n",
    "import org.semanticweb.owlapi.manchestersyntax.renderer.*;\n",
    "import org.semanticweb.owlapi.reasoner.structural.*\n",
    "    \n",
    "// write the inferred version of the ontology to a file (phenomenet-inferred.owl in the user homedir)\n",
    "def homeDir = System.getProperty(\"user.home\")\n",
    "File outfile = new File (homeDir, \"phenomenet-inferred.owl\")\n",
    "def outont = manager.createOntology(new IRI(\"http://aber-owl.net/ismb-tutorial/phenomenet-inferred.owl\"))\n",
    "InferredOntologyGenerator generator = new InferredOntologyGenerator(reasoner, [new InferredSubClassAxiomGenerator()])\n",
    "generator.fillOntology(fac, outont)\n",
    "\n",
    "manager.saveOntology(outont, IRI.create(\"file:\"+outfile.getAbsolutePath()))\n"
   ]
  },
  {
   "cell_type": "markdown",
   "metadata": {},
   "source": [
    "## Semantic similarity\n",
    "\n",
    "We use the [Semantic Measures Library](http://semantic-measures-library.org) to compute semantic similarity over the inferred ontology. We first generate some basic objects we need to define semantic similarity, and populate the semantic graph (used by the Semantic Measures Library) with the inferred taxonomy generated above.\n",
    "\n",
    "Note: while it is possible to compute semantic similarity over the non-inferred version of the ontology, most similarity measures crucially rely on a graph structure that resembles (or approximates) the semantic content of the ontology. Using a non-inferred version will hide this content. We therefore _always_ recommend to apply semantic similarity measures on the fully inferred version of an ontology.\n",
    "\n",
    "First we set up some basic data structures, mainly the graph over which the similarity will be computed."
   ]
  },
  {
   "cell_type": "code",
   "execution_count": 5,
   "metadata": {},
   "outputs": [
    {
     "data": {
      "text/html": [
       "http://aber-owl&#8203;.net/ismb-tutorial/\n",
       "Vertices\n",
       "\tTotal   : 0  \n",
       "Edges \t  : 0\n",
       "\n"
      ]
     },
     "execution_count": 5,
     "metadata": {},
     "output_type": "execute_result"
    }
   ],
   "source": [
    "import org.openrdf.model.vocabulary.*\n",
    "import slib.sglib.io.loader.*\n",
    "import slib.sml.sm.core.metrics.ic.utils.*\n",
    "import slib.sml.sm.core.utils.*\n",
    "import slib.sglib.io.loader.bio.obo.*\n",
    "import org.openrdf.model.URI\n",
    "import slib.graph.algo.extraction.rvf.instances.*\n",
    "import slib.sglib.algo.graph.utils.*\n",
    "import slib.utils.impl.Timer\n",
    "import slib.graph.algo.extraction.utils.*\n",
    "import slib.graph.model.graph.*\n",
    "import slib.graph.model.repo.*\n",
    "import slib.graph.model.impl.graph.memory.*\n",
    "import slib.sml.sm.core.engine.*\n",
    "import slib.graph.io.conf.*\n",
    "import slib.graph.model.impl.graph.elements.*\n",
    "import slib.graph.algo.extraction.rvf.instances.impl.*\n",
    "import slib.graph.model.impl.repo.*\n",
    "import slib.graph.io.util.*\n",
    "import slib.graph.io.loader.*\n",
    "    \n",
    "factory = URIFactoryMemory.getSingleton()\n",
    "URI graph_uri = factory.getURI(\"http://aber-owl.net/ismb-tutorial/\")\n",
    "graph = new GraphMemory(graph_uri)\n"
   ]
  },
  {
   "cell_type": "markdown",
   "metadata": {},
   "source": [
    "Next we populate the graph with the inferred ontology. We use the RDF_XML format which we generated before. There are some warning messages appearing here which can be safely ignored (because the INFO logger seems to write to stderr by default)."
   ]
  },
  {
   "cell_type": "code",
   "execution_count": 6,
   "metadata": {},
   "outputs": [
    {
     "name": "stderr",
     "output_type": "stream",
     "text": [
      "[SciJava-28b46504-Thread-org.scijava.jupyter.kernel.evaluator.ScijavaEvaluator] INFO slib.graph.io.loader.rdf.RDFLoader - -------------------------------------\n",
      "[SciJava-28b46504-Thread-org.scijava.jupyter.kernel.evaluator.ScijavaEvaluator] INFO slib.graph.io.loader.rdf.RDFLoader -  RDF Loader\n",
      "[SciJava-28b46504-Thread-org.scijava.jupyter.kernel.evaluator.ScijavaEvaluator] INFO slib.graph.io.loader.rdf.RDFLoader - -------------------------------------\n",
      "[SciJava-28b46504-Thread-org.scijava.jupyter.kernel.evaluator.ScijavaEvaluator] INFO slib.graph.io.loader.rdf.RDFLoader - Populate graph http://aber-owl.net/ismb-tutorial/ from /home/leechuck/phenomenet-inferred.owl\n",
      "[SciJava-28b46504-Thread-org.scijava.jupyter.kernel.evaluator.ScijavaEvaluator] INFO slib.graph.io.loader.rdf.RDFLoader - Parser loaded for: RDF/XML (mimeTypes=application/rdf+xml, application/xml; ext=rdf, rdfs, owl, xml)\n",
      "[SciJava-28b46504-Thread-org.scijava.jupyter.kernel.evaluator.ScijavaEvaluator] INFO slib.graph.io.loader.rdf.RDFLoader - Parsing RDF file...\n",
      "[SciJava-28b46504-Thread-org.scijava.jupyter.kernel.evaluator.ScijavaEvaluator] INFO slib.graph.io.loader.rdf.SlibRdfHandler - Start Process\n",
      "[SciJava-28b46504-Thread-org.scijava.jupyter.kernel.evaluator.ScijavaEvaluator] INFO slib.graph.io.loader.rdf.SlibRdfHandler - 100000 statements already loaded\n",
      "[SciJava-28b46504-Thread-org.scijava.jupyter.kernel.evaluator.ScijavaEvaluator] INFO slib.graph.io.loader.rdf.SlibRdfHandler - Number of vertices: 36716\n",
      "[SciJava-28b46504-Thread-org.scijava.jupyter.kernel.evaluator.ScijavaEvaluator] INFO slib.graph.io.loader.rdf.SlibRdfHandler - Number of edges   : 100000\n",
      "[SciJava-28b46504-Thread-org.scijava.jupyter.kernel.evaluator.ScijavaEvaluator] INFO slib.graph.io.loader.rdf.SlibRdfHandler - 200000 statements already loaded\n",
      "[SciJava-28b46504-Thread-org.scijava.jupyter.kernel.evaluator.ScijavaEvaluator] INFO slib.graph.io.loader.rdf.SlibRdfHandler - Number of vertices: 79744\n",
      "[SciJava-28b46504-Thread-org.scijava.jupyter.kernel.evaluator.ScijavaEvaluator] INFO slib.graph.io.loader.rdf.SlibRdfHandler - Number of edges   : 200000\n",
      "[SciJava-28b46504-Thread-org.scijava.jupyter.kernel.evaluator.ScijavaEvaluator] INFO slib.graph.io.loader.rdf.SlibRdfHandler - 300000 statements already loaded\n",
      "[SciJava-28b46504-Thread-org.scijava.jupyter.kernel.evaluator.ScijavaEvaluator] INFO slib.graph.io.loader.rdf.SlibRdfHandler - Number of vertices: 115106\n",
      "[SciJava-28b46504-Thread-org.scijava.jupyter.kernel.evaluator.ScijavaEvaluator] INFO slib.graph.io.loader.rdf.SlibRdfHandler - Number of edges   : 300000\n",
      "[SciJava-28b46504-Thread-org.scijava.jupyter.kernel.evaluator.ScijavaEvaluator] INFO slib.graph.io.loader.rdf.SlibRdfHandler - 400000 statements already loaded\n",
      "[SciJava-28b46504-Thread-org.scijava.jupyter.kernel.evaluator.ScijavaEvaluator] INFO slib.graph.io.loader.rdf.SlibRdfHandler - Number of vertices: 157633\n",
      "[SciJava-28b46504-Thread-org.scijava.jupyter.kernel.evaluator.ScijavaEvaluator] INFO slib.graph.io.loader.rdf.SlibRdfHandler - Number of edges   : 400000\n",
      "[SciJava-28b46504-Thread-org.scijava.jupyter.kernel.evaluator.ScijavaEvaluator] INFO slib.graph.io.loader.rdf.SlibRdfHandler - 500000 statements already loaded\n",
      "[SciJava-28b46504-Thread-org.scijava.jupyter.kernel.evaluator.ScijavaEvaluator] INFO slib.graph.io.loader.rdf.SlibRdfHandler - Number of vertices: 189817\n",
      "[SciJava-28b46504-Thread-org.scijava.jupyter.kernel.evaluator.ScijavaEvaluator] INFO slib.graph.io.loader.rdf.SlibRdfHandler - Number of edges   : 500000\n",
      "[SciJava-28b46504-Thread-org.scijava.jupyter.kernel.evaluator.ScijavaEvaluator] INFO slib.graph.io.loader.rdf.SlibRdfHandler - 600000 statements already loaded\n",
      "[SciJava-28b46504-Thread-org.scijava.jupyter.kernel.evaluator.ScijavaEvaluator] INFO slib.graph.io.loader.rdf.SlibRdfHandler - Number of vertices: 220936\n",
      "[SciJava-28b46504-Thread-org.scijava.jupyter.kernel.evaluator.ScijavaEvaluator] INFO slib.graph.io.loader.rdf.SlibRdfHandler - Number of edges   : 600000\n",
      "[SciJava-28b46504-Thread-org.scijava.jupyter.kernel.evaluator.ScijavaEvaluator] INFO slib.graph.io.loader.rdf.SlibRdfHandler - Ending Process 612744 statements loaded \n",
      "[SciJava-28b46504-Thread-org.scijava.jupyter.kernel.evaluator.ScijavaEvaluator] INFO slib.graph.io.loader.rdf.SlibRdfHandler - vertices: 224751\n",
      "[SciJava-28b46504-Thread-org.scijava.jupyter.kernel.evaluator.ScijavaEvaluator] INFO slib.graph.io.loader.rdf.SlibRdfHandler - edges   : 612744\n",
      "[SciJava-28b46504-Thread-org.scijava.jupyter.kernel.evaluator.ScijavaEvaluator] INFO slib.graph.io.loader.rdf.SlibRdfHandler - Skipped (statement involving non URI ressources) : 0\n",
      "[SciJava-28b46504-Thread-org.scijava.jupyter.kernel.evaluator.ScijavaEvaluator] INFO slib.graph.io.loader.rdf.RDFLoader - Graph http://aber-owl.net/ismb-tutorial/ populated by RDF data \n",
      "[SciJava-28b46504-Thread-org.scijava.jupyter.kernel.evaluator.ScijavaEvaluator] INFO slib.graph.io.loader.rdf.RDFLoader - -------------------------------------\n"
     ]
    },
    {
     "data": {
      "text/html": [
       "http://aber-owl&#8203;.net/ismb-tutorial/\n",
       "Vertices\n",
       "\tTotal   : 224751  {e&#8203;.g&#8203;. http://purl&#8203;.obolibrary&#8203;.org/obo/HP&#8203;_0011770}\n",
       "Edges \t  : 612744\n",
       "\n"
      ]
     },
     "execution_count": 6,
     "metadata": {},
     "output_type": "execute_result"
    }
   ],
   "source": [
    "import org.openrdf.model.vocabulary.*\n",
    "import slib.sglib.io.loader.*\n",
    "import slib.sml.sm.core.metrics.ic.utils.*\n",
    "import slib.sml.sm.core.utils.*\n",
    "import slib.sglib.io.loader.bio.obo.*\n",
    "import org.openrdf.model.URI\n",
    "import slib.graph.algo.extraction.rvf.instances.*\n",
    "import slib.sglib.algo.graph.utils.*\n",
    "import slib.utils.impl.Timer\n",
    "import slib.graph.algo.extraction.utils.*\n",
    "import slib.graph.model.graph.*\n",
    "import slib.graph.model.repo.*\n",
    "import slib.graph.model.impl.graph.memory.*\n",
    "import slib.sml.sm.core.engine.*\n",
    "import slib.graph.io.conf.*\n",
    "import slib.graph.model.impl.graph.elements.*\n",
    "import slib.graph.algo.extraction.rvf.instances.impl.*\n",
    "import slib.graph.model.impl.repo.*\n",
    "import slib.graph.io.util.*\n",
    "import slib.graph.io.loader.*\n",
    "    \n",
    "def homeDir = System.getProperty(\"user.home\")\n",
    "File ontfile = new File (homeDir, \"phenomenet-inferred.owl\")\n",
    "GDataConf graphconf = new GDataConf(GFormat.RDF_XML, ontfile.getCanonicalPath())\n",
    "GraphLoaderGeneric.populate(graphconf, graph)\n"
   ]
  },
  {
   "cell_type": "markdown",
   "metadata": {},
   "source": [
    "Sometimes, ontologies (or the taxonomies underlying them) have more than one root (below `owl:Thing`). For example, the Gene Ontology has three roots, _Biological process_, _Molecular function_, and _Cellular Component_. To make classes comparable when they do not share a root (necessary for example in path-based similarity measures), we generate a new artificial root and make this the new root of our semantic graph."
   ]
  },
  {
   "cell_type": "code",
   "execution_count": 7,
   "metadata": {},
   "outputs": [
    {
     "name": "stderr",
     "output_type": "stream",
     "text": [
      "[SciJava-28b46504-Thread-org.scijava.jupyter.kernel.evaluator.ScijavaEvaluator] INFO slib.graph.algo.extraction.utils.GraphActionExecutor - -------------------------------------\n",
      "[SciJava-28b46504-Thread-org.scijava.jupyter.kernel.evaluator.ScijavaEvaluator] INFO slib.graph.algo.extraction.utils.GraphActionExecutor - Rerooting\n",
      "[SciJava-28b46504-Thread-org.scijava.jupyter.kernel.evaluator.ScijavaEvaluator] INFO slib.graph.algo.extraction.utils.GraphActionExecutor - -------------------------------------\n",
      "[SciJava-28b46504-Thread-org.scijava.jupyter.kernel.evaluator.ScijavaEvaluator] INFO slib.graph.algo.extraction.utils.GraphActionExecutor - Fetching root node, uri: http://aber-owl.net/ismb-tutorial/virtualRoot\n",
      "[SciJava-28b46504-Thread-org.scijava.jupyter.kernel.evaluator.ScijavaEvaluator] INFO slib.graph.algo.extraction.utils.RooterDAG - Rooting taxonomic Graph using http://aber-owl.net/ismb-tutorial/virtualRoot\n",
      "[SciJava-28b46504-Thread-org.scijava.jupyter.kernel.evaluator.ScijavaEvaluator] INFO slib.graph.algo.validator.dag.ValidatorDAG - Number of roots 3\n",
      "[SciJava-28b46504-Thread-org.scijava.jupyter.kernel.evaluator.ScijavaEvaluator] INFO slib.graph.algo.validator.dag.ValidatorDAG - Starting process from 168068 vertices\n",
      "[SciJava-28b46504-Thread-org.scijava.jupyter.kernel.evaluator.ScijavaEvaluator] INFO slib.graph.algo.validator.dag.ValidatorDAG - isDag : true\n",
      "[SciJava-28b46504-Thread-org.scijava.jupyter.kernel.evaluator.ScijavaEvaluator] INFO slib.graph.algo.extraction.utils.RooterDAG - Number of roots detected: 3\n",
      "[SciJava-28b46504-Thread-org.scijava.jupyter.kernel.evaluator.ScijavaEvaluator] INFO slib.graph.algo.extraction.utils.RooterDAG - Rooting performed using http://aber-owl.net/ismb-tutorial/virtualRoot as root 3 edges created\n",
      "[SciJava-28b46504-Thread-org.scijava.jupyter.kernel.evaluator.ScijavaEvaluator] INFO slib.graph.algo.validator.dag.ValidatorDAG - Number of roots 1\n",
      "[SciJava-28b46504-Thread-org.scijava.jupyter.kernel.evaluator.ScijavaEvaluator] INFO slib.graph.algo.validator.dag.ValidatorDAG - isDag : true\n",
      "[SciJava-28b46504-Thread-org.scijava.jupyter.kernel.evaluator.ScijavaEvaluator] INFO slib.graph.algo.extraction.utils.GraphActionExecutor - Rerooting performed\n",
      "[SciJava-28b46504-Thread-org.scijava.jupyter.kernel.evaluator.ScijavaEvaluator] INFO slib.graph.algo.extraction.utils.GraphActionExecutor - -------------------------------------\n"
     ]
    }
   ],
   "source": [
    "import org.openrdf.model.vocabulary.*\n",
    "import slib.sglib.io.loader.*\n",
    "import slib.sml.sm.core.metrics.ic.utils.*\n",
    "import slib.sml.sm.core.utils.*\n",
    "import slib.sglib.io.loader.bio.obo.*\n",
    "import org.openrdf.model.URI\n",
    "import slib.graph.algo.extraction.rvf.instances.*\n",
    "import slib.sglib.algo.graph.utils.*\n",
    "import slib.utils.impl.Timer\n",
    "import slib.graph.algo.extraction.utils.*\n",
    "import slib.graph.model.graph.*\n",
    "import slib.graph.model.repo.*\n",
    "import slib.graph.model.impl.graph.memory.*\n",
    "import slib.sml.sm.core.engine.*\n",
    "import slib.graph.io.conf.*\n",
    "import slib.graph.model.impl.graph.elements.*\n",
    "import slib.graph.algo.extraction.rvf.instances.impl.*\n",
    "import slib.graph.model.impl.repo.*\n",
    "import slib.graph.io.util.*\n",
    "import slib.graph.io.loader.*\n",
    "\n",
    "\n",
    "URI virtualRoot = factory.getURI(\"http://aber-owl.net/ismb-tutorial/virtualRoot\")\n",
    "graph.addV(virtualRoot)\n",
    "GAction rooting = new GAction(GActionType.REROOTING)\n",
    "rooting.addParameter(\"root_uri\", virtualRoot.stringValue())\n",
    "GraphActionExecutor.applyAction(factory, rooting, graph)\n"
   ]
  },
  {
   "cell_type": "markdown",
   "metadata": {},
   "source": [
    "Now we configure the semantic similarity measure we want to use.\n",
    "\n",
    "Because we do not have instances, we use only the ontology structure to determine how specific a class is (`IC_Conf_Topo` below for use of a specificity measure based only on the topology of the semantic graph). We use Resnik's similarity measure (\"similarity of two classes is the specificity value of their most specific common ancestor\")."
   ]
  },
  {
   "cell_type": "code",
   "execution_count": 8,
   "metadata": {},
   "outputs": [
    {
     "name": "stderr",
     "output_type": "stream",
     "text": [
      "[SciJava-28b46504-Thread-org.scijava.jupyter.kernel.evaluator.ScijavaEvaluator] INFO slib.sml.sm.core.engine.SM_Engine - ================================================================\n",
      "[SciJava-28b46504-Thread-org.scijava.jupyter.kernel.evaluator.ScijavaEvaluator] INFO slib.sml.sm.core.engine.SM_Engine - Loading Semantic Measures Engine for graph http://aber-owl.net/ismb-tutorial/\n",
      "[SciJava-28b46504-Thread-org.scijava.jupyter.kernel.evaluator.ScijavaEvaluator] INFO slib.sml.sm.core.engine.SM_Engine - ================================================================\n",
      "[SciJava-28b46504-Thread-org.scijava.jupyter.kernel.evaluator.ScijavaEvaluator] INFO slib.sml.sm.core.engine.SM_Engine - Graph Info: \n",
      "[SciJava-28b46504-Thread-org.scijava.jupyter.kernel.evaluator.ScijavaEvaluator] INFO slib.sml.sm.core.engine.SM_Engine - http://aber-owl.net/ismb-tutorial/\n",
      "Vertices\n",
      "\tTotal   : 224752  {e.g. http://purl.obolibrary.org/obo/HP_0011770}\n",
      "Edges \t  : 612747\n",
      "\n",
      "\n",
      "[SciJava-28b46504-Thread-org.scijava.jupyter.kernel.evaluator.ScijavaEvaluator] INFO slib.sml.sm.core.engine.SM_Engine - ---------------------------------------------------------------\n",
      "[SciJava-28b46504-Thread-org.scijava.jupyter.kernel.evaluator.ScijavaEvaluator] INFO slib.sml.sm.core.engine.SM_Engine - Pre-processing\n",
      "[SciJava-28b46504-Thread-org.scijava.jupyter.kernel.evaluator.ScijavaEvaluator] INFO slib.sml.sm.core.engine.SM_Engine - ---------------------------------------------------------------\n",
      "[SciJava-28b46504-Thread-org.scijava.jupyter.kernel.evaluator.ScijavaEvaluator] INFO slib.sml.sm.core.engine.SM_Engine - Computing classes...\n",
      "[SciJava-28b46504-Thread-org.scijava.jupyter.kernel.evaluator.ScijavaEvaluator] INFO slib.sml.sm.core.engine.SM_Engine - Computing instances...\n",
      "[SciJava-28b46504-Thread-org.scijava.jupyter.kernel.evaluator.ScijavaEvaluator] INFO slib.sml.sm.core.engine.SM_Engine - Classes  : 224751\n",
      "[SciJava-28b46504-Thread-org.scijava.jupyter.kernel.evaluator.ScijavaEvaluator] INFO slib.sml.sm.core.engine.SM_Engine - Instances: 1\n",
      "[SciJava-28b46504-Thread-org.scijava.jupyter.kernel.evaluator.ScijavaEvaluator] INFO slib.sml.sm.core.engine.SM_Engine - ---------------------------------------------------------------\n",
      "[SciJava-28b46504-Thread-org.scijava.jupyter.kernel.evaluator.ScijavaEvaluator] INFO slib.sml.sm.core.engine.SM_Engine - Inferences \n",
      "[SciJava-28b46504-Thread-org.scijava.jupyter.kernel.evaluator.ScijavaEvaluator] INFO slib.sml.sm.core.engine.SM_Engine - ---------------------------------------------------------------\n",
      "[SciJava-28b46504-Thread-org.scijava.jupyter.kernel.evaluator.ScijavaEvaluator] INFO slib.sml.sm.core.engine.SM_Engine - Inferring ancestors...\n",
      "[SciJava-28b46504-Thread-org.scijava.jupyter.kernel.evaluator.ScijavaEvaluator] INFO slib.graph.algo.extraction.rvf.AncestorEngine - Checking Treatment coherency\n",
      "[SciJava-28b46504-Thread-org.scijava.jupyter.kernel.evaluator.ScijavaEvaluator] INFO slib.graph.algo.extraction.rvf.AncestorEngine - Incoherencies : 0\n",
      "[SciJava-28b46504-Thread-org.scijava.jupyter.kernel.evaluator.ScijavaEvaluator] INFO slib.sml.sm.core.engine.SM_Engine - Inferring descendants...\n",
      "[SciJava-28b46504-Thread-org.scijava.jupyter.kernel.evaluator.ScijavaEvaluator] INFO slib.graph.algo.extraction.rvf.DescendantEngine - Checking Treatment coherency\n",
      "[SciJava-28b46504-Thread-org.scijava.jupyter.kernel.evaluator.ScijavaEvaluator] INFO slib.graph.algo.extraction.rvf.DescendantEngine - Incoherencies : 0\n",
      "[SciJava-28b46504-Thread-org.scijava.jupyter.kernel.evaluator.ScijavaEvaluator] INFO slib.sml.sm.core.engine.SM_Engine - Inferring Conceptual Leaves...\n",
      "[SciJava-28b46504-Thread-org.scijava.jupyter.kernel.evaluator.ScijavaEvaluator] INFO slib.sml.sm.core.engine.SM_Engine - ---------------------------------------------------------------\n",
      "[SciJava-28b46504-Thread-org.scijava.jupyter.kernel.evaluator.ScijavaEvaluator] INFO slib.sml.sm.core.engine.SM_Engine - Engine initialized\n",
      "[SciJava-28b46504-Thread-org.scijava.jupyter.kernel.evaluator.ScijavaEvaluator] INFO slib.sml.sm.core.engine.SM_Engine - ================================================================\n"
     ]
    },
    {
     "data": {
      "text/html": [
       "slib&#8203;.sml&#8203;.sm&#8203;.core&#8203;.engine&#8203;.SM&#8203;_Engine&#8203;@52403d1d"
      ]
     },
     "execution_count": 8,
     "metadata": {},
     "output_type": "execute_result"
    }
   ],
   "source": [
    "import org.openrdf.model.vocabulary.*\n",
    "import slib.sglib.io.loader.*\n",
    "import slib.sml.sm.core.metrics.ic.utils.*\n",
    "import slib.sml.sm.core.utils.*\n",
    "import slib.sglib.io.loader.bio.obo.*\n",
    "import org.openrdf.model.URI\n",
    "import slib.graph.algo.extraction.rvf.instances.*\n",
    "import slib.sglib.algo.graph.utils.*\n",
    "import slib.utils.impl.Timer\n",
    "import slib.graph.algo.extraction.utils.*\n",
    "import slib.graph.model.graph.*\n",
    "import slib.graph.model.repo.*\n",
    "import slib.graph.model.impl.graph.memory.*\n",
    "import slib.sml.sm.core.engine.*\n",
    "import slib.graph.io.conf.*\n",
    "import slib.graph.model.impl.graph.elements.*\n",
    "import slib.graph.algo.extraction.rvf.instances.impl.*\n",
    "import slib.graph.model.impl.repo.*\n",
    "import slib.graph.io.util.*\n",
    "import slib.graph.io.loader.*\n",
    "\n",
    "// configure the semantic similarity measure: use Resnik's (extrinsic) information content measure, and Resnik's similarity measure\n",
    "icConf = new IC_Conf_Topo(\"Sanchez\", SMConstants.FLAG_ICI_SANCHEZ_2011)\n",
    "smConfPairwise = new SMconf(\"Resnik\", SMConstants.FLAG_SIM_PAIRWISE_DAG_NODE_RESNIK_1995 )\n",
    "smConfPairwise.setICconf(icConf)\n",
    "\n",
    "// initialize the engine\n",
    "engine = new SM_Engine(graph)\n",
    "\n"
   ]
  },
  {
   "cell_type": "markdown",
   "metadata": {},
   "source": [
    "Now we can compare some classes and determine how similar they are. Feel free to change the code to some new classes and see how the similarity changes.\n",
    "\n",
    "You can use classes from the Human Phenotype Ontology (HPO) and the Mammalian Phenotype Ontology (MPO) for similarity computation between phenotypes. Since we are using the PhenomeNET ontology (see [our paper](http://journals.plos.org/ploscompbiol/article?id=10.1371/journal.pcbi.1005500)), classes in both ontologies are actually comparable."
   ]
  },
  {
   "cell_type": "code",
   "execution_count": 9,
   "metadata": {},
   "outputs": [
    {
     "name": "stderr",
     "output_type": "stream",
     "text": [
      "[SciJava-28b46504-Thread-org.scijava.jupyter.kernel.evaluator.ScijavaEvaluator] INFO slib.sml.sm.core.engine.SM_Engine - ---------------------------------------------------------------\n",
      "[SciJava-28b46504-Thread-org.scijava.jupyter.kernel.evaluator.ScijavaEvaluator] INFO slib.sml.sm.core.engine.SM_Engine - computing IC Sanchez\n",
      "[SciJava-28b46504-Thread-org.scijava.jupyter.kernel.evaluator.ScijavaEvaluator] INFO slib.sml.sm.core.engine.SM_Engine - ---------------------------------------------------------------\n",
      "[SciJava-28b46504-Thread-org.scijava.jupyter.kernel.evaluator.ScijavaEvaluator] INFO slib.sml.sm.core.engine.SM_Engine - Class name slib.sml.sm.core.metrics.ic.topo.ICi_sanchez_2011\n",
      "[SciJava-28b46504-Thread-org.scijava.jupyter.kernel.evaluator.ScijavaEvaluator] INFO slib.sml.sm.core.engine.SM_Engine - Computing Nb Reachable Leaves : start\n",
      "[SciJava-28b46504-Thread-org.scijava.jupyter.kernel.evaluator.ScijavaEvaluator] INFO slib.graph.algo.extraction.rvf.DescendantEngine - Retrieving all reachable leaves\n",
      "[SciJava-28b46504-Thread-org.scijava.jupyter.kernel.evaluator.ScijavaEvaluator] INFO slib.graph.algo.extraction.rvf.DescendantEngine - Propagation of leave counts start from 168068 leaves on 224752 concepts\n",
      "[SciJava-28b46504-Thread-org.scijava.jupyter.kernel.evaluator.ScijavaEvaluator] INFO slib.sml.sm.core.engine.SM_Engine - Computing Nb Reachable Leaves : end\n",
      "[SciJava-28b46504-Thread-org.scijava.jupyter.kernel.evaluator.ScijavaEvaluator] INFO slib.sml.sm.core.engine.SM_Engine - Checking null or infinite in the ICs computed\n",
      "[SciJava-28b46504-Thread-org.scijava.jupyter.kernel.evaluator.ScijavaEvaluator] INFO slib.sml.sm.core.engine.SM_Engine - ic Sanchez computed\n",
      "[SciJava-28b46504-Thread-org.scijava.jupyter.kernel.evaluator.ScijavaEvaluator] INFO slib.sml.sm.core.engine.SM_Engine - ---------------------------------------------------------------\n"
     ]
    },
    {
     "name": "stdout",
     "output_type": "stream",
     "text": [
      "Similarity between 'Ear pain' and 'mid frequency hearing loss': 8.617973362046424\n"
     ]
    }
   ],
   "source": [
    "// similarity between two classes from HPO\n",
    "cl1 = factory.getURI(\"http://purl.obolibrary.org/obo/HP_0030766\") // Ear pain\n",
    "cl2 = factory.getURI(\"http://purl.obolibrary.org/obo/HP_0012781\") // mid frequency hearing loss\n",
    "println \"Similarity between 'Ear pain' and 'mid frequency hearing loss': \"+engine.compare(smConfPairwise, cl1, cl2)\n"
   ]
  },
  {
   "cell_type": "code",
   "execution_count": 10,
   "metadata": {},
   "outputs": [
    {
     "name": "stdout",
     "output_type": "stream",
     "text": [
      "Similarity between 'Ear pain' and 'tetralogy of fallot': 5.755799731300896\n"
     ]
    }
   ],
   "source": [
    "// similarity between two classes from HPO\n",
    "cl2 = factory.getURI(\"http://purl.obolibrary.org/obo/HP_0001636\") // tetralogy of fallot\n",
    "println \"Similarity between 'Ear pain' and 'tetralogy of fallot': \"+engine.compare(smConfPairwise, cl1, cl2)\n"
   ]
  },
  {
   "cell_type": "code",
   "execution_count": null,
   "metadata": {},
   "outputs": [],
   "source": [
    "// similarity between two classes, one from HPO and one from MP\n",
    "cl1 = factory.getURI(\"http://purl.obolibrary.org/obo/MP_0004084\") // abnormal cardiac muscle relaxation\n",
    "cl2 = factory.getURI(\"http://purl.obolibrary.org/obo/HP_0001636\") // tetralogy of fallot\n",
    "println \"Similarity between 'abnormal cardiac muscle relaxation' (MP) and 'tetralogy of fallot' (HP): \"+engine.compare(smConfPairwise, cl1, cl2)\n"
   ]
  },
  {
   "cell_type": "code",
   "execution_count": 11,
   "metadata": {},
   "outputs": [
    {
     "name": "stdout",
     "output_type": "stream",
     "text": [
      "Similarity between 'ventricular septal defect' (MP) and 'tetralogy of fallot' (HP): 11.744447815899305\n"
     ]
    }
   ],
   "source": [
    "// similarity between two classes, one from HPO and one from MP\n",
    "cl1 = factory.getURI(\"http://purl.obolibrary.org/obo/MP_0010402\") // ventricular septal defect\n",
    "println \"Similarity between 'ventricular septal defect' (MP) and 'tetralogy of fallot' (HP): \"+engine.compare(smConfPairwise, cl1, cl2)\n"
   ]
  },
  {
   "cell_type": "markdown",
   "metadata": {},
   "source": [
    "So far, we have only looked at comparisons between two individual classes. This may be nice if we just want to understand how the classes in an ontology are related, but usually we want to compare _things that are annotated with classes_ from an ontology.\n",
    "\n",
    "We now download mouse phenotypes resulting from single gene knockouts (note: replace `http://www.informatics.jax.org/downloads/reports/MGI_GenePheno.rpt` with a `file:...` URL in case of slow Internet connection; you can find the file `MGI_GenePheno.rpt` in our data package), and add each gene as an instance of its phenotype classes (using an `rdf:type` edge). \n",
    "\n",
    "Important: this is __not__ the right way to do this in an ontology but is an artifact of the Semantic Measures Library. When building an ontology, a _gene_ is not an _instance_ of a phenotype, but will be related to the phenotype through other kinds of relations. In the Semantic Measures Library, we will treat them as instances, however."
   ]
  },
  {
   "cell_type": "code",
   "execution_count": 13,
   "metadata": {},
   "outputs": [],
   "source": [
    "import org.openrdf.model.vocabulary.*\n",
    "import slib.sglib.io.loader.*\n",
    "import slib.sml.sm.core.metrics.ic.utils.*\n",
    "import slib.sml.sm.core.utils.*\n",
    "import slib.sglib.io.loader.bio.obo.*\n",
    "import org.openrdf.model.URI\n",
    "import slib.graph.algo.extraction.rvf.instances.*\n",
    "import slib.sglib.algo.graph.utils.*\n",
    "import slib.utils.impl.Timer\n",
    "import slib.graph.algo.extraction.utils.*\n",
    "import slib.graph.model.graph.*\n",
    "import slib.graph.model.repo.*\n",
    "import slib.graph.model.impl.graph.memory.*\n",
    "import slib.sml.sm.core.engine.*\n",
    "import slib.graph.io.conf.*\n",
    "import slib.graph.model.impl.graph.elements.*\n",
    "import slib.graph.algo.extraction.rvf.instances.impl.*\n",
    "import slib.graph.model.impl.repo.*\n",
    "import slib.graph.io.util.*\n",
    "import slib.graph.io.loader.*\n",
    "\n",
    "// now we download mouse phenotype annotations and add them to our graph as instances (using rdf:type)\n",
    "new URL (\"file:misc/MGI_GenePheno.rpt\").getText().splitEachLine(\"\\t\") { line ->\n",
    "  def geneid = line[6]\n",
    "  def idUri = factory.getURI(\"http://phenomebrowser.net/ismb-tutorial/gene/\"+geneid)\n",
    "  def pheno = line[4].replaceAll(\":\",\"_\")\n",
    "  def phenoUri = factory.getURI(\"http://purl.obolibrary.org/obo/\"+pheno)\n",
    "  Edge e = new Edge(idUri, RDF.TYPE, phenoUri)\n",
    "  graph.addE(e)\n",
    "}\n"
   ]
  },
  {
   "cell_type": "markdown",
   "metadata": {},
   "source": [
    "In the presence of instances, we can change our class specificity measure. We now use Resnik's specificity measure, which is just the information content of a class (i.e., `-log(p(c))` where `p(c)` is the probability to have an instance annotated with the class. This is a specificity measure that relies on instances, and is therefore a _corpus-based_ measure (using `IC_Conf_Corpus` below).\n",
    "\n",
    "We also configure a group-wise measure now, using the Best-Matching Average strategy. This will allow us to compare sets of classes to sets of classes.\n",
    "\n",
    "Finally, the `InstanceAccessor` will allow us to identify all instances of our classes."
   ]
  },
  {
   "cell_type": "code",
   "execution_count": 14,
   "metadata": {},
   "outputs": [
    {
     "name": "stderr",
     "output_type": "stream",
     "text": [
      "[SciJava-28b46504-Thread-org.scijava.jupyter.kernel.evaluator.ScijavaEvaluator] INFO slib.sml.sm.core.engine.SM_Engine - ================================================================\n",
      "[SciJava-28b46504-Thread-org.scijava.jupyter.kernel.evaluator.ScijavaEvaluator] INFO slib.sml.sm.core.engine.SM_Engine - Loading Semantic Measures Engine for graph http://aber-owl.net/ismb-tutorial/\n",
      "[SciJava-28b46504-Thread-org.scijava.jupyter.kernel.evaluator.ScijavaEvaluator] INFO slib.sml.sm.core.engine.SM_Engine - ================================================================\n",
      "[SciJava-28b46504-Thread-org.scijava.jupyter.kernel.evaluator.ScijavaEvaluator] INFO slib.sml.sm.core.engine.SM_Engine - Graph Info: \n",
      "[SciJava-28b46504-Thread-org.scijava.jupyter.kernel.evaluator.ScijavaEvaluator] INFO slib.sml.sm.core.engine.SM_Engine - http://aber-owl.net/ismb-tutorial/\n",
      "Vertices\n",
      "\tTotal   : 237689  {e.g. http://purl.obolibrary.org/obo/HP_0011770}\n",
      "Edges \t  : 779607\n",
      "\n",
      "\n",
      "[SciJava-28b46504-Thread-org.scijava.jupyter.kernel.evaluator.ScijavaEvaluator] INFO slib.sml.sm.core.engine.SM_Engine - ---------------------------------------------------------------\n",
      "[SciJava-28b46504-Thread-org.scijava.jupyter.kernel.evaluator.ScijavaEvaluator] INFO slib.sml.sm.core.engine.SM_Engine - Pre-processing\n",
      "[SciJava-28b46504-Thread-org.scijava.jupyter.kernel.evaluator.ScijavaEvaluator] INFO slib.sml.sm.core.engine.SM_Engine - ---------------------------------------------------------------\n",
      "[SciJava-28b46504-Thread-org.scijava.jupyter.kernel.evaluator.ScijavaEvaluator] INFO slib.sml.sm.core.engine.SM_Engine - Computing classes...\n",
      "[SciJava-28b46504-Thread-org.scijava.jupyter.kernel.evaluator.ScijavaEvaluator] INFO slib.sml.sm.core.engine.SM_Engine - Computing instances...\n",
      "[SciJava-28b46504-Thread-org.scijava.jupyter.kernel.evaluator.ScijavaEvaluator] INFO slib.sml.sm.core.engine.SM_Engine - Classes  : 225475\n",
      "[SciJava-28b46504-Thread-org.scijava.jupyter.kernel.evaluator.ScijavaEvaluator] INFO slib.sml.sm.core.engine.SM_Engine - Instances: 12938\n",
      "[SciJava-28b46504-Thread-org.scijava.jupyter.kernel.evaluator.ScijavaEvaluator] INFO slib.sml.sm.core.engine.SM_Engine - ---------------------------------------------------------------\n",
      "[SciJava-28b46504-Thread-org.scijava.jupyter.kernel.evaluator.ScijavaEvaluator] INFO slib.sml.sm.core.engine.SM_Engine - Inferences \n",
      "[SciJava-28b46504-Thread-org.scijava.jupyter.kernel.evaluator.ScijavaEvaluator] INFO slib.sml.sm.core.engine.SM_Engine - ---------------------------------------------------------------\n",
      "[SciJava-28b46504-Thread-org.scijava.jupyter.kernel.evaluator.ScijavaEvaluator] INFO slib.sml.sm.core.engine.SM_Engine - Inferring ancestors...\n",
      "[SciJava-28b46504-Thread-org.scijava.jupyter.kernel.evaluator.ScijavaEvaluator] INFO slib.graph.algo.extraction.rvf.AncestorEngine - Checking Treatment coherency\n",
      "[SciJava-28b46504-Thread-org.scijava.jupyter.kernel.evaluator.ScijavaEvaluator] INFO slib.graph.algo.extraction.rvf.AncestorEngine - Incoherencies : 0\n",
      "[SciJava-28b46504-Thread-org.scijava.jupyter.kernel.evaluator.ScijavaEvaluator] INFO slib.sml.sm.core.engine.SM_Engine - Inferring descendants...\n",
      "[SciJava-28b46504-Thread-org.scijava.jupyter.kernel.evaluator.ScijavaEvaluator] INFO slib.graph.algo.extraction.rvf.DescendantEngine - Checking Treatment coherency\n",
      "[SciJava-28b46504-Thread-org.scijava.jupyter.kernel.evaluator.ScijavaEvaluator] INFO slib.graph.algo.extraction.rvf.DescendantEngine - Incoherencies : 0\n",
      "[SciJava-28b46504-Thread-org.scijava.jupyter.kernel.evaluator.ScijavaEvaluator] INFO slib.sml.sm.core.engine.SM_Engine - Inferring Conceptual Leaves...\n",
      "[SciJava-28b46504-Thread-org.scijava.jupyter.kernel.evaluator.ScijavaEvaluator] INFO slib.sml.sm.core.engine.SM_Engine - ---------------------------------------------------------------\n",
      "[SciJava-28b46504-Thread-org.scijava.jupyter.kernel.evaluator.ScijavaEvaluator] INFO slib.sml.sm.core.engine.SM_Engine - Engine initialized\n",
      "[SciJava-28b46504-Thread-org.scijava.jupyter.kernel.evaluator.ScijavaEvaluator] INFO slib.sml.sm.core.engine.SM_Engine - ================================================================\n"
     ]
    },
    {
     "data": {
      "text/html": [
       "slib&#8203;.graph&#8203;.algo&#8203;.extraction&#8203;.rvf&#8203;.instances&#8203;.impl&#8203;.InstanceAccessor&#8203;_RDF&#8203;_TYPE&#8203;@43e03378"
      ]
     },
     "execution_count": 14,
     "metadata": {},
     "output_type": "execute_result"
    }
   ],
   "source": [
    "import org.openrdf.model.vocabulary.*\n",
    "import slib.sglib.io.loader.*\n",
    "import slib.sml.sm.core.metrics.ic.utils.*\n",
    "import slib.sml.sm.core.utils.*\n",
    "import slib.sglib.io.loader.bio.obo.*\n",
    "import org.openrdf.model.URI\n",
    "import slib.graph.algo.extraction.rvf.instances.*\n",
    "import slib.sglib.algo.graph.utils.*\n",
    "import slib.utils.impl.Timer\n",
    "import slib.graph.algo.extraction.utils.*\n",
    "import slib.graph.model.graph.*\n",
    "import slib.graph.model.repo.*\n",
    "import slib.graph.model.impl.graph.memory.*\n",
    "import slib.sml.sm.core.engine.*\n",
    "import slib.graph.io.conf.*\n",
    "import slib.graph.model.impl.graph.elements.*\n",
    "import slib.graph.algo.extraction.rvf.instances.impl.*\n",
    "import slib.graph.model.impl.repo.*\n",
    "import slib.graph.io.util.*\n",
    "import slib.graph.io.loader.*\n",
    "\n",
    "\n",
    "// now that we have instances/annotations, we switch to Resnik's information content measure\n",
    "icConf = new IC_Conf_Corpus(\"ResnikIC\", SMConstants.FLAG_IC_ANNOT_RESNIK_1995_NORMALIZED)\n",
    "smConfPairwise.setICconf(icConf)\n",
    "// using Best-Matching Average to merge annotations when comparing sets of classes\n",
    "smConfGroupwise = new SMconf(\"BMA\", SMConstants.FLAG_SIM_GROUPWISE_BMA)\n",
    "// and re-initialize the graph\n",
    "engine = new SM_Engine(graph)\n",
    "\n",
    "// we need this to find our instances again\n",
    "ia = new InstanceAccessor_RDF_TYPE(graph)\n",
    "\n"
   ]
  },
  {
   "cell_type": "markdown",
   "metadata": {},
   "source": [
    "We can now compute again similarity between two classes. Note how the similarity values change. Feel free to experiment with this and compare different classes."
   ]
  },
  {
   "cell_type": "code",
   "execution_count": 15,
   "metadata": {},
   "outputs": [
    {
     "name": "stderr",
     "output_type": "stream",
     "text": [
      "[SciJava-28b46504-Thread-org.scijava.jupyter.kernel.evaluator.ScijavaEvaluator] INFO slib.sml.sm.core.engine.SM_Engine - ---------------------------------------------------------------\n",
      "[SciJava-28b46504-Thread-org.scijava.jupyter.kernel.evaluator.ScijavaEvaluator] INFO slib.sml.sm.core.engine.SM_Engine - computing IC ResnikIC\n",
      "[SciJava-28b46504-Thread-org.scijava.jupyter.kernel.evaluator.ScijavaEvaluator] INFO slib.sml.sm.core.engine.SM_Engine - ---------------------------------------------------------------\n",
      "[SciJava-28b46504-Thread-org.scijava.jupyter.kernel.evaluator.ScijavaEvaluator] INFO slib.sml.sm.core.engine.SM_Engine - Class name slib.sml.sm.core.metrics.ic.annot.IC_annot_resnik_1995_Normalized\n",
      "[SciJava-28b46504-Thread-org.scijava.jupyter.kernel.evaluator.ScijavaEvaluator] INFO slib.sml.sm.core.engine.SM_Engine - Checking null or infinite in the ICs computed\n",
      "[SciJava-28b46504-Thread-org.scijava.jupyter.kernel.evaluator.ScijavaEvaluator] INFO slib.sml.sm.core.engine.SM_Engine - ic ResnikIC computed\n",
      "[SciJava-28b46504-Thread-org.scijava.jupyter.kernel.evaluator.ScijavaEvaluator] INFO slib.sml.sm.core.engine.SM_Engine - ---------------------------------------------------------------\n"
     ]
    },
    {
     "name": "stdout",
     "output_type": "stream",
     "text": [
      "Similarity (Resnik) between 'abnormal cardiac muscle relaxation' (MP) and 'tetralogy of fallot' (HP): 0.30687152162569886\n"
     ]
    }
   ],
   "source": [
    "// similarity between two classes, one from HPO and one from MP\n",
    "cl1 = factory.getURI(\"http://purl.obolibrary.org/obo/MP_0004084\") // abnormal cardiac muscle relaxation\n",
    "cl2 = factory.getURI(\"http://purl.obolibrary.org/obo/HP_0001636\") // tetralogy of fallot\n",
    "println \"Similarity (Resnik) between 'abnormal cardiac muscle relaxation' (MP) and 'tetralogy of fallot' (HP): \"+engine.compare(smConfPairwise, cl1, cl2)\n"
   ]
  },
  {
   "cell_type": "code",
   "execution_count": 16,
   "metadata": {},
   "outputs": [
    {
     "name": "stdout",
     "output_type": "stream",
     "text": [
      "Similarity (Resnik) between 'ventricular septal defect' (MP) and 'tetralogy of fallot' (HP): 0.5605218915985221\n"
     ]
    }
   ],
   "source": [
    "// similarity between two classes, one from HPO and one from MP\n",
    "cl1 = factory.getURI(\"http://purl.obolibrary.org/obo/MP_0010402\") // ventricular septal defect\n",
    "println \"Similarity (Resnik) between 'ventricular septal defect' (MP) and 'tetralogy of fallot' (HP): \"+engine.compare(smConfPairwise, cl1, cl2)\n"
   ]
  },
  {
   "cell_type": "markdown",
   "metadata": {},
   "source": [
    "With the presence of mouse genes as instances in our semantic graph, we can do some more sophisticated analyses. Here, we define a patient through a set of phenotypes (i.e., clinical signs and symptoms). The patient has a rare, heritable form of macular dystrophy without known etiology (see https://www.omim.org/entry/153840). We hypothesize that there may be a mouse knockout that resembles this disease, and possibly the human ortholog of the mouse gene may also be involved in this form of macular dystrophy.\n",
    "\n",
    "We compare our patient to _all_ instances in our graph (i.e., all mouse knockouts) using our measure of phenotypic similarity. We then sort the resulting list by their similarity score in descending order, and output the top 10 predictions."
   ]
  },
  {
   "cell_type": "code",
   "execution_count": 18,
   "metadata": {},
   "outputs": [
    {
     "name": "stdout",
     "output_type": "stream",
     "text": [
      "Highest ranking genes for patient 1 (macular dystrophy): \n"
     ]
    },
    {
     "data": {
      "text/html": [
       "<style>table.converted {color: #333; font-family: Helvetica, Arial, sans-serif; border-collapse: collapse; border-spacing: 0;}table.converted td, table.converted th {border: 1px solid #C9C7C7;}table.converted th, table.converted td.rowLabel {background: #626262; color: #FFFFFF; font-weight: bold; text-align: left;}table.converted td {text-align: left;}table.converted tr:nth-child(even) {background: #F3F3F3;}table.converted tr:nth-child(odd) {background: #FFFFFF;}table.converted tbody tr:hover {background: #BDF4B5;}table.converted td.rowLabel, table.converted th.rowLabel {display: none;}</style><table class=\"converted\"><tbody><tr><td>{gene=http://phenomebrowser&#8203;.net/ismb-tutorial/gene/MGI:5792188, sim=0&#8203;.5555893918721817}</td></tr><tr><td>{gene=http://phenomebrowser&#8203;.net/ismb-tutorial/gene/MGI:1097692, sim=0&#8203;.5423467880015543}</td></tr><tr><td>{gene=http://phenomebrowser&#8203;.net/ismb-tutorial/gene/MGI:1915084, sim=0&#8203;.5276590352710075}</td></tr><tr><td>{gene=http://phenomebrowser&#8203;.net/ismb-tutorial/gene/MGI:2384871, sim=0&#8203;.5198831701567547}</td></tr><tr><td>{gene=http://phenomebrowser&#8203;.net/ismb-tutorial/gene/MGI:97525, sim=0&#8203;.5064965880467487}</td></tr><tr><td>{gene=http://phenomebrowser&#8203;.net/ismb-tutorial/gene/MGI:2685267, sim=0&#8203;.5015339678444678}</td></tr><tr><td>{gene=http://phenomebrowser&#8203;.net/ismb-tutorial/gene/MGI:95793, sim=0&#8203;.49775295336856695}</td></tr><tr><td>{gene=http://phenomebrowser&#8203;.net/ismb-tutorial/gene/MGI:1277953, sim=0&#8203;.4960533580227945}</td></tr><tr><td>{gene=http://phenomebrowser&#8203;.net/ismb-tutorial/gene/MGI:2448607, sim=0&#8203;.49545547645498755}</td></tr><tr><td>{gene=http://phenomebrowser&#8203;.net/ismb-tutorial/gene/MGI:1341818, sim=0&#8203;.4940524682750143}</td></tr><tr><td>{gene=http://phenomebrowser&#8203;.net/ismb-tutorial/gene/MGI:1339969, sim=0&#8203;.489986747260717}</td></tr></tbody></table>"
      ]
     },
     "execution_count": 18,
     "metadata": {},
     "output_type": "execute_result"
    }
   ],
   "source": [
    "// that's our patient, with a single phenotype of an orphan disease, \"MACULAR DYSTROPHY, VITELLIFORM, 1; VMD1\" (https://www.omim.org/entry/153840)\n",
    "Set patient = [ factory.getURI(\"http://purl.obolibrary.org/obo/HP_0007754\"), factory.getURI(\"http://purl.obolibrary.org/obo/HP_0007663\"), factory.getURI(\"http://purl.obolibrary.org/obo/HP_0001123\"), \n",
    "  factory.getURI(\"http://purl.obolibrary.org/obo/HP_0000505\"), factory.getURI(\"http://purl.obolibrary.org/obo/HP_0007677\") ]\n",
    "// we store the similarity values in the results set\n",
    "def results = new LinkedHashSet()\n",
    "engine.getInstances().each { gene ->\n",
    "  def phenoSet = ia.getDirectClass(gene) // gets all the annotations of each instance (gene)\n",
    "  Expando exp = new Expando()\n",
    "  try { // this part might fail if the version of MP we use to compute similarity and the MP used for annotation is different; we ignore all errors for now\n",
    "    exp.sim = engine.compare(smConfGroupwise, smConfPairwise, phenoSet, patient)\n",
    "    exp.gene = gene\n",
    "    results.add(exp)\n",
    "  } catch (Exception E) {}\n",
    "}\n",
    "// sorting results by similarity (highest first) and output the top 10 predictions\n",
    "println \"Highest ranking genes for patient 1 (macular dystrophy): \"\n",
    "results.sort { it.sim }.reverse()[0..10]\n"
   ]
  },
  {
   "cell_type": "markdown",
   "metadata": {},
   "source": [
    "We test this with another patient, this time with Wiskott-Aldrich Syndrome (https://www.omim.org/entry/301000). \n",
    "Wiskott-Aldrich Syndrome is a rare genetically-based disease in which the WAS gene is known to be causally involved. In the mouse, there is also a FOXP3 model that is used as a disease model for Wiskott-Aldrich syndrome (http://www.informatics.jax.org/allele/MGI:1857034)."
   ]
  },
  {
   "cell_type": "code",
   "execution_count": 19,
   "metadata": {},
   "outputs": [
    {
     "name": "stdout",
     "output_type": "stream",
     "text": [
      "Highest ranking genes for patient 2 (Wiskott Aldrich Syndrom): \n"
     ]
    },
    {
     "data": {
      "text/html": [
       "<style>table.converted {color: #333; font-family: Helvetica, Arial, sans-serif; border-collapse: collapse; border-spacing: 0;}table.converted td, table.converted th {border: 1px solid #C9C7C7;}table.converted th, table.converted td.rowLabel {background: #626262; color: #FFFFFF; font-weight: bold; text-align: left;}table.converted td {text-align: left;}table.converted tr:nth-child(even) {background: #F3F3F3;}table.converted tr:nth-child(odd) {background: #FFFFFF;}table.converted tbody tr:hover {background: #BDF4B5;}table.converted td.rowLabel, table.converted th.rowLabel {display: none;}</style><table class=\"converted\"><tbody><tr><td>{gene=http://phenomebrowser&#8203;.net/ismb-tutorial/gene/MGI:102849, sim=0&#8203;.5188118012539226}</td></tr><tr><td>{gene=http://phenomebrowser&#8203;.net/ismb-tutorial/gene/MGI:96548, sim=0&#8203;.5107686733622316}</td></tr><tr><td>{gene=http://phenomebrowser&#8203;.net/ismb-tutorial/gene/MGI:98941, sim=0&#8203;.5092662894962212}</td></tr><tr><td>{gene=http://phenomebrowser&#8203;.net/ismb-tutorial/gene/MGI:1349436, sim=0&#8203;.5001870224320165}</td></tr><tr><td>{gene=http://phenomebrowser&#8203;.net/ismb-tutorial/gene/MGI:1918576, sim=0&#8203;.48993342722986777}</td></tr><tr><td>{gene=http://phenomebrowser&#8203;.net/ismb-tutorial/gene/MGI:87967, sim=0&#8203;.48933405215860903}</td></tr><tr><td>{gene=http://phenomebrowser&#8203;.net/ismb-tutorial/gene/MGI:5792227, sim=0&#8203;.4891438237476968}</td></tr><tr><td>{gene=http://phenomebrowser&#8203;.net/ismb-tutorial/gene/MGI:1891436, sim=0&#8203;.48810218219880075}</td></tr><tr><td>{gene=http://phenomebrowser&#8203;.net/ismb-tutorial/gene/MGI:2180699, sim=0&#8203;.4876913998812737}</td></tr><tr><td>{gene=http://phenomebrowser&#8203;.net/ismb-tutorial/gene/MGI:96549, sim=0&#8203;.4847793602161192}</td></tr><tr><td>{gene=http://phenomebrowser&#8203;.net/ismb-tutorial/gene/MGI:1919073, sim=0&#8203;.4841476580703824}</td></tr></tbody></table>"
      ]
     },
     "execution_count": 19,
     "metadata": {},
     "output_type": "execute_result"
    }
   ],
   "source": [
    "// another patient with Wiskott-Aldrich Syndrome\n",
    "Set patient = [ factory.getURI(\"http://purl.obolibrary.org/obo/HP_0000112\"), factory.getURI(\"http://purl.obolibrary.org/obo/HP_0000225\"), factory.getURI(\"http://purl.obolibrary.org/obo/HP_0000246\"), factory.getURI(\"http://purl.obolibrary.org/obo/HP_0000388\"), factory.getURI(\"http://purl.obolibrary.org/obo/HP_0000421\"), factory.getURI(\"http://purl.obolibrary.org/obo/HP_0000964\"), factory.getURI(\"http://purl.obolibrary.org/obo/HP_0000967\"), factory.getURI(\"http://purl.obolibrary.org/obo/HP_0000979\"), factory.getURI(\"http://purl.obolibrary.org/obo/HP_0001287\"), factory.getURI(\"http://purl.obolibrary.org/obo/HP_0001419\"), factory.getURI(\"http://purl.obolibrary.org/obo/HP_0001873\"), factory.getURI(\"http://purl.obolibrary.org/obo/HP_0001878\"), factory.getURI(\"http://purl.obolibrary.org/obo/HP_0001888\"), factory.getURI(\"http://purl.obolibrary.org/obo/HP_0001891\"), factory.getURI(\"http://purl.obolibrary.org/obo/HP_0001983\"), factory.getURI(\"http://purl.obolibrary.org/obo/HP_0002037\"), factory.getURI(\"http://purl.obolibrary.org/obo/HP_0002090\"), factory.getURI(\"http://purl.obolibrary.org/obo/HP_0002248\"), factory.getURI(\"http://purl.obolibrary.org/obo/HP_0002249\"), factory.getURI(\"http://purl.obolibrary.org/obo/HP_0002783\"), factory.getURI(\"http://purl.obolibrary.org/obo/HP_0002788\"), factory.getURI(\"http://purl.obolibrary.org/obo/HP_0002848\"), factory.getURI(\"http://purl.obolibrary.org/obo/HP_0002850\"), factory.getURI(\"http://purl.obolibrary.org/obo/HP_0002963\"), factory.getURI(\"http://purl.obolibrary.org/obo/HP_0002971\"), factory.getURI(\"http://purl.obolibrary.org/obo/HP_0003010\"), factory.getURI(\"http://purl.obolibrary.org/obo/HP_0003212\"), factory.getURI(\"http://purl.obolibrary.org/obo/HP_0003261\"), factory.getURI(\"http://purl.obolibrary.org/obo/HP_0005310\"), factory.getURI(\"http://purl.obolibrary.org/obo/HP_0005537\"), factory.getURI(\"http://purl.obolibrary.org/obo/HP_0011944\"), factory.getURI(\"http://purl.obolibrary.org/obo/HP_0040184\") ]\n",
    "def results = new LinkedHashSet()\n",
    "engine.getInstances().each { gene ->\n",
    "  def phenoSet = ia.getDirectClass(gene) // gets all the annotations of each instance (gene)\n",
    "  Expando exp = new Expando()\n",
    "  try { // this might fail if the version of MP we use to compute similarity and the MP used for annotation is different; we ignore this for now\n",
    "    exp.sim = engine.compare(smConfGroupwise, smConfPairwise, phenoSet, patient)\n",
    "    exp.gene = gene\n",
    "    results.add(exp)\n",
    "  } catch (Exception E) { }\n",
    "}\n",
    "// sorting results by similarity (highest first) and output the top 10 predictions\n",
    "println \"Highest ranking genes for patient 2 (Wiskott Aldrich Syndrom): \"\n",
    "results.sort { it.sim }.reverse()[0..10] // includes MGI:1891436, FOXP3\n"
   ]
  },
  {
   "cell_type": "markdown",
   "metadata": {},
   "source": [
    "## Ontology embeddings\n",
    "\n",
    "Given an ontology $O = (C, R, I; ax; \\vdash)$ with classes $C$, relations $R$, instances $I$, axioms $ax$, and an inference relation $\\vdash$, an ontology embedding is a function $f: C \\cup R \\cup I \\mapsto \\mathbf{R}^n$ that maps the entities in the ontology into an $n$-dimension vector space (subject to certain constraints).\n",
    "\n",
    "Here, we use the OPA2Vec tool (https://github.com/bio-ontology-research-group/opa2vec/) to generate ontology embeddings for classes in PhenomeNET, mouse genes (and their phenotypes), and OMIM diseases (and their phenotypes). We get the data from http://www.informatics.jax.org/downloads/reports/MGI_GenePheno.rpt and http://compbio.charite.de/jenkins/job/hpo.annotations/lastStableBuild/artifact/misc/phenotype_annotation.tab and then prepare it for OPA2Vec. We will generate the association file for OPA2Vec first.\n"
   ]
  },
  {
   "cell_type": "code",
   "execution_count": 20,
   "metadata": {},
   "outputs": [],
   "source": [
    "PrintWriter fout = new PrintWriter(new BufferedWriter(new FileWriter(\"misc/phenotype-associations.txt\")))\n",
    "new File(\"misc/MGI_GenePheno.rpt\").splitEachLine(\"\\t\") { line ->\n",
    "    def id = line[-2]\n",
    "    def p = \"<http://purl.obolibrary.org/\"+line[-4].replaceAll(\":\",\"_\")+\">\"\n",
    "    fout.println(id+\"\\t\"+p)\n",
    "}\n",
    "\n",
    "new File(\"misc/phenotype_annotation.tab\").splitEachLine(\"\\t\") { line ->\n",
    "    def id = line[0]+\":\"+line[1]\n",
    "    def p = \"<http://purl.obolibrary.org/obo/\"+line[4].replaceAll(\":\", \"_\")+\">\"\n",
    "    fout.println(id+\"\\t\"+p)\n",
    "}\n",
    "fout.flush()\n",
    "fout.close()"
   ]
  },
  {
   "cell_type": "markdown",
   "metadata": {},
   "source": [
    "The next step is to generate the embedding function and embedding vectors. We are not going to do this here, but will use the OPA2Vec command line tool. You can do this during this tutorial, but it may take quite some time to finish, so we will just continue with the output of OPA2Vec in the next steps.\n",
    "To run OPA2Vec with PhenomeNET and the association file we just generated, use this (adjust the pathnames to your own locations):\n",
    "`python2 opa2vec/runOPA2Vec.py -ontology merged-phenomenet.owl -associations misc/phenotype-associations.txt -outfile misc/phenome-vec.txt -embedsize 200 -pretrained opa2vec/PMC_model/PMC_model.txt -reasoner elk`\n",
    "\n",
    "Do not run this now as it can take quite some time (hours!) to complete."
   ]
  },
  {
   "cell_type": "code",
   "execution_count": null,
   "metadata": {},
   "outputs": [],
   "source": [
    "\"python2 opa2vec/runOPA2Vec.py -ontology merged-phenomenet.owl -associations misc/phenotype-associations.txt -outfile misc/phenome-vec.txt -embedsize 200 -pretrained opa2vec/PMC_model/PMC_model.txt -reasoner elk\".execute()"
   ]
  },
  {
   "cell_type": "markdown",
   "metadata": {},
   "source": [
    "The result of this command will be one file, `misc/phenome-vec.txt`, which contains the vectors (of size 200) for each class, each gene, and each disease. We provide a pre-computed file that we also gzipped to save some space. It's not very nicely formatted for what we want to do here, and it contains vectors for every class in the ontology which we won't use, so we will do some reformatting and skip the things we don't need, and the remaining vectors will end up in a map (strategically called `map` below).\n",
    "\n",
    "In the end, we output the embedding vector for the Tetralogy of Fallot (OMIM:187500)."
   ]
  },
  {
   "cell_type": "code",
   "execution_count": 22,
   "metadata": {},
   "outputs": [
    {
     "data": {
      "text/html": [
       "<style>table.converted {color: #333; font-family: Helvetica, Arial, sans-serif; border-collapse: collapse; border-spacing: 0;}table.converted td, table.converted th {border: 1px solid #C9C7C7;}table.converted th, table.converted td.rowLabel {background: #626262; color: #FFFFFF; font-weight: bold; text-align: left;}table.converted td {text-align: left;}table.converted tr:nth-child(even) {background: #F3F3F3;}table.converted tr:nth-child(odd) {background: #FFFFFF;}table.converted tbody tr:hover {background: #BDF4B5;}table.converted td.rowLabel, table.converted th.rowLabel {display: none;}</style><table class=\"converted\"><tbody><tr><td>0&#8203;.02860865</td></tr><tr><td>-0&#8203;.00457505</td></tr><tr><td>-0&#8203;.12516002</td></tr><tr><td>-0&#8203;.10335088</td></tr><tr><td>0&#8203;.0591502</td></tr><tr><td>0&#8203;.0904058</td></tr><tr><td>-0&#8203;.01459885</td></tr><tr><td>-0&#8203;.10612053</td></tr><tr><td>-0&#8203;.00612554</td></tr><tr><td>0&#8203;.04918373</td></tr><tr><td>0&#8203;.01760476</td></tr><tr><td>-0&#8203;.08620542</td></tr><tr><td>-0&#8203;.01041591</td></tr><tr><td>-0&#8203;.01409301</td></tr><tr><td>-0&#8203;.02432703</td></tr><tr><td>-0&#8203;.04810438</td></tr><tr><td>-0&#8203;.01347145</td></tr><tr><td>0&#8203;.08842409</td></tr><tr><td>0&#8203;.0215098</td></tr><tr><td>-0&#8203;.02905381</td></tr><tr><td>-0&#8203;.00185448</td></tr><tr><td>0&#8203;.02862857</td></tr><tr><td>0&#8203;.1515614</td></tr><tr><td>-0&#8203;.02475755</td></tr><tr><td>0&#8203;.20149368</td></tr><tr><td>0&#8203;.01659588</td></tr><tr><td>-0&#8203;.08547365</td></tr><tr><td>-0&#8203;.06095403</td></tr><tr><td>0&#8203;.08480007</td></tr><tr><td>-0&#8203;.05130582</td></tr><tr><td>0&#8203;.00587637</td></tr><tr><td>-0&#8203;.02571169</td></tr><tr><td>0&#8203;.0395815</td></tr><tr><td>-0&#8203;.13234365</td></tr><tr><td>0&#8203;.08177485</td></tr><tr><td>-0&#8203;.05384576</td></tr><tr><td>-0&#8203;.08389287</td></tr><tr><td>0&#8203;.01045169</td></tr><tr><td>-0&#8203;.03119979</td></tr><tr><td>-0&#8203;.10625654</td></tr><tr><td>0&#8203;.04434039</td></tr><tr><td>0&#8203;.00580587</td></tr><tr><td>0&#8203;.00961477</td></tr><tr><td>0&#8203;.03634456</td></tr><tr><td>0&#8203;.01300742</td></tr><tr><td>0&#8203;.04360557</td></tr><tr><td>0&#8203;.01375841</td></tr><tr><td>0&#8203;.02897546</td></tr><tr><td>-0&#8203;.02807058</td></tr><tr><td>-0&#8203;.01928996</td></tr><tr><td>-0&#8203;.03888772</td></tr><tr><td>-0&#8203;.05142209</td></tr><tr><td>-0&#8203;.01992699</td></tr><tr><td>-0&#8203;.06195542</td></tr><tr><td>-0&#8203;.01264248</td></tr><tr><td>0&#8203;.09739377</td></tr><tr><td>-0&#8203;.12351526</td></tr><tr><td>0&#8203;.0310716</td></tr><tr><td>-0&#8203;.02074002</td></tr><tr><td>-0&#8203;.12859316</td></tr><tr><td>-0&#8203;.07740824</td></tr><tr><td>0&#8203;.08729339</td></tr><tr><td>0&#8203;.00608199</td></tr><tr><td>-0&#8203;.01859218</td></tr><tr><td>0&#8203;.00469736</td></tr><tr><td>0&#8203;.01411808</td></tr><tr><td>-0&#8203;.01457424</td></tr><tr><td>0&#8203;.00258042</td></tr><tr><td>0&#8203;.05932208</td></tr><tr><td>0&#8203;.02696692</td></tr><tr><td>-0&#8203;.06421939</td></tr><tr><td>-0&#8203;.05109514</td></tr><tr><td>-0&#8203;.09142248</td></tr><tr><td>0&#8203;.02898479</td></tr><tr><td>-0&#8203;.11889407</td></tr><tr><td>0&#8203;.0144688</td></tr><tr><td>-0&#8203;.043484</td></tr><tr><td>-0&#8203;.06260984</td></tr><tr><td>0&#8203;.06981681</td></tr><tr><td>-0&#8203;.00922009</td></tr><tr><td>-0&#8203;.03507924</td></tr><tr><td>0&#8203;.03129758</td></tr><tr><td>0&#8203;.0437928</td></tr><tr><td>0&#8203;.0652871</td></tr><tr><td>0&#8203;.10791349</td></tr><tr><td>-0&#8203;.13708767</td></tr><tr><td>0&#8203;.00282815</td></tr><tr><td>0&#8203;.07034057</td></tr><tr><td>0&#8203;.01421965</td></tr><tr><td>0&#8203;.04220759</td></tr><tr><td>-0&#8203;.00310859</td></tr><tr><td>-0&#8203;.09627097</td></tr><tr><td>-0&#8203;.04261399</td></tr><tr><td>0&#8203;.09962134</td></tr><tr><td>0&#8203;.0948994</td></tr><tr><td>0&#8203;.04370372</td></tr><tr><td>0&#8203;.01034706</td></tr><tr><td>-0&#8203;.0337868</td></tr><tr><td>-0&#8203;.01538918</td></tr><tr><td>-0&#8203;.00812683</td></tr><tr><td>0&#8203;.06271747</td></tr><tr><td>0&#8203;.04862949</td></tr><tr><td>-0&#8203;.03897791</td></tr><tr><td>-0&#8203;.12858401</td></tr><tr><td>0&#8203;.0118227</td></tr><tr><td>-0&#8203;.04411666</td></tr><tr><td>0&#8203;.03198</td></tr><tr><td>-0&#8203;.0479025</td></tr><tr><td>0&#8203;.02844561</td></tr><tr><td>0&#8203;.08301245</td></tr><tr><td>-0&#8203;.25241905</td></tr><tr><td>-0&#8203;.15672189</td></tr><tr><td>0&#8203;.1195154</td></tr><tr><td>-0&#8203;.09092954</td></tr><tr><td>-0&#8203;.04307071</td></tr><tr><td>0&#8203;.03146206</td></tr><tr><td>-0&#8203;.13026036</td></tr><tr><td>0&#8203;.04661529</td></tr><tr><td>-0&#8203;.039249</td></tr><tr><td>-0&#8203;.01209648</td></tr><tr><td>-0&#8203;.06004572</td></tr><tr><td>0&#8203;.05297421</td></tr><tr><td>0&#8203;.15324244</td></tr><tr><td>0&#8203;.05844623</td></tr><tr><td>-0&#8203;.06572767</td></tr><tr><td>-0&#8203;.12315115</td></tr><tr><td>0&#8203;.06531716</td></tr><tr><td>0&#8203;.00635962</td></tr><tr><td>-0&#8203;.0243231</td></tr><tr><td>-0&#8203;.09324265</td></tr><tr><td>0&#8203;.03596861</td></tr><tr><td>-0&#8203;.02914881</td></tr><tr><td>-0&#8203;.08117279</td></tr><tr><td>0&#8203;.099105</td></tr><tr><td>-0&#8203;.08462272</td></tr><tr><td>0&#8203;.06384398</td></tr><tr><td>0&#8203;.0583577</td></tr><tr><td>-0&#8203;.00830712</td></tr><tr><td>-0&#8203;.12348913</td></tr><tr><td>0&#8203;.00608445</td></tr><tr><td>0&#8203;.09495328</td></tr><tr><td>0&#8203;.01122742</td></tr><tr><td>0&#8203;.04264245</td></tr><tr><td>-0&#8203;.01850762</td></tr><tr><td>-0&#8203;.0598138</td></tr><tr><td>0&#8203;.03115685</td></tr><tr><td>-0&#8203;.08238727</td></tr><tr><td>0&#8203;.13067682</td></tr><tr><td>0&#8203;.0092862</td></tr><tr><td>-0&#8203;.0162638</td></tr><tr><td>-0&#8203;.05231994</td></tr><tr><td>-0&#8203;.10684628</td></tr><tr><td>-0&#8203;.01962003</td></tr><tr><td>-0&#8203;.00891191</td></tr><tr><td>0&#8203;.00160227</td></tr><tr><td>0&#8203;.06035986</td></tr><tr><td>-0&#8203;.03371294</td></tr><tr><td>-0&#8203;.07464111</td></tr><tr><td>-0&#8203;.01287351</td></tr><tr><td>-0&#8203;.07844359</td></tr><tr><td>-0&#8203;.05570246</td></tr><tr><td>0&#8203;.08189847</td></tr><tr><td>0&#8203;.0327721</td></tr><tr><td>-0&#8203;.06696095</td></tr><tr><td>-0&#8203;.05495887</td></tr><tr><td>-0&#8203;.03829263</td></tr><tr><td>0&#8203;.04982438</td></tr><tr><td>0&#8203;.00469081</td></tr><tr><td>0&#8203;.03733829</td></tr><tr><td>0&#8203;.02613307</td></tr><tr><td>-0&#8203;.01945557</td></tr><tr><td>0&#8203;.11944275</td></tr><tr><td>-0&#8203;.134387</td></tr><tr><td>0&#8203;.02672581</td></tr><tr><td>0&#8203;.07578641</td></tr><tr><td>0&#8203;.0198479</td></tr><tr><td>-0&#8203;.00955484</td></tr><tr><td>0&#8203;.02207778</td></tr><tr><td>0&#8203;.03661305</td></tr><tr><td>-0&#8203;.08112155</td></tr><tr><td>-0&#8203;.0558867</td></tr><tr><td>0&#8203;.01630995</td></tr><tr><td>0&#8203;.00588007</td></tr><tr><td>0&#8203;.02913682</td></tr><tr><td>0&#8203;.00120194</td></tr><tr><td>-0&#8203;.02178153</td></tr><tr><td>-0&#8203;.00204371</td></tr><tr><td>-0&#8203;.03257595</td></tr><tr><td>-0&#8203;.03881899</td></tr><tr><td>-0&#8203;.02169447</td></tr><tr><td>0&#8203;.08888181</td></tr><tr><td>0&#8203;.01469977</td></tr><tr><td>0&#8203;.03485241</td></tr><tr><td>0&#8203;.0658243</td></tr><tr><td>-0&#8203;.09845597</td></tr><tr><td>-0&#8203;.01302374</td></tr><tr><td>0&#8203;.08210155</td></tr><tr><td>-0&#8203;.02777832</td></tr><tr><td>0&#8203;.05093665</td></tr><tr><td>0&#8203;.01868094</td></tr></tbody></table>"
      ]
     },
     "execution_count": 22,
     "metadata": {},
     "output_type": "execute_result"
    }
   ],
   "source": [
    "import java.util.zip.*\n",
    "\n",
    "map = [:]\n",
    "InputStream fileStream = new FileInputStream(\"misc/phenome-vec-small.txt.gz\")\n",
    "InputStream gzipStream = new GZIPInputStream(fileStream)\n",
    "Reader decoder = new InputStreamReader(gzipStream)\n",
    "BufferedReader fin = new BufferedReader(decoder)\n",
    "def current = null\n",
    "fin.eachLine { line ->\n",
    "    if (line.indexOf(\"[\")>-1) { // new vector starts here\n",
    "      if (line.indexOf(\"MGI\")>-1 || line.indexOf(\"OMIM\")>-1) { // gene or disease; otherwise ignore\n",
    "          toks = line.replaceAll(\"]\",\"\").replaceAll(\"\\\\[\",\"\")trim().split(\" +\")\n",
    "          current = toks[0]\n",
    "          map[current] = []\n",
    "          toks[1..-1].each { map[current] << new Double(it) }\n",
    "      } else {\n",
    "          current = null\n",
    "      }\n",
    "    } else {\n",
    "        if (current != null) {\n",
    "          toks = line.replaceAll(\"]\",\"\").replaceAll(\"\\\\[\",\"\")trim().split(\" +\")\n",
    "          toks[0..-1].each { map[current] << new Double(it) }\n",
    "        }\n",
    "    }\n",
    "}\n",
    "map[\"OMIM:187400\"]"
   ]
  },
  {
   "cell_type": "code",
   "execution_count": 39,
   "metadata": {},
   "outputs": [
    {
     "name": "stdout",
     "output_type": "stream",
     "text": [
      "0.973186186728561\n",
      "0.00239307\t0.06494553\n",
      "-0.02495133\t-0.03819693\n",
      "-0.15467034\t-0.23934929\n",
      "-0.14272715\t-0.23366742\n",
      "0.10743729\t0.20394604\n",
      "0.12832278\t0.2237533\n",
      "-7.8376E-4\t-0.02814138\n",
      "-0.15026857\t-0.30298293\n",
      "-0.01912989\t-0.00984747\n",
      "0.08904443\t0.15905759\n",
      "0.03292606\t0.04856863\n",
      "-0.13414046\t-0.27880654\n",
      "0.0127596\t0.03665449\n",
      "-0.02101948\t-0.02451901\n",
      "-0.08968265\t-0.09738089\n",
      "-0.05192218\t-0.08400653\n",
      "-0.03492622\t-0.04044767\n",
      "0.09522761\t0.16163003\n",
      "0.1016501\t0.09967051\n",
      "-0.04569961\t-0.07603746\n",
      "-0.02831835\t-0.0466132\n",
      "0.04334802\t0.01325525\n",
      "0.21270473\t0.39197984\n",
      "-0.02434955\t-0.06672452\n",
      "0.26828477\t0.5028706\n",
      "0.03720215\t0.08416548\n",
      "-0.12418278\t-0.26141125\n",
      "-0.06557912\t-0.04351448\n",
      "0.11021044\t0.2388705\n",
      "-0.1092607\t-0.14149706\n",
      "0.03290771\t0.09517398\n",
      "-0.04887725\t-0.06275129\n",
      "0.05024858\t0.11291432\n",
      "-0.16471922\t-0.30075008\n",
      "0.13690779\t0.26856706\n",
      "-0.06521481\t-0.12133361\n",
      "-0.12187751\t-0.219634\n",
      "-0.01082812\t-0.06637487\n",
      "-0.03608487\t-0.13173477\n",
      "-0.13118519\t-0.27638546\n",
      "0.06461661\t0.13687408\n",
      "0.00615472\t0.00393774\n",
      "0.01739764\t0.01023622\n",
      "0.0311345\t0.07637785\n",
      "0.0354886\t0.0321015\n",
      "0.04278742\t-0.03900987\n",
      "0.01690904\t0.06149348\n",
      "0.04666767\t0.03025841\n",
      "-0.02959105\t-0.03640531\n",
      "-0.06820212\t-0.21095558\n",
      "-0.00123017\t0.01102779\n",
      "-0.04903949\t-0.13241763\n",
      "-0.02771941\t-0.03128623\n",
      "-0.09906232\t-0.23178183\n",
      "-0.05112072\t-0.04848821\n",
      "0.13296103\t0.22902416\n",
      "-0.15477274\t-0.24441038\n",
      "0.0327927\t0.01912237\n",
      "-0.06914201\t-0.08249322\n",
      "-0.18563183\t-0.28161913\n",
      "-0.13875063\t-0.24731338\n",
      "0.07287727\t0.15831366\n",
      "0.01424249\t0.00261161\n",
      "-0.04009786\t-0.08000245\n",
      "0.02008034\t0.04250633\n",
      "0.04135115\t0.07327277\n",
      "-0.02350818\t-0.00651954\n",
      "-0.01570538\t-0.03883239\n",
      "0.08321262\t0.17077537\n",
      "0.02437836\t0.04501166\n",
      "-0.05830555\t-0.06913114\n",
      "-0.05986953\t-0.11470175\n",
      "-0.14479989\t-0.2761634\n",
      "0.05757841\t0.1161742\n",
      "-0.16102733\t-0.2699001\n",
      "0.05395313\t0.09346203\n",
      "-0.0519344\t-0.13936847\n",
      "-0.1213698\t-0.12391485\n",
      "0.09655894\t0.14711018\n",
      "0.01226131\t0.00831811\n",
      "-0.04654838\t-0.04828232\n",
      "0.03776157\t0.18044199\n",
      "0.06796564\t0.11694093\n",
      "0.06223147\t0.12224296\n",
      "0.16168298\t0.26040655\n",
      "-0.2086117\t-0.32861415\n",
      "-0.00161439\t0.0629898\n",
      "0.11358785\t0.24196157\n",
      "-0.00775377\t0.02463964\n",
      "0.09049385\t0.17265858\n",
      "0.00427463\t-0.01727133\n",
      "-0.15911023\t-0.3013661\n",
      "-0.03576617\t-0.07411047\n",
      "0.13936739\t0.19596885\n",
      "0.1317942\t0.23699299\n",
      "0.05880758\t0.13266034\n",
      "0.02219447\t0.05750812\n",
      "-0.05023425\t-0.09581346\n",
      "-0.00901494\t-0.00205134\n",
      "0.01717887\t0.01315808\n",
      "0.13116077\t0.22871588\n",
      "0.01910167\t0.05465249\n",
      "-0.09703565\t-0.10089721\n",
      "-0.15877378\t-0.25767788\n",
      "0.03016193\t0.07432333\n",
      "-0.05535862\t-0.12615153\n",
      "0.07801917\t0.10710089\n",
      "-0.04168525\t-0.03981718\n",
      "0.0398405\t0.03835454\n",
      "0.12816803\t0.28497174\n",
      "-0.3816455\t-0.6074816\n",
      "-0.24337558\t-0.39810836\n",
      "0.21904199\t0.4110203\n",
      "-0.18026803\t-0.32899627\n",
      "-0.08559888\t-0.21923898\n",
      "0.04391615\t0.06888471\n",
      "-0.18639939\t-0.31369224\n",
      "0.04139227\t0.09933437\n",
      "-0.05879363\t-0.12968759\n",
      "-0.01727741\t-0.05804029\n",
      "-0.07894276\t-0.14652342\n",
      "0.11621988\t0.12147135\n",
      "0.2195267\t0.4009491\n",
      "0.06538501\t0.20929155\n",
      "-0.14322938\t-0.21171848\n",
      "-0.1534193\t-0.28077996\n",
      "0.08310435\t0.25404444\n",
      "-0.00143448\t0.03578521\n",
      "-0.03385677\t-0.03694107\n",
      "-0.11015249\t-0.25183097\n",
      "0.04435446\t0.04664446\n",
      "-0.05573081\t-0.05002733\n",
      "-0.14104353\t-0.2606514\n",
      "0.1282908\t0.24106696\n",
      "-0.13436742\t-0.19529253\n",
      "0.14440504\t0.23578745\n",
      "0.05382466\t0.08417108\n",
      "-0.00317372\t0.01450327\n",
      "-0.19704737\t-0.2844428\n",
      "0.02852396\t0.09465376\n",
      "0.14025466\t0.18130985\n",
      "0.00977253\t0.01717686\n",
      "0.06482861\t0.0924253\n",
      "-0.0174015\t-0.02348923\n",
      "-0.09574348\t-0.18031323\n",
      "0.04373341\t-0.02481437\n",
      "-0.13470139\t-0.21007909\n",
      "0.18691896\t0.32083315\n",
      "0.0043673\t0.01338174\n",
      "-0.05885573\t-0.05456725\n",
      "-0.05210463\t-0.0749072\n",
      "-0.13494231\t-0.17369579\n",
      "-0.06430289\t-0.15104231\n",
      "-0.04603138\t-0.05273406\n",
      "0.01291356\t-0.01887084\n",
      "0.09040537\t0.10788316\n",
      "-0.09968884\t-0.08213339\n",
      "-0.09279613\t-0.22430179\n",
      "0.01478726\t0.03183332\n",
      "-0.11486845\t-0.13857366\n",
      "-0.08193821\t-0.1631033\n",
      "0.09248348\t0.1481869\n",
      "0.06465446\t0.12122659\n",
      "-0.11694852\t-0.1754099\n",
      "-0.05033919\t-0.13313723\n",
      "-0.05669071\t-0.06407704\n",
      "0.09069829\t0.12913007\n",
      "-0.00425495\t0.02322248\n",
      "0.08724996\t0.0950945\n",
      "0.05356114\t0.08028012\n",
      "-0.00690205\t-0.01543003\n",
      "0.16869172\t0.3049464\n",
      "-0.24618189\t-0.41328534\n",
      "0.05934525\t0.04859004\n",
      "0.1368933\t0.24734735\n",
      "0.02271468\t-8.5244E-4\n",
      "-0.04639871\t-0.01677466\n",
      "0.03776661\t0.06991021\n",
      "0.04638579\t0.09187576\n",
      "-0.11562471\t-0.1398783\n",
      "-0.10622941\t-0.16198169\n",
      "-0.0075952\t0.0411314\n",
      "0.0082637\t0.00278276\n",
      "0.04814597\t0.1622547\n",
      "0.05803099\t0.06030301\n",
      "-0.04082125\t0.00806851\n",
      "-0.03914835\t-0.0392017\n",
      "-0.04917046\t-0.07982027\n",
      "-0.01488094\t-0.07573991\n",
      "-0.08078091\t-0.13015133\n",
      "0.12331895\t0.23580025\n",
      "0.0177269\t-0.01017912\n",
      "0.02815288\t-0.03536679\n",
      "0.06454241\t0.16543844\n",
      "-0.13335848\t-0.20211966\n",
      "-0.03267974\t-0.05693803\n",
      "0.10579265\t0.17475769\n",
      "-0.02468578\t-0.02167738\n",
      "0.07597418\t0.14968471\n",
      "-0.00444793\t0.03372654\n"
     ]
    },
    {
     "data": {
      "text/html": [
       "<style>table.converted {color: #333; font-family: Helvetica, Arial, sans-serif; border-collapse: collapse; border-spacing: 0;}table.converted td, table.converted th {border: 1px solid #C9C7C7;}table.converted th, table.converted td.rowLabel {background: #626262; color: #FFFFFF; font-weight: bold; text-align: left;}table.converted td {text-align: left;}table.converted tr:nth-child(even) {background: #F3F3F3;}table.converted tr:nth-child(odd) {background: #FFFFFF;}table.converted tbody tr:hover {background: #BDF4B5;}table.converted td.rowLabel, table.converted th.rowLabel {display: none;}</style><table class=\"converted\"><tbody><tr><td>0&#8203;.00239307</td></tr><tr><td>-0&#8203;.02495133</td></tr><tr><td>-0&#8203;.15467034</td></tr><tr><td>-0&#8203;.14272715</td></tr><tr><td>0&#8203;.10743729</td></tr><tr><td>0&#8203;.12832278</td></tr><tr><td>-7&#8203;.8376E-4</td></tr><tr><td>-0&#8203;.15026857</td></tr><tr><td>-0&#8203;.01912989</td></tr><tr><td>0&#8203;.08904443</td></tr><tr><td>0&#8203;.03292606</td></tr><tr><td>-0&#8203;.13414046</td></tr><tr><td>0&#8203;.0127596</td></tr><tr><td>-0&#8203;.02101948</td></tr><tr><td>-0&#8203;.08968265</td></tr><tr><td>-0&#8203;.05192218</td></tr><tr><td>-0&#8203;.03492622</td></tr><tr><td>0&#8203;.09522761</td></tr><tr><td>0&#8203;.1016501</td></tr><tr><td>-0&#8203;.04569961</td></tr><tr><td>-0&#8203;.02831835</td></tr><tr><td>0&#8203;.04334802</td></tr><tr><td>0&#8203;.21270473</td></tr><tr><td>-0&#8203;.02434955</td></tr><tr><td>0&#8203;.26828477</td></tr><tr><td>0&#8203;.03720215</td></tr><tr><td>-0&#8203;.12418278</td></tr><tr><td>-0&#8203;.06557912</td></tr><tr><td>0&#8203;.11021044</td></tr><tr><td>-0&#8203;.1092607</td></tr><tr><td>0&#8203;.03290771</td></tr><tr><td>-0&#8203;.04887725</td></tr><tr><td>0&#8203;.05024858</td></tr><tr><td>-0&#8203;.16471922</td></tr><tr><td>0&#8203;.13690779</td></tr><tr><td>-0&#8203;.06521481</td></tr><tr><td>-0&#8203;.12187751</td></tr><tr><td>-0&#8203;.01082812</td></tr><tr><td>-0&#8203;.03608487</td></tr><tr><td>-0&#8203;.13118519</td></tr><tr><td>0&#8203;.06461661</td></tr><tr><td>0&#8203;.00615472</td></tr><tr><td>0&#8203;.01739764</td></tr><tr><td>0&#8203;.0311345</td></tr><tr><td>0&#8203;.0354886</td></tr><tr><td>0&#8203;.04278742</td></tr><tr><td>0&#8203;.01690904</td></tr><tr><td>0&#8203;.04666767</td></tr><tr><td>-0&#8203;.02959105</td></tr><tr><td>-0&#8203;.06820212</td></tr><tr><td>-0&#8203;.00123017</td></tr><tr><td>-0&#8203;.04903949</td></tr><tr><td>-0&#8203;.02771941</td></tr><tr><td>-0&#8203;.09906232</td></tr><tr><td>-0&#8203;.05112072</td></tr><tr><td>0&#8203;.13296103</td></tr><tr><td>-0&#8203;.15477274</td></tr><tr><td>0&#8203;.0327927</td></tr><tr><td>-0&#8203;.06914201</td></tr><tr><td>-0&#8203;.18563183</td></tr><tr><td>-0&#8203;.13875063</td></tr><tr><td>0&#8203;.07287727</td></tr><tr><td>0&#8203;.01424249</td></tr><tr><td>-0&#8203;.04009786</td></tr><tr><td>0&#8203;.02008034</td></tr><tr><td>0&#8203;.04135115</td></tr><tr><td>-0&#8203;.02350818</td></tr><tr><td>-0&#8203;.01570538</td></tr><tr><td>0&#8203;.08321262</td></tr><tr><td>0&#8203;.02437836</td></tr><tr><td>-0&#8203;.05830555</td></tr><tr><td>-0&#8203;.05986953</td></tr><tr><td>-0&#8203;.14479989</td></tr><tr><td>0&#8203;.05757841</td></tr><tr><td>-0&#8203;.16102733</td></tr><tr><td>0&#8203;.05395313</td></tr><tr><td>-0&#8203;.0519344</td></tr><tr><td>-0&#8203;.1213698</td></tr><tr><td>0&#8203;.09655894</td></tr><tr><td>0&#8203;.01226131</td></tr><tr><td>-0&#8203;.04654838</td></tr><tr><td>0&#8203;.03776157</td></tr><tr><td>0&#8203;.06796564</td></tr><tr><td>0&#8203;.06223147</td></tr><tr><td>0&#8203;.16168298</td></tr><tr><td>-0&#8203;.2086117</td></tr><tr><td>-0&#8203;.00161439</td></tr><tr><td>0&#8203;.11358785</td></tr><tr><td>-0&#8203;.00775377</td></tr><tr><td>0&#8203;.09049385</td></tr><tr><td>0&#8203;.00427463</td></tr><tr><td>-0&#8203;.15911023</td></tr><tr><td>-0&#8203;.03576617</td></tr><tr><td>0&#8203;.13936739</td></tr><tr><td>0&#8203;.1317942</td></tr><tr><td>0&#8203;.05880758</td></tr><tr><td>0&#8203;.02219447</td></tr><tr><td>-0&#8203;.05023425</td></tr><tr><td>-0&#8203;.00901494</td></tr><tr><td>0&#8203;.01717887</td></tr><tr><td>0&#8203;.13116077</td></tr><tr><td>0&#8203;.01910167</td></tr><tr><td>-0&#8203;.09703565</td></tr><tr><td>-0&#8203;.15877378</td></tr><tr><td>0&#8203;.03016193</td></tr><tr><td>-0&#8203;.05535862</td></tr><tr><td>0&#8203;.07801917</td></tr><tr><td>-0&#8203;.04168525</td></tr><tr><td>0&#8203;.0398405</td></tr><tr><td>0&#8203;.12816803</td></tr><tr><td>-0&#8203;.3816455</td></tr><tr><td>-0&#8203;.24337558</td></tr><tr><td>0&#8203;.21904199</td></tr><tr><td>-0&#8203;.18026803</td></tr><tr><td>-0&#8203;.08559888</td></tr><tr><td>0&#8203;.04391615</td></tr><tr><td>-0&#8203;.18639939</td></tr><tr><td>0&#8203;.04139227</td></tr><tr><td>-0&#8203;.05879363</td></tr><tr><td>-0&#8203;.01727741</td></tr><tr><td>-0&#8203;.07894276</td></tr><tr><td>0&#8203;.11621988</td></tr><tr><td>0&#8203;.2195267</td></tr><tr><td>0&#8203;.06538501</td></tr><tr><td>-0&#8203;.14322938</td></tr><tr><td>-0&#8203;.1534193</td></tr><tr><td>0&#8203;.08310435</td></tr><tr><td>-0&#8203;.00143448</td></tr><tr><td>-0&#8203;.03385677</td></tr><tr><td>-0&#8203;.11015249</td></tr><tr><td>0&#8203;.04435446</td></tr><tr><td>-0&#8203;.05573081</td></tr><tr><td>-0&#8203;.14104353</td></tr><tr><td>0&#8203;.1282908</td></tr><tr><td>-0&#8203;.13436742</td></tr><tr><td>0&#8203;.14440504</td></tr><tr><td>0&#8203;.05382466</td></tr><tr><td>-0&#8203;.00317372</td></tr><tr><td>-0&#8203;.19704737</td></tr><tr><td>0&#8203;.02852396</td></tr><tr><td>0&#8203;.14025466</td></tr><tr><td>0&#8203;.00977253</td></tr><tr><td>0&#8203;.06482861</td></tr><tr><td>-0&#8203;.0174015</td></tr><tr><td>-0&#8203;.09574348</td></tr><tr><td>0&#8203;.04373341</td></tr><tr><td>-0&#8203;.13470139</td></tr><tr><td>0&#8203;.18691896</td></tr><tr><td>0&#8203;.0043673</td></tr><tr><td>-0&#8203;.05885573</td></tr><tr><td>-0&#8203;.05210463</td></tr><tr><td>-0&#8203;.13494231</td></tr><tr><td>-0&#8203;.06430289</td></tr><tr><td>-0&#8203;.04603138</td></tr><tr><td>0&#8203;.01291356</td></tr><tr><td>0&#8203;.09040537</td></tr><tr><td>-0&#8203;.09968884</td></tr><tr><td>-0&#8203;.09279613</td></tr><tr><td>0&#8203;.01478726</td></tr><tr><td>-0&#8203;.11486845</td></tr><tr><td>-0&#8203;.08193821</td></tr><tr><td>0&#8203;.09248348</td></tr><tr><td>0&#8203;.06465446</td></tr><tr><td>-0&#8203;.11694852</td></tr><tr><td>-0&#8203;.05033919</td></tr><tr><td>-0&#8203;.05669071</td></tr><tr><td>0&#8203;.09069829</td></tr><tr><td>-0&#8203;.00425495</td></tr><tr><td>0&#8203;.08724996</td></tr><tr><td>0&#8203;.05356114</td></tr><tr><td>-0&#8203;.00690205</td></tr><tr><td>0&#8203;.16869172</td></tr><tr><td>-0&#8203;.24618189</td></tr><tr><td>0&#8203;.05934525</td></tr><tr><td>0&#8203;.1368933</td></tr><tr><td>0&#8203;.02271468</td></tr><tr><td>-0&#8203;.04639871</td></tr><tr><td>0&#8203;.03776661</td></tr><tr><td>0&#8203;.04638579</td></tr><tr><td>-0&#8203;.11562471</td></tr><tr><td>-0&#8203;.10622941</td></tr><tr><td>-0&#8203;.0075952</td></tr><tr><td>0&#8203;.0082637</td></tr><tr><td>0&#8203;.04814597</td></tr><tr><td>0&#8203;.05803099</td></tr><tr><td>-0&#8203;.04082125</td></tr><tr><td>-0&#8203;.03914835</td></tr><tr><td>-0&#8203;.04917046</td></tr><tr><td>-0&#8203;.01488094</td></tr><tr><td>-0&#8203;.08078091</td></tr><tr><td>0&#8203;.12331895</td></tr><tr><td>0&#8203;.0177269</td></tr><tr><td>0&#8203;.02815288</td></tr><tr><td>0&#8203;.06454241</td></tr><tr><td>-0&#8203;.13335848</td></tr><tr><td>-0&#8203;.03267974</td></tr><tr><td>0&#8203;.10579265</td></tr><tr><td>-0&#8203;.02468578</td></tr><tr><td>0&#8203;.07597418</td></tr><tr><td>-0&#8203;.00444793</td></tr></tbody></table>"
      ]
     },
     "execution_count": 39,
     "metadata": {},
     "output_type": "execute_result"
    }
   ],
   "source": [
    "Double cosineSimilarity(def a, def b) {\n",
    "    double dotProduct = 0.0\n",
    "    double normA = 0.0\n",
    "    double normB = 0.0\n",
    "    for (int i = 0; i < a.size(); i++) {\n",
    "        dotProduct += a[i] * b[i]\n",
    "        normA += Math.pow(a[i], 2);\n",
    "        normB += Math.pow(b[i], 2);\n",
    "    }   \n",
    "    return dotProduct / (Math.sqrt(normA) * Math.sqrt(normB))\n",
    "}\n",
    "//println cosineSimilarity(map[\"OMIM:187500\"], map[\"MGI:99604\"])\n",
    "println cosineSimilarity(map[\"OMIM:187500\"], map[\"OMIM:209900\"])\n",
    "map[\"OMIM:187500\"].eachWithIndex { k, i -> println \"$k\\t\"+map[\"OMIM:209900\"][i]}"
   ]
  },
  {
   "cell_type": "code",
   "execution_count": 40,
   "metadata": {},
   "outputs": [
    {
     "name": "stdout",
     "output_type": "stream",
     "text": [
      "MGI:2150920 0.9919365085193277\n"
     ]
    }
   ],
   "source": [
    "def maxval = 0\n",
    "def max = \"\"\n",
    "map.keySet().each {k ->\n",
    "    if (k.indexOf(\"MGI\")>-1 && map[k]) { // mouse genes only\n",
    "        if (map[\"OMIM:187500\"].size()!=map[k].size()) {\n",
    "            println \"$k: \"+map[k].size()+\" \"+map[\"OMIM:187500\"].size()\n",
    "        }\n",
    "        def val = cosineSimilarity(map[\"OMIM:613011\"], map[k])\n",
    "        if (val > maxval) {\n",
    "            maxval = val\n",
    "            max = k\n",
    "        }\n",
    "    }\n",
    "}\n",
    "println \"$max $maxval\""
   ]
  },
  {
   "cell_type": "code",
   "execution_count": null,
   "metadata": {},
   "outputs": [],
   "source": []
  }
 ],
 "metadata": {
  "kernelspec": {
   "display_name": "SciJava",
   "language": "groovy",
   "name": "scijava"
  },
  "language_info": {
   "codemirror_mode": "groovy",
   "file_extension": "",
   "mimetype": "",
   "name": "scijava",
   "nbconverter_exporter": "",
   "pygments_lexer": "groovy",
   "version": "1.0"
  }
 },
 "nbformat": 4,
 "nbformat_minor": 2
}
