{
 "cells": [
  {
   "cell_type": "code",
   "execution_count": 32,
   "metadata": {},
   "outputs": [],
   "source": [
    "import logging\n",
    "import os\n",
    "import sys\n",
    "import time\n",
    "\n",
    "import numpy as np\n",
    "import matplotlib.pyplot as plt\n",
    "import pykeen\n",
    "from pykeen.kge_models import TransE"
   ]
  },
  {
   "cell_type": "code",
   "execution_count": 33,
   "metadata": {},
   "outputs": [],
   "source": [
    "%matplotlib inline"
   ]
  },
  {
   "cell_type": "code",
   "execution_count": 34,
   "metadata": {},
   "outputs": [],
   "source": [
    "logging.basicConfig(level=logging.INFO)\n",
    "logging.getLogger('pykeen').setLevel(logging.INFO)"
   ]
  },
  {
   "cell_type": "code",
   "execution_count": 35,
   "metadata": {},
   "outputs": [
    {
     "name": "stdout",
     "output_type": "stream",
     "text": [
      "3.6.8 (default, Jan 14 2019, 11:02:34) \n",
      "[GCC 8.0.1 20180414 (experimental) [trunk revision 259383]]\n"
     ]
    }
   ],
   "source": [
    "print(sys.version)"
   ]
  },
  {
   "cell_type": "code",
   "execution_count": 36,
   "metadata": {},
   "outputs": [
    {
     "name": "stdout",
     "output_type": "stream",
     "text": [
      "Thu Jul 25 09:41:13 2019\n"
     ]
    }
   ],
   "source": [
    "print(time.asctime())"
   ]
  },
  {
   "cell_type": "code",
   "execution_count": 37,
   "metadata": {},
   "outputs": [
    {
     "name": "stdout",
     "output_type": "stream",
     "text": [
      "0.0.25\n"
     ]
    }
   ],
   "source": [
    "print(pykeen.get_version())"
   ]
  },
  {
   "cell_type": "markdown",
   "metadata": {},
   "source": [
    "Check which hyper-parameters are required by TransE:"
   ]
  },
  {
   "cell_type": "code",
   "execution_count": 38,
   "metadata": {},
   "outputs": [
    {
     "data": {
      "text/plain": [
       "['embedding_dim',\n",
       " 'margin_loss',\n",
       " 'learning_rate',\n",
       " 'scoring_function',\n",
       " 'normalization_of_entities']"
      ]
     },
     "execution_count": 38,
     "metadata": {},
     "output_type": "execute_result"
    }
   ],
   "source": [
    "TransE.hyper_params"
   ]
  },
  {
   "cell_type": "markdown",
   "metadata": {},
   "source": [
    "Define output directory:"
   ]
  },
  {
   "cell_type": "code",
   "execution_count": 39,
   "metadata": {},
   "outputs": [],
   "source": [
    "output_directory = 'data/'"
   ]
  },
  {
   "cell_type": "markdown",
   "metadata": {},
   "source": [
    "Define hyper-parameters inclduing the evaluation information:\n",
    " * If no test set is available define the ration of the training set that should be used as test set: **test_set_ratio**\n",
    " * Define whether you want to compute the metrics (mean rank and hits@k) in raw or in a filtered setting: **filter_negative_triples**"
   ]
  },
  {
   "cell_type": "code",
   "execution_count": 40,
   "metadata": {},
   "outputs": [],
   "source": [
    "config = dict(\n",
    "    training_set_path           = 'data/data-train/yeast-plain.nt',\n",
    "    execution_mode              = 'Training_mode',\n",
    "    random_seed                 = 2,\n",
    "    kg_embedding_model_name     = 'TransE',\n",
    "    embedding_dim               = 50,\n",
    "    scoring_function            = 1,  # corresponds to L1\n",
    "    normalization_of_entities   = 2,  # corresponds to L2\n",
    "    margin_loss                 = 3,\n",
    "    learning_rate               = 0.1,\n",
    "    num_epochs                  = 100,  \n",
    "    batch_size                  = 32,\n",
    "    filter_negative_triples     = True,\n",
    "    preferred_device            = 'cpu'\n",
    ")"
   ]
  },
  {
   "cell_type": "markdown",
   "metadata": {},
   "source": [
    "### Train TransE:"
   ]
  },
  {
   "cell_type": "code",
   "execution_count": 41,
   "metadata": {},
   "outputs": [
    {
     "name": "stderr",
     "output_type": "stream",
     "text": [
      "INFO:pykeen.utilities.pipeline:-------------Train KG Embeddings-------------\n",
      "\n",
      "Training epoch:   0%|          | 0/100 [00:00<?, ?it/s]\u001b[A\n",
      "Training epoch:   1%|          | 1/100 [02:29<4:05:52, 149.01s/it]\u001b[A\n",
      "Training epoch:   2%|▏         | 2/100 [04:56<4:02:44, 148.62s/it]\u001b[A\n",
      "Training epoch:   3%|▎         | 3/100 [07:25<4:00:26, 148.73s/it]\u001b[A\n",
      "Training epoch:   4%|▍         | 4/100 [09:57<3:59:30, 149.69s/it]\u001b[A\n",
      "Training epoch:   5%|▌         | 5/100 [12:25<3:55:57, 149.03s/it]\u001b[A\n",
      "Training epoch:   6%|▌         | 6/100 [14:52<3:52:49, 148.61s/it]\u001b[A\n",
      "Training epoch:   7%|▋         | 7/100 [17:22<3:51:00, 149.04s/it]\u001b[A\n",
      "Training epoch:   8%|▊         | 8/100 [19:53<3:49:20, 149.57s/it]\u001b[A\n",
      "Training epoch:   9%|▉         | 9/100 [22:26<3:48:25, 150.61s/it]\u001b[A\n",
      "Training epoch:  10%|█         | 10/100 [25:04<3:49:14, 152.83s/it]\u001b[A\n",
      "Training epoch:  11%|█         | 11/100 [27:38<3:47:17, 153.23s/it]\u001b[A\n",
      "Training epoch:  12%|█▏        | 12/100 [30:14<3:45:38, 153.85s/it]\u001b[A\n",
      "Training epoch:  13%|█▎        | 13/100 [32:47<3:42:59, 153.79s/it]\u001b[A\n",
      "Training epoch:  14%|█▍        | 14/100 [35:21<3:40:25, 153.79s/it]\u001b[A\n",
      "Training epoch:  15%|█▌        | 15/100 [37:51<3:36:11, 152.61s/it]\u001b[A\n",
      "Training epoch:  16%|█▌        | 16/100 [40:23<3:33:30, 152.50s/it]\u001b[A\n",
      "Training epoch:  17%|█▋        | 17/100 [42:59<3:32:21, 153.51s/it]\u001b[A\n",
      "Training epoch:  18%|█▊        | 18/100 [45:30<3:28:46, 152.76s/it]\u001b[A\n",
      "Training epoch:  19%|█▉        | 19/100 [48:06<3:27:22, 153.61s/it]\u001b[A\n",
      "Training epoch:  20%|██        | 20/100 [50:40<3:24:59, 153.74s/it]\u001b[A\n",
      "Training epoch:  21%|██        | 21/100 [53:11<3:21:28, 153.02s/it]\u001b[A\n",
      "Training epoch:  22%|██▏       | 22/100 [55:42<3:18:02, 152.34s/it]\u001b[A\n",
      "Training epoch:  23%|██▎       | 23/100 [58:12<3:14:52, 151.85s/it]\u001b[A\n",
      "Training epoch:  24%|██▍       | 24/100 [1:00:48<3:13:36, 152.84s/it]\u001b[A\n",
      "Training epoch:  25%|██▌       | 25/100 [1:03:17<3:09:50, 151.87s/it]\u001b[A\n",
      "Training epoch:  26%|██▌       | 26/100 [1:05:50<3:07:37, 152.13s/it]\u001b[A\n",
      "Training epoch:  27%|██▋       | 27/100 [1:08:21<3:04:40, 151.79s/it]\u001b[A\n",
      "Training epoch:  28%|██▊       | 28/100 [1:10:56<3:03:29, 152.92s/it]\u001b[A\n",
      "Training epoch:  29%|██▉       | 29/100 [1:13:26<2:59:39, 151.82s/it]\u001b[A\n",
      "Training epoch:  30%|███       | 30/100 [1:15:59<2:57:28, 152.12s/it]\u001b[A\n",
      "Training epoch:  31%|███       | 31/100 [1:18:34<2:56:10, 153.20s/it]\u001b[A\n",
      "Training epoch:  32%|███▏      | 32/100 [1:21:07<2:53:33, 153.14s/it]\u001b[A\n",
      "Training epoch:  33%|███▎      | 33/100 [1:23:39<2:50:41, 152.86s/it]\u001b[A\n",
      "Training epoch:  34%|███▍      | 34/100 [1:26:08<2:46:47, 151.63s/it]\u001b[A\n",
      "Training epoch:  35%|███▌      | 35/100 [1:28:42<2:44:49, 152.15s/it]\u001b[A\n",
      "Training epoch:  36%|███▌      | 36/100 [1:31:16<2:43:05, 152.89s/it]\u001b[A\n",
      "Training epoch:  37%|███▋      | 37/100 [1:33:52<2:41:27, 153.77s/it]\u001b[A\n",
      "Training epoch:  38%|███▊      | 38/100 [1:36:23<2:38:09, 153.06s/it]\u001b[A\n",
      "Training epoch:  39%|███▉      | 39/100 [1:38:57<2:35:40, 153.12s/it]\u001b[A\n",
      "Training epoch:  40%|████      | 40/100 [1:41:30<2:33:07, 153.12s/it]\u001b[A\n",
      "Training epoch:  41%|████      | 41/100 [1:44:01<2:29:55, 152.47s/it]\u001b[A\n",
      "Training epoch:  42%|████▏     | 42/100 [1:46:34<2:27:34, 152.66s/it]\u001b[A\n",
      "Training epoch:  43%|████▎     | 43/100 [1:49:11<2:26:23, 154.09s/it]\u001b[A\n",
      "Training epoch:  44%|████▍     | 44/100 [1:51:46<2:23:53, 154.18s/it]\u001b[A\n",
      "Training epoch:  45%|████▌     | 45/100 [1:54:17<2:20:35, 153.38s/it]\u001b[A\n",
      "Training epoch:  46%|████▌     | 46/100 [1:56:47<2:17:06, 152.35s/it]\u001b[A\n",
      "Training epoch:  47%|████▋     | 47/100 [1:59:23<2:15:33, 153.47s/it]\u001b[A\n",
      "Training epoch:  48%|████▊     | 48/100 [2:01:56<2:12:45, 153.19s/it]\u001b[A\n",
      "Training epoch:  49%|████▉     | 49/100 [2:04:28<2:09:59, 152.94s/it]\u001b[A\n",
      "Training epoch:  50%|█████     | 50/100 [2:06:56<2:06:13, 151.46s/it]\u001b[A\n",
      "Training epoch:  51%|█████     | 51/100 [2:09:27<2:03:31, 151.26s/it]\u001b[A\n",
      "Training epoch:  52%|█████▏    | 52/100 [2:12:01<2:01:38, 152.05s/it]\u001b[A\n",
      "Training epoch:  53%|█████▎    | 53/100 [2:14:34<1:59:22, 152.38s/it]\u001b[A\n",
      "Training epoch:  54%|█████▍    | 54/100 [2:17:09<1:57:21, 153.08s/it]\u001b[A\n",
      "Training epoch:  55%|█████▌    | 55/100 [2:19:43<1:55:02, 153.40s/it]\u001b[A\n",
      "Training epoch:  56%|█████▌    | 56/100 [2:22:15<1:52:07, 152.89s/it]\u001b[A\n",
      "Training epoch:  57%|█████▋    | 57/100 [2:24:52<1:50:27, 154.13s/it]\u001b[A\n",
      "Training epoch:  58%|█████▊    | 58/100 [2:27:25<1:47:41, 153.84s/it]\u001b[A\n",
      "Training epoch:  59%|█████▉    | 59/100 [2:29:57<1:44:44, 153.27s/it]\u001b[A\n",
      "Training epoch:  60%|██████    | 60/100 [2:32:30<1:42:16, 153.40s/it]\u001b[A\n",
      "Training epoch:  61%|██████    | 61/100 [2:35:02<1:39:19, 152.81s/it]\u001b[A\n",
      "Training epoch:  62%|██████▏   | 62/100 [2:37:33<1:36:30, 152.38s/it]\u001b[A\n",
      "Training epoch:  63%|██████▎   | 63/100 [2:40:07<1:34:15, 152.85s/it]\u001b[A\n",
      "Training epoch:  64%|██████▍   | 64/100 [2:42:41<1:31:48, 153.03s/it]\u001b[A\n",
      "Training epoch:  65%|██████▌   | 65/100 [2:45:13<1:29:12, 152.91s/it]\u001b[A\n",
      "Training epoch:  66%|██████▌   | 66/100 [2:47:47<1:26:48, 153.20s/it]\u001b[A\n",
      "Training epoch:  67%|██████▋   | 67/100 [2:50:23<1:24:39, 153.94s/it]\u001b[A\n",
      "Training epoch:  68%|██████▊   | 68/100 [2:52:59<1:22:27, 154.62s/it]\u001b[A\n",
      "Training epoch:  69%|██████▉   | 69/100 [2:55:31<1:19:26, 153.77s/it]\u001b[A\n",
      "Training epoch:  70%|███████   | 70/100 [2:58:05<1:16:54, 153.82s/it]\u001b[A\n",
      "Training epoch:  71%|███████   | 71/100 [3:00:38<1:14:14, 153.60s/it]\u001b[A\n",
      "Training epoch:  72%|███████▏  | 72/100 [3:03:10<1:11:25, 153.04s/it]\u001b[A\n",
      "Training epoch:  73%|███████▎  | 73/100 [3:05:43<1:08:54, 153.11s/it]\u001b[A\n",
      "Training epoch:  74%|███████▍  | 74/100 [3:08:15<1:06:17, 152.97s/it]\u001b[A\n",
      "Training epoch:  75%|███████▌  | 75/100 [3:10:53<1:04:15, 154.22s/it]\u001b[A\n",
      "Training epoch:  76%|███████▌  | 76/100 [3:13:24<1:01:19, 153.32s/it]\u001b[A\n",
      "Training epoch:  77%|███████▋  | 77/100 [3:15:58<58:50, 153.52s/it]  \u001b[A\n",
      "Training epoch:  78%|███████▊  | 78/100 [3:18:30<56:09, 153.15s/it]\u001b[A\n",
      "Training epoch:  79%|███████▉  | 79/100 [3:21:04<53:41, 153.41s/it]\u001b[A\n",
      "Training epoch:  80%|████████  | 80/100 [3:23:36<50:57, 152.86s/it]\u001b[A\n",
      "Training epoch:  81%|████████  | 81/100 [3:26:08<48:20, 152.67s/it]\u001b[A\n",
      "Training epoch:  82%|████████▏ | 82/100 [3:28:37<45:29, 151.64s/it]\u001b[A\n",
      "Training epoch:  83%|████████▎ | 83/100 [3:31:09<42:59, 151.73s/it]\u001b[A\n",
      "Training epoch:  84%|████████▍ | 84/100 [3:33:39<40:19, 151.23s/it]\u001b[A\n",
      "Training epoch:  85%|████████▌ | 85/100 [3:36:09<37:43, 150.89s/it]\u001b[A\n",
      "Training epoch:  86%|████████▌ | 86/100 [3:38:42<35:19, 151.39s/it]\u001b[A\n",
      "Training epoch:  87%|████████▋ | 87/100 [3:41:17<33:01, 152.46s/it]\u001b[A\n",
      "Training epoch:  88%|████████▊ | 88/100 [3:43:46<30:17, 151.44s/it]\u001b[A\n",
      "Training epoch:  89%|████████▉ | 89/100 [3:46:18<27:47, 151.62s/it]\u001b[A\n",
      "Training epoch:  90%|█████████ | 90/100 [3:48:51<25:20, 152.06s/it]\u001b[A\n",
      "Training epoch:  91%|█████████ | 91/100 [3:51:25<22:53, 152.59s/it]\u001b[A\n",
      "Training epoch:  92%|█████████▏| 92/100 [3:54:02<20:30, 153.83s/it]\u001b[A\n",
      "Training epoch:  93%|█████████▎| 93/100 [3:56:34<17:54, 153.51s/it]\u001b[A\n",
      "Training epoch:  94%|█████████▍| 94/100 [3:59:05<15:15, 152.60s/it]\u001b[A\n",
      "Training epoch:  95%|█████████▌| 95/100 [4:01:35<12:39, 151.81s/it]\u001b[A\n",
      "Training epoch:  96%|█████████▌| 96/100 [4:04:06<10:06, 151.66s/it]\u001b[A\n",
      "Training epoch:  97%|█████████▋| 97/100 [4:06:40<07:37, 152.49s/it]\u001b[A\n",
      "Training epoch:  98%|█████████▊| 98/100 [4:09:11<05:04, 152.02s/it]\u001b[A\n",
      "Training epoch:  99%|█████████▉| 99/100 [4:11:45<02:32, 152.56s/it]\u001b[A\n",
      "Training epoch: 100%|██████████| 100/100 [4:14:15<00:00, 151.88s/it]\u001b[A"
     ]
    }
   ],
   "source": [
    "results = pykeen.run(\n",
    "    config=config,\n",
    "    output_directory=output_directory,\n",
    ")"
   ]
  },
  {
   "cell_type": "markdown",
   "metadata": {},
   "source": [
    "### Check result entries:"
   ]
  },
  {
   "cell_type": "code",
   "execution_count": 42,
   "metadata": {},
   "outputs": [
    {
     "data": {
      "text/plain": [
       "odict_keys(['trained_model', 'losses', 'entity_to_embedding', 'relation_to_embedding', 'entity_to_id', 'relation_to_id', 'final_configuration'])"
      ]
     },
     "execution_count": 42,
     "metadata": {},
     "output_type": "execute_result"
    }
   ],
   "source": [
    "results.results.keys()"
   ]
  },
  {
   "cell_type": "markdown",
   "metadata": {},
   "source": [
    "### Losses"
   ]
  },
  {
   "cell_type": "code",
   "execution_count": 43,
   "metadata": {},
   "outputs": [
    {
     "data": {
      "image/png": "[encoded data removed]",
      "text/plain": [
       "<Figure size 432x288 with 1 Axes>"
      ]
     },
     "metadata": {
      "needs_background": "light"
     },
     "output_type": "display_data"
    }
   ],
   "source": [
    "losses = results.results['losses']\n",
    "epochs = np.arange(len(losses))\n",
    "plt.title(r'Loss Per Epoch')\n",
    "plt.xlabel('epoch')\n",
    "plt.ylabel('loss')\n",
    "plt.plot(epochs, losses)\n",
    "plt.show()"
   ]
  },
  {
   "cell_type": "markdown",
   "metadata": {},
   "source": [
    "### Save embeddings:"
   ]
  },
  {
   "cell_type": "code",
   "execution_count": 44,
   "metadata": {},
   "outputs": [],
   "source": [
    "import pandas as pd\n",
    "\n",
    "classes = list(results.results['entity_to_embedding'].keys())\n",
    "cls_embeds = list(results.results['entity_to_embedding'].values())\n",
    "\n",
    "df = pd.DataFrame({'classes': classes, 'embeddings': cls_embeds})\n",
    "df.to_pickle('data/transe/cls_embeddings.pkl')\n",
    "\n",
    "relations = list(results.results['relation_to_embedding'].keys())\n",
    "rel_embeds = list(results.results['relation_to_embedding'].values())\n",
    "df = pd.DataFrame({'relations': relations, 'embeddings': rel_embeds})\n",
    "df.to_pickle('data/transe/rel_embeddings.pkl')\n"
   ]
  },
  {
   "cell_type": "markdown",
   "metadata": {},
   "source": [
    "### Evaluation results on test set:\n",
    " * Hits@k, k $\\in$ {10, 100}\n",
    " * Mean rank\n",
    " * ROC AUC"
   ]
  },
  {
   "cell_type": "code",
   "execution_count": 45,
   "metadata": {},
   "outputs": [
    {
     "name": "stdout",
     "output_type": "stream",
     "text": [
      "0.06 0.17 8382.89 0.83\n",
      "0.08 0.20 8335.63 0.84\n"
     ]
    }
   ],
   "source": [
    "from scipy.stats import rankdata\n",
    "\n",
    "def load_test_data(data_file, classes, relations):\n",
    "    data = []\n",
    "    rel = f'http://interacts'\n",
    "    with open(data_file, 'r') as f:\n",
    "        for line in f:\n",
    "            it = line.strip().split()\n",
    "            id1 = f'http://{it[0]}'\n",
    "            id2 = f'http://{it[1]}'\n",
    "            if id1 not in classes or id2 not in classes or rel not in relations:\n",
    "                continue\n",
    "            data.append((id1, rel, id2))\n",
    "    return data\n",
    "\n",
    "def compute_rank_roc(ranks, n_prots):\n",
    "    auc_x = list(ranks.keys())\n",
    "    auc_x.sort()\n",
    "    auc_y = []\n",
    "    tpr = 0\n",
    "    sum_rank = sum(ranks.values())\n",
    "    for x in auc_x:\n",
    "        tpr += ranks[x]\n",
    "        auc_y.append(tpr / sum_rank)\n",
    "    auc_x.append(n_prots)\n",
    "    auc_y.append(1)\n",
    "    auc = np.trapz(auc_y, auc_x) / n_prots\n",
    "    return auc\n",
    "\n",
    "cls_df = pd.read_pickle('data/transe/cls_embeddings.pkl')\n",
    "rel_df = pd.read_pickle('data/transe/rel_embeddings.pkl')\n",
    "classes = {v: k for k, v in enumerate(cls_df['classes'])}\n",
    "relations = {v: k for k, v in enumerate(rel_df['relations'])}\n",
    "\n",
    "nb_classes = len(cls_df)\n",
    "nb_relations = len(rel_df)\n",
    "embeds_list = cls_df['embeddings'].values\n",
    "rembeds_list = rel_df['embeddings'].values\n",
    "size = len(embeds_list[0])\n",
    "embeds = np.zeros((nb_classes, size), dtype=np.float32)\n",
    "for i, emb in enumerate(embeds_list):\n",
    "    embeds[i, :] = emb\n",
    "\n",
    "proteins = {}\n",
    "for k, v in classes.items():\n",
    "    if not k.startswith('<http://purl.obolibrary.org/obo/GO_'):\n",
    "        proteins[k] = v\n",
    "\n",
    "prot_index = list(proteins.values())\n",
    "prot_embeds = embeds[prot_index, :]\n",
    "prot_dict = {v: k for k, v in enumerate(prot_index)}\n",
    "    \n",
    "rsize = len(rembeds_list[0])\n",
    "rembeds = np.zeros((nb_relations, rsize), dtype=np.float32)\n",
    "for i, emb in enumerate(rembeds_list):\n",
    "    rembeds[i, :] = emb\n",
    "\n",
    "train_data = load_test_data('data/data-train/4932.protein.links.v10.5.txt', classes, relations)\n",
    "valid_data = load_test_data('data/data-valid/4932.protein.links.v10.5.txt', classes, relations)\n",
    "trlabels = {}\n",
    "for c, r, d in train_data:\n",
    "    c, r, d = prot_dict[classes[c]], relations[r], prot_dict[classes[d]]\n",
    "    if r not in trlabels:\n",
    "        trlabels[r] = np.ones((len(prot_embeds), len(prot_embeds)), dtype=np.int32)\n",
    "    trlabels[r][c, d] = 1000\n",
    "for c, r, d in valid_data:\n",
    "    c, r, d = prot_dict[classes[c]], relations[r], prot_dict[classes[d]]\n",
    "    if r not in trlabels:\n",
    "        trlabels[r] = np.ones((len(prot_embeds), len(prot_embeds)), dtype=np.int32)\n",
    "    trlabels[r][c, d] = 1000\n",
    "\n",
    "test_data = load_test_data('data/data-test/4932.protein.links.v10.5.txt', classes, relations)\n",
    "top1 = 0\n",
    "top10 = 0\n",
    "top100 = 0\n",
    "mean_rank = 0\n",
    "ftop1 = 0\n",
    "ftop10 = 0\n",
    "ftop100 = 0\n",
    "fmean_rank = 0\n",
    "labels = {}\n",
    "preds = {}\n",
    "ranks = {}\n",
    "franks = {}\n",
    "eval_data = test_data\n",
    "n = len(eval_data)\n",
    "for c, r, d in eval_data:\n",
    "    c, r, d = prot_dict[classes[c]], relations[r], prot_dict[classes[d]]\n",
    "    if r not in labels:\n",
    "        labels[r] = np.zeros((len(prot_embeds), len(prot_embeds)), dtype=np.int32)\n",
    "    if r not in preds:\n",
    "        preds[r] = np.zeros((len(prot_embeds), len(prot_embeds)), dtype=np.float32)\n",
    "    labels[r][c, d] = 1\n",
    "    ec = prot_embeds[c, :]\n",
    "    er = rembeds[r, :]\n",
    "    ec += er\n",
    "\n",
    "    # Compute distance\n",
    "    dst = np.linalg.norm(prot_embeds - ec.reshape(1, -1), axis=1)\n",
    "    res = dst.flatten()\n",
    "\n",
    "    preds[r][c, :] = res\n",
    "    index = rankdata(res, method='average')\n",
    "    rank = index[d]\n",
    "    if rank == 1:\n",
    "        top1 += 1\n",
    "    if rank <= 10:\n",
    "        top10 += 1\n",
    "    if rank <= 100:\n",
    "        top100 += 1\n",
    "    mean_rank += rank\n",
    "    if rank not in ranks:\n",
    "        ranks[rank] = 0\n",
    "    ranks[rank] += 1\n",
    "\n",
    "    # Filtered rank\n",
    "    index = rankdata((res * trlabels[r][c, :]), method='average')\n",
    "    rank = index[d]\n",
    "    if rank == 1:\n",
    "        ftop1 += 1\n",
    "    if rank <= 10:\n",
    "        ftop10 += 1\n",
    "    if rank <= 100:\n",
    "        ftop100 += 1\n",
    "    fmean_rank += rank\n",
    "\n",
    "    if rank not in franks:\n",
    "        franks[rank] = 0\n",
    "    franks[rank] += 1\n",
    "top1 /= n\n",
    "top10 /= n\n",
    "top100 /= n\n",
    "mean_rank /= n\n",
    "ftop1 /= n\n",
    "ftop10 /= n\n",
    "ftop100 /= n\n",
    "fmean_rank /= n\n",
    "\n",
    "rank_auc = compute_rank_roc(ranks, len(proteins))\n",
    "frank_auc = compute_rank_roc(franks, len(proteins))\n",
    "\n",
    "print(f'{top10:.2f} {top100:.2f} {mean_rank:.2f} {rank_auc:.2f}')\n",
    "print(f'{ftop10:.2f} {ftop100:.2f} {fmean_rank:.2f} {frank_auc:.2f}')"
   ]
  },
  {
   "cell_type": "code",
   "execution_count": null,
   "metadata": {},
   "outputs": [],
   "source": []
  }
 ],
 "metadata": {
  "kernelspec": {
   "display_name": "Python 3",
   "language": "python",
   "name": "python3"
  },
  "language_info": {
   "codemirror_mode": {
    "name": "ipython",
    "version": 3
   },
   "file_extension": ".py",
   "mimetype": "text/x-python",
   "name": "python",
   "nbconvert_exporter": "python",
   "pygments_lexer": "ipython3",
   "version": "3.6.8"
  }
 },
 "nbformat": 4,
 "nbformat_minor": 2
}
