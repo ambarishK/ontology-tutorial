{
 "cells": [
  {
   "cell_type": "markdown",
   "metadata": {},
   "source": [
    "# Translational embeddings with PyKEEN\n",
    "\n",
    "This notebook will set up a basic training procedure for a TransE model using the PyKEEN package. We will use an interaction network for yeast (from the STRING database) together with GO functions of yeast protein to test the embedding function.\n",
    "\n",
    "For this tutorial to work, install PyKEEN following the instructions at https://github.com/SmartDataAnalytics/PyKEEN.\n",
    "\n",
    "We start with basic imports and setting up our environment:"
   ]
  },
  {
   "cell_type": "code",
   "execution_count": 1,
   "metadata": {},
   "outputs": [],
   "source": [
    "import logging\n",
    "import os\n",
    "import sys\n",
    "import time\n",
    "\n",
    "import numpy as np\n",
    "import matplotlib.pyplot as plt\n",
    "import pykeen\n",
    "from pykeen.kge_models import TransE"
   ]
  },
  {
   "cell_type": "code",
   "execution_count": 2,
   "metadata": {},
   "outputs": [],
   "source": [
    "%matplotlib inline"
   ]
  },
  {
   "cell_type": "code",
   "execution_count": 3,
   "metadata": {},
   "outputs": [],
   "source": [
    "logging.basicConfig(level=logging.INFO)\n",
    "logging.getLogger('pykeen').setLevel(logging.INFO)"
   ]
  },
  {
   "cell_type": "code",
   "execution_count": 4,
   "metadata": {},
   "outputs": [
    {
     "name": "stdout",
     "output_type": "stream",
     "text": [
      "3.6.0 (default, Jul 27 2019, 09:24:03) \n",
      "[GCC 8.3.0]\n"
     ]
    }
   ],
   "source": [
    "print(sys.version)"
   ]
  },
  {
   "cell_type": "code",
   "execution_count": 5,
   "metadata": {},
   "outputs": [
    {
     "name": "stdout",
     "output_type": "stream",
     "text": [
      "Sat Jul 27 11:21:42 2019\n"
     ]
    }
   ],
   "source": [
    "print(time.asctime())"
   ]
  },
  {
   "cell_type": "code",
   "execution_count": 6,
   "metadata": {},
   "outputs": [
    {
     "name": "stdout",
     "output_type": "stream",
     "text": [
      "0.0.25\n"
     ]
    }
   ],
   "source": [
    "print(pykeen.get_version())"
   ]
  },
  {
   "cell_type": "markdown",
   "metadata": {},
   "source": [
    "Check which hyper-parameters are required by TransE:"
   ]
  },
  {
   "cell_type": "code",
   "execution_count": 7,
   "metadata": {},
   "outputs": [
    {
     "data": {
      "text/plain": [
       "['embedding_dim',\n",
       " 'margin_loss',\n",
       " 'learning_rate',\n",
       " 'scoring_function',\n",
       " 'normalization_of_entities']"
      ]
     },
     "execution_count": 7,
     "metadata": {},
     "output_type": "execute_result"
    }
   ],
   "source": [
    "TransE.hyper_params"
   ]
  },
  {
   "cell_type": "markdown",
   "metadata": {},
   "source": [
    "Define output directory:"
   ]
  },
  {
   "cell_type": "code",
   "execution_count": 8,
   "metadata": {},
   "outputs": [],
   "source": [
    "output_directory = 'data/'"
   ]
  },
  {
   "cell_type": "markdown",
   "metadata": {},
   "source": [
    "Define hyper-parameters inclduing the evaluation information:\n",
    " * If no test set is available define the ration of the training set that should be used as test set: **test_set_ratio**\n",
    " * Define whether you want to compute the metrics (mean rank and hits@k) in raw or in a filtered setting: **filter_negative_triples**\n",
    " \n",
    " This is the basic set of parameters for a TransE model; other models may require slightly different parameters.\n",
    " \n",
    " Unless you have a powerful GPU or use a different dataset than the one provided, set the number of epochs to a low number (5 or 10) for this tutorial; when you want to use and apply the model for a prediction task later, train for more epochs (ideally, on a good GPU)."
   ]
  },
  {
   "cell_type": "code",
   "execution_count": 54,
   "metadata": {},
   "outputs": [],
   "source": [
    "config = dict(\n",
    "    training_set_path           = 'data/data-train/yeast-plain.nt',\n",
    "    execution_mode              = 'Training_mode',\n",
    "    random_seed                 = 2,\n",
    "    kg_embedding_model_name     = 'TransE',\n",
    "    embedding_dim               = 50,\n",
    "    scoring_function            = 1,  # corresponds to L1\n",
    "    normalization_of_entities   = 2,  # corresponds to L2\n",
    "    margin_loss                 = 3,\n",
    "    learning_rate               = 0.1,\n",
    "    num_epochs                  = 10,  \n",
    "    batch_size                  = 32,\n",
    "    filter_negative_triples     = True,\n",
    "    preferred_device            = 'gpu'\n",
    ")"
   ]
  },
  {
   "cell_type": "markdown",
   "metadata": {},
   "source": [
    "### Train TransE:"
   ]
  },
  {
   "cell_type": "code",
   "execution_count": 55,
   "metadata": {},
   "outputs": [
    {
     "name": "stderr",
     "output_type": "stream",
     "text": [
      "INFO:pykeen.utilities.pipeline:-------------Train KG Embeddings-------------\n",
      "Training epoch: 100%|██████████| 10/10 [06:19<00:00, 37.99s/it]\n"
     ]
    }
   ],
   "source": [
    "results = pykeen.run(\n",
    "    config=config,\n",
    "    output_directory=output_directory,\n",
    ")"
   ]
  },
  {
   "cell_type": "markdown",
   "metadata": {},
   "source": [
    "### Check result entries:"
   ]
  },
  {
   "cell_type": "code",
   "execution_count": 56,
   "metadata": {},
   "outputs": [
    {
     "data": {
      "text/plain": [
       "odict_keys(['trained_model', 'losses', 'entity_to_embedding', 'relation_to_embedding', 'entity_to_id', 'relation_to_id', 'final_configuration'])"
      ]
     },
     "execution_count": 56,
     "metadata": {},
     "output_type": "execute_result"
    }
   ],
   "source": [
    "results.results.keys()"
   ]
  },
  {
   "cell_type": "markdown",
   "metadata": {},
   "source": [
    "### Losses\n",
    "\n",
    "This plot shows us how well our model learns. We can see that the loss is still increasing, so we should try again with a higher number of epochs. We would stop training when we our loss is no longer decreasing (may take hundreds or thousands of epochs)."
   ]
  },
  {
   "cell_type": "code",
   "execution_count": 57,
   "metadata": {},
   "outputs": [
    {
     "data": {
      "image/png": "[encoded data removed]",
      "text/plain": [
       "<Figure size 432x288 with 1 Axes>"
      ]
     },
     "metadata": {
      "needs_background": "light"
     },
     "output_type": "display_data"
    }
   ],
   "source": [
    "losses = results.results['losses']\n",
    "epochs = np.arange(len(losses))\n",
    "plt.title(r'Loss Per Epoch')\n",
    "plt.xlabel('epoch')\n",
    "plt.ylabel('loss')\n",
    "plt.plot(epochs, losses)\n",
    "plt.show()"
   ]
  },
  {
   "cell_type": "markdown",
   "metadata": {},
   "source": [
    "### Save embeddings:"
   ]
  },
  {
   "cell_type": "code",
   "execution_count": 58,
   "metadata": {},
   "outputs": [],
   "source": [
    "import pandas as pd\n",
    "\n",
    "classes = list(results.results['entity_to_embedding'].keys())\n",
    "cls_embeds = list(results.results['entity_to_embedding'].values())\n",
    "\n",
    "df = pd.DataFrame({'classes': classes, 'embeddings': cls_embeds})\n",
    "df.to_pickle('data/transe/cls_embeddings.pkl')\n",
    "\n",
    "relations = list(results.results['relation_to_embedding'].keys())\n",
    "rel_embeds = list(results.results['relation_to_embedding'].values())\n",
    "df = pd.DataFrame({'relations': relations, 'embeddings': rel_embeds})\n",
    "df.to_pickle('data/transe/rel_embeddings.pkl')\n"
   ]
  },
  {
   "cell_type": "markdown",
   "metadata": {},
   "source": [
    "### Evaluation results on test set:\n",
    " * Hits@k, k $\\in$ {10, 100}\n",
    " * Mean rank\n",
    " * ROC AUC"
   ]
  },
  {
   "cell_type": "code",
   "execution_count": 59,
   "metadata": {},
   "outputs": [
    {
     "name": "stdout",
     "output_type": "stream",
     "text": [
      "0.01 0.11 9421.18 0.81\n",
      "0.02 0.14 9373.91 0.81\n"
     ]
    }
   ],
   "source": [
    "from scipy.stats import rankdata\n",
    "\n",
    "def load_test_data(data_file, classes, relations):\n",
    "    data = []\n",
    "    rel = f'http://interacts'\n",
    "    with open(data_file, 'r') as f:\n",
    "        for line in f:\n",
    "            it = line.strip().split()\n",
    "            id1 = f'http://{it[0]}'\n",
    "            id2 = f'http://{it[1]}'\n",
    "            if id1 not in classes or id2 not in classes or rel not in relations:\n",
    "                continue\n",
    "            data.append((id1, rel, id2))\n",
    "    return data\n",
    "\n",
    "def compute_rank_roc(ranks, n_prots):\n",
    "    auc_x = list(ranks.keys())\n",
    "    auc_x.sort()\n",
    "    auc_y = []\n",
    "    tpr = 0\n",
    "    sum_rank = sum(ranks.values())\n",
    "    for x in auc_x:\n",
    "        tpr += ranks[x]\n",
    "        auc_y.append(tpr / sum_rank)\n",
    "    auc_x.append(n_prots)\n",
    "    auc_y.append(1)\n",
    "    auc = np.trapz(auc_y, auc_x) / n_prots\n",
    "    return auc\n",
    "\n",
    "cls_df = pd.read_pickle('data/transe/cls_embeddings.pkl')\n",
    "rel_df = pd.read_pickle('data/transe/rel_embeddings.pkl')\n",
    "classes = {v: k for k, v in enumerate(cls_df['classes'])}\n",
    "relations = {v: k for k, v in enumerate(rel_df['relations'])}\n",
    "\n",
    "nb_classes = len(cls_df)\n",
    "nb_relations = len(rel_df)\n",
    "embeds_list = cls_df['embeddings'].values\n",
    "rembeds_list = rel_df['embeddings'].values\n",
    "size = len(embeds_list[0])\n",
    "embeds = np.zeros((nb_classes, size), dtype=np.float32)\n",
    "for i, emb in enumerate(embeds_list):\n",
    "    embeds[i, :] = emb\n",
    "\n",
    "proteins = {}\n",
    "for k, v in classes.items():\n",
    "    if not k.startswith('<http://purl.obolibrary.org/obo/GO_'):\n",
    "        proteins[k] = v\n",
    "\n",
    "prot_index = list(proteins.values())\n",
    "prot_embeds = embeds[prot_index, :]\n",
    "prot_dict = {v: k for k, v in enumerate(prot_index)}\n",
    "    \n",
    "rsize = len(rembeds_list[0])\n",
    "rembeds = np.zeros((nb_relations, rsize), dtype=np.float32)\n",
    "for i, emb in enumerate(rembeds_list):\n",
    "    rembeds[i, :] = emb\n",
    "\n",
    "train_data = load_test_data('data/data-train/4932.protein.links.v10.5.txt', classes, relations)\n",
    "valid_data = load_test_data('data/data-valid/4932.protein.links.v10.5.txt', classes, relations)\n",
    "trlabels = {}\n",
    "for c, r, d in train_data:\n",
    "    c, r, d = prot_dict[classes[c]], relations[r], prot_dict[classes[d]]\n",
    "    if r not in trlabels:\n",
    "        trlabels[r] = np.ones((len(prot_embeds), len(prot_embeds)), dtype=np.int32)\n",
    "    trlabels[r][c, d] = 1000\n",
    "for c, r, d in valid_data:\n",
    "    c, r, d = prot_dict[classes[c]], relations[r], prot_dict[classes[d]]\n",
    "    if r not in trlabels:\n",
    "        trlabels[r] = np.ones((len(prot_embeds), len(prot_embeds)), dtype=np.int32)\n",
    "    trlabels[r][c, d] = 1000\n",
    "\n",
    "test_data = load_test_data('data/data-test/4932.protein.links.v10.5.txt', classes, relations)\n",
    "top1 = 0\n",
    "top10 = 0\n",
    "top100 = 0\n",
    "mean_rank = 0\n",
    "ftop1 = 0\n",
    "ftop10 = 0\n",
    "ftop100 = 0\n",
    "fmean_rank = 0\n",
    "labels = {}\n",
    "preds = {}\n",
    "ranks = {}\n",
    "franks = {}\n",
    "eval_data = test_data\n",
    "n = len(eval_data)\n",
    "for c, r, d in eval_data:\n",
    "    c, r, d = prot_dict[classes[c]], relations[r], prot_dict[classes[d]]\n",
    "    if r not in labels:\n",
    "        labels[r] = np.zeros((len(prot_embeds), len(prot_embeds)), dtype=np.int32)\n",
    "    if r not in preds:\n",
    "        preds[r] = np.zeros((len(prot_embeds), len(prot_embeds)), dtype=np.float32)\n",
    "    labels[r][c, d] = 1\n",
    "    ec = prot_embeds[c, :]\n",
    "    er = rembeds[r, :]\n",
    "    ec += er\n",
    "\n",
    "    # Compute distance\n",
    "    dst = np.linalg.norm(prot_embeds - ec.reshape(1, -1), axis=1)\n",
    "    res = dst.flatten()\n",
    "\n",
    "    preds[r][c, :] = res\n",
    "    index = rankdata(res, method='average')\n",
    "    rank = index[d]\n",
    "    if rank == 1:\n",
    "        top1 += 1\n",
    "    if rank <= 10:\n",
    "        top10 += 1\n",
    "    if rank <= 100:\n",
    "        top100 += 1\n",
    "    mean_rank += rank\n",
    "    if rank not in ranks:\n",
    "        ranks[rank] = 0\n",
    "    ranks[rank] += 1\n",
    "\n",
    "    # Filtered rank\n",
    "    index = rankdata((res * trlabels[r][c, :]), method='average')\n",
    "    rank = index[d]\n",
    "    if rank == 1:\n",
    "        ftop1 += 1\n",
    "    if rank <= 10:\n",
    "        ftop10 += 1\n",
    "    if rank <= 100:\n",
    "        ftop100 += 1\n",
    "    fmean_rank += rank\n",
    "\n",
    "    if rank not in franks:\n",
    "        franks[rank] = 0\n",
    "    franks[rank] += 1\n",
    "top1 /= n\n",
    "top10 /= n\n",
    "top100 /= n\n",
    "mean_rank /= n\n",
    "ftop1 /= n\n",
    "ftop10 /= n\n",
    "ftop100 /= n\n",
    "fmean_rank /= n\n",
    "\n",
    "rank_auc = compute_rank_roc(ranks, len(proteins))\n",
    "frank_auc = compute_rank_roc(franks, len(proteins))\n",
    "\n",
    "print(f'{top10:.2f} {top100:.2f} {mean_rank:.2f} {rank_auc:.2f}')\n",
    "print(f'{ftop10:.2f} {ftop100:.2f} {fmean_rank:.2f} {frank_auc:.2f}')"
   ]
  },
  {
   "cell_type": "code",
   "execution_count": 61,
   "metadata": {},
   "outputs": [
    {
     "name": "stdout",
     "output_type": "stream",
     "text": [
      "[t-SNE] Computing 91 nearest neighbors...\n",
      "[t-SNE] Indexed 50653 samples in 0.123s...\n",
      "[t-SNE] Computed neighbors for 50653 samples in 303.267s...\n",
      "[t-SNE] Computed conditional probabilities for sample 1000 / 50653\n",
      "[t-SNE] Computed conditional probabilities for sample 2000 / 50653\n",
      "[t-SNE] Computed conditional probabilities for sample 3000 / 50653\n",
      "[t-SNE] Computed conditional probabilities for sample 4000 / 50653\n",
      "[t-SNE] Computed conditional probabilities for sample 5000 / 50653\n",
      "[t-SNE] Computed conditional probabilities for sample 6000 / 50653\n",
      "[t-SNE] Computed conditional probabilities for sample 7000 / 50653\n",
      "[t-SNE] Computed conditional probabilities for sample 8000 / 50653\n",
      "[t-SNE] Computed conditional probabilities for sample 9000 / 50653\n",
      "[t-SNE] Computed conditional probabilities for sample 10000 / 50653\n",
      "[t-SNE] Computed conditional probabilities for sample 11000 / 50653\n",
      "[t-SNE] Computed conditional probabilities for sample 12000 / 50653\n",
      "[t-SNE] Computed conditional probabilities for sample 13000 / 50653\n",
      "[t-SNE] Computed conditional probabilities for sample 14000 / 50653\n",
      "[t-SNE] Computed conditional probabilities for sample 15000 / 50653\n",
      "[t-SNE] Computed conditional probabilities for sample 16000 / 50653\n",
      "[t-SNE] Computed conditional probabilities for sample 17000 / 50653\n",
      "[t-SNE] Computed conditional probabilities for sample 18000 / 50653\n",
      "[t-SNE] Computed conditional probabilities for sample 19000 / 50653\n",
      "[t-SNE] Computed conditional probabilities for sample 20000 / 50653\n",
      "[t-SNE] Computed conditional probabilities for sample 21000 / 50653\n",
      "[t-SNE] Computed conditional probabilities for sample 22000 / 50653\n",
      "[t-SNE] Computed conditional probabilities for sample 23000 / 50653\n",
      "[t-SNE] Computed conditional probabilities for sample 24000 / 50653\n",
      "[t-SNE] Computed conditional probabilities for sample 25000 / 50653\n",
      "[t-SNE] Computed conditional probabilities for sample 26000 / 50653\n",
      "[t-SNE] Computed conditional probabilities for sample 27000 / 50653\n",
      "[t-SNE] Computed conditional probabilities for sample 28000 / 50653\n",
      "[t-SNE] Computed conditional probabilities for sample 29000 / 50653\n",
      "[t-SNE] Computed conditional probabilities for sample 30000 / 50653\n",
      "[t-SNE] Computed conditional probabilities for sample 31000 / 50653\n",
      "[t-SNE] Computed conditional probabilities for sample 32000 / 50653\n",
      "[t-SNE] Computed conditional probabilities for sample 33000 / 50653\n",
      "[t-SNE] Computed conditional probabilities for sample 34000 / 50653\n",
      "[t-SNE] Computed conditional probabilities for sample 35000 / 50653\n",
      "[t-SNE] Computed conditional probabilities for sample 36000 / 50653\n",
      "[t-SNE] Computed conditional probabilities for sample 37000 / 50653\n",
      "[t-SNE] Computed conditional probabilities for sample 38000 / 50653\n",
      "[t-SNE] Computed conditional probabilities for sample 39000 / 50653\n",
      "[t-SNE] Computed conditional probabilities for sample 40000 / 50653\n",
      "[t-SNE] Computed conditional probabilities for sample 41000 / 50653\n",
      "[t-SNE] Computed conditional probabilities for sample 42000 / 50653\n",
      "[t-SNE] Computed conditional probabilities for sample 43000 / 50653\n",
      "[t-SNE] Computed conditional probabilities for sample 44000 / 50653\n",
      "[t-SNE] Computed conditional probabilities for sample 45000 / 50653\n",
      "[t-SNE] Computed conditional probabilities for sample 46000 / 50653\n",
      "[t-SNE] Computed conditional probabilities for sample 47000 / 50653\n",
      "[t-SNE] Computed conditional probabilities for sample 48000 / 50653\n",
      "[t-SNE] Computed conditional probabilities for sample 49000 / 50653\n",
      "[t-SNE] Computed conditional probabilities for sample 50000 / 50653\n",
      "[t-SNE] Computed conditional probabilities for sample 50653 / 50653\n",
      "[t-SNE] Mean sigma: 0.251483\n",
      "[t-SNE] KL divergence after 250 iterations with early exaggeration: 114.803070\n",
      "[t-SNE] Error after 1000 iterations: 5.547634\n"
     ]
    }
   ],
   "source": [
    "from matplotlib import pyplot as plt\n",
    "from sklearn.manifold import TSNE\n",
    "X = TSNE(n_components=2, verbose=1).fit_transform(prot_embeds)\n"
   ]
  },
  {
   "cell_type": "code",
   "execution_count": 62,
   "metadata": {},
   "outputs": [
    {
     "data": {
      "image/png": "[encoded data removed]",
      "text/plain": [
       "<Figure size 1440x720 with 1 Axes>"
      ]
     },
     "metadata": {
      "needs_background": "light"
     },
     "output_type": "display_data"
    }
   ],
   "source": [
    "ec_numbers = {}\n",
    "with open('data/yeast_ec.tab') as f:\n",
    "    next(f)\n",
    "    for line in f:\n",
    "        it = line.strip().split('\\t', -1)\n",
    "        if len(it) < 5:\n",
    "            continue\n",
    "        if it[3]:\n",
    "            prot_id = it[3].split(';')[0]\n",
    "            prot_id = 'http://{0}'.format(prot_id)    \n",
    "            ec_numbers[prot_id] = it[4]\n",
    "classes = {'0': [[], []]}\n",
    "for i, item in enumerate(proteins.items()):\n",
    "    k, v = item\n",
    "    if k in ec_numbers:\n",
    "        ec = ec_numbers[k].split('.')[0]\n",
    "        if ec not in classes:\n",
    "            classes[ec] = [[], []]\n",
    "        classes[ec][0].append(X[i, 0])\n",
    "        classes[ec][1].append(X[i, 1])\n",
    "colors = iter(cm.rainbow(np.linspace(0, 1, len(classes))))\n",
    "fig, ax = plt.subplots(figsize=(20, 10))\n",
    "\n",
    "for ec, items in classes.items():\n",
    "    if ec == '0':\n",
    "        continue\n",
    "    color = next(colors)\n",
    "    ax.scatter(items[0], items[1], color=color, label=ec)\n",
    "\n",
    "ax.legend()\n",
    "ax.grid(True)\n",
    "\n",
    "plt.show()"
   ]
  },
  {
   "cell_type": "code",
   "execution_count": null,
   "metadata": {},
   "outputs": [],
   "source": []
  }
 ],
 "metadata": {
  "kernelspec": {
   "display_name": "Python 3",
   "language": "python",
   "name": "python3"
  },
  "language_info": {
   "codemirror_mode": {
    "name": "ipython",
    "version": 3
   },
   "file_extension": ".py",
   "mimetype": "text/x-python",
   "name": "python",
   "nbconvert_exporter": "python",
   "pygments_lexer": "ipython3",
   "version": "3.6.0"
  }
 },
 "nbformat": 4,
 "nbformat_minor": 2
}
