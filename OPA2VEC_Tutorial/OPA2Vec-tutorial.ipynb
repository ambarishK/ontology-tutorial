{
 "cells": [
  {
   "cell_type": "markdown",
   "metadata": {},
   "source": [
    "# Welcome to the OPA2Vec tutorial session.\n",
    "\n",
    "## Introduction\n",
    "\n",
    "OPA2Vec is a tool that can be used to produce feature vectors for biological entities based on an ontology and its annotations. \n",
    "\n",
    "The source code of OPA2Vec is available at: https://github.com/bio-ontology-research-group/opa2vec/.\n",
    "\n",
    "## Dependencies\n",
    "\n",
    "First of all, we need to prepare the environment to run OPA2Vec. OPA2Vec is implemented in 3 different programming languages python, groovy and perl. The versions used for each language are the following: \n",
    "- python 2.7.5\n",
    "- groovy 2.4.10 JVM:1.8.0_121\n",
    "- perl: v5.16.3\n",
    "\n",
    "OPA2Vec also uses the gensim python library which requires scipy and numpy. Assuming you have numpy and scipy installed, you can install gensim by running the following in your terminal: "
   ]
  },
  {
   "cell_type": "code",
   "execution_count": null,
   "metadata": {},
   "outputs": [],
   "source": [
    "%%bash\n",
    "pip install --upgrade gensim"
   ]
  },
  {
   "cell_type": "markdown",
   "metadata": {},
   "source": [
    "Now that our enviornment is hopefully ready, we can go ahead and run OPA2Vec. The folder where you found this tutorial contains some files that we could use as input samples, in particular:\n",
    "- *phenomenet.owl*, the file containing the ontology we would like to use in owl format.\n",
    "- *go_associations*, a file containing protein to GO function annotations. \n",
    "- *entities.lst*, an optional file containing the list of biological entities we are interested in getting a vector representation for.\n",
    "\n",
    "\n",
    "Let's go ahead and run OPA2Vec from the command line: "
   ]
  },
  {
   "cell_type": "code",
   "execution_count": null,
   "metadata": {
    "scrolled": true
   },
   "outputs": [],
   "source": [
    "%%bash\n",
    "python runOPA2Vec.py phenomenet.owl go_associations -entities entities.lst -annotations all -reasoner elk"
   ]
  },
  {
   "cell_type": "markdown",
   "metadata": {},
   "source": [
    "If everything goes well, an output file, *AllVectorResults.lst*, will be created in no more than 20 min and should contain the obtained vector representations. A sample output file *AllVectorResults1* is available in this tutorial.\n",
    "\n",
    "As you can see in the command above, in addition to the two mandatory input files , *phenomenet.owl* and *go_associations*, we have also specified three optional parameters: *all* for the *-annotations* parameter to make OPA2Vec use all annotation properties from the metadata of the ontology, *elk* as our reasoner of choice and the *entities.lst* file.\n",
    "\n",
    "OPA2Vec allows you to choose more optional parameters depending on your data and type of application.  \n",
    "In particular, the optional parameters we are allowed to specify in the command line are :\n",
    " \n",
    "    -embedsize [embedding size]\n",
    "    Size of obtained vectors (will depend on training model)\n",
    "\n",
    "    -windsize [window size]\n",
    "    Window size for word2vec model\n",
    "\n",
    "    -mincount [min count]\n",
    "    Minimum count value for word2vec model\n",
    "\n",
    "    -model [model]\n",
    "    Preferred word2vec architecture, sg or cbow\n",
    "\n",
    "    -annotations [metadata annotations] List of full URIs of annotation properties to be included in metadata separated by a comma . Use 'all' for all annotation properties (default) or 'none' for no annotation property\n",
    "\n",
    "\n",
    "    -pretrained [pre-trained model] Pre-trained word2vec model for background knowledge. If no pre-trained model is specified, the program will assume you have downloaded the default pre-trained model from http://bio2vec.net/data/pubmed_model/ \n",
    "\n",
    "Let's now have a look at what the output file looks like:"
   ]
  },
  {
   "cell_type": "code",
   "execution_count": null,
   "metadata": {},
   "outputs": [],
   "source": [
    "%%bash\n",
    "head -45 AllVectorResults1"
   ]
  },
  {
   "cell_type": "markdown",
   "metadata": {},
   "source": [
    "Let's try a few things we can do with our vectors.\n",
    "As an example, given a query protein *p*,let's find the *n* closest proteins to it based on pairwise cosine similarity of the obtained vectors. To do so, we first need to install the sklearn package containing the cosine similarity function in python:  "
   ]
  },
  {
   "cell_type": "code",
   "execution_count": null,
   "metadata": {},
   "outputs": [],
   "source": [
    "%%bash\n",
    " apt-get -y install python-sklearn"
   ]
  },
  {
   "cell_type": "markdown",
   "metadata": {},
   "source": [
    "We can now go ahaead and try to find the 5 closest neighbors to protein *A0A024RBG1* as an example. To speed up the calculation, we fix our entities we compare to only the first 10 ones"
   ]
  },
  {
   "cell_type": "code",
   "execution_count": null,
   "metadata": {
    "scrolled": true
   },
   "outputs": [],
   "source": [
    "%%bash \n",
    "python getNeighbors.py A0A024RBG1 5"
   ]
  },
  {
   "cell_type": "code",
   "execution_count": null,
   "metadata": {
    "collapsed": true
   },
   "outputs": [],
   "source": []
  }
 ],
 "metadata": {
  "kernelspec": {
   "display_name": "Python 2",
   "language": "python",
   "name": "python2"
  },
  "language_info": {
   "codemirror_mode": {
    "name": "ipython",
    "version": 2
   },
   "file_extension": ".py",
   "mimetype": "text/x-python",
   "name": "python",
   "nbconvert_exporter": "python",
   "pygments_lexer": "ipython2",
   "version": "2.7.5"
  }
 },
 "nbformat": 4,
 "nbformat_minor": 2
}
