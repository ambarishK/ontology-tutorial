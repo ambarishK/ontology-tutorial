{
 "cells": [
  {
   "cell_type": "markdown",
   "metadata": {},
   "source": [
    "# Welcome to the OPA2Vec tutorial session.\n",
    "\n",
    "## Introduction\n",
    "\n",
    "OPA2Vec is a tool that can be used to produce feature vectors for biological entities based on an ontology and its annotations. \n",
    "\n",
    "The source code of OPA2Vec is available at: https://github.com/bio-ontology-research-group/opa2vec/.\n",
    "\n",
    "## Dependencies\n",
    "\n",
    "First of all, we need to prepare the environment to run OPA2Vec. OPA2Vec is implemented in 3 different programming languages python, groovy and perl. The versions used for each language are the following: \n",
    "- python 2.7.5\n",
    "- groovy 2.4.10 JVM:1.8.0_121\n",
    "- perl: v5.16.3\n",
    "\n",
    "OPA2Vec also uses the gensim python library which requires scipy and numpy. Assuming you have numpy and scipy installed, you can install gensim by running the following in your terminal: "
   ]
  },
  {
   "cell_type": "code",
   "execution_count": 2,
   "metadata": {},
   "outputs": [
    {
     "name": "stdout",
     "output_type": "stream",
     "text": [
      "Collecting gensim\n",
      "  Downloading https://files.pythonhosted.org/packages/27/a4/d10c0acc8528d838cda5eede0ee9c784caa598dbf40bd0911ff8d067a7eb/gensim-3.6.0-cp36-cp36m-manylinux1_x86_64.whl (23.6MB)\n",
      "Collecting smart-open>=1.2.1 (from gensim)\n",
      "  Downloading https://files.pythonhosted.org/packages/4b/1f/6f27e3682124de63ac97a0a5876da6186de6c19410feab66c1543afab055/smart_open-1.7.1.tar.gz\n",
      "Requirement not upgraded as not directly required: numpy>=1.11.3 in /home/leechuck/.local/lib/python3.6/site-packages (from gensim) (1.13.3)\n",
      "Requirement not upgraded as not directly required: six>=1.5.0 in /home/leechuck/.local/lib/python3.6/site-packages (from gensim) (1.11.0)\n",
      "Requirement not upgraded as not directly required: scipy>=0.18.1 in /home/leechuck/anaconda3/lib/python3.6/site-packages (from gensim) (1.1.0)\n",
      "Requirement not upgraded as not directly required: boto>=2.32 in /home/leechuck/anaconda3/lib/python3.6/site-packages (from smart-open>=1.2.1->gensim) (2.48.0)\n",
      "Collecting bz2file (from smart-open>=1.2.1->gensim)\n",
      "  Downloading https://files.pythonhosted.org/packages/61/39/122222b5e85cd41c391b68a99ee296584b2a2d1d233e7ee32b4532384f2d/bz2file-0.98.tar.gz\n",
      "Requirement not upgraded as not directly required: requests in /home/leechuck/.local/lib/python3.6/site-packages (from smart-open>=1.2.1->gensim) (2.18.4)\n",
      "Collecting boto3 (from smart-open>=1.2.1->gensim)\n",
      "  Downloading https://files.pythonhosted.org/packages/1e/a2/86ac40bc8e091d18c4af321972a0957f387622d13c8e9e618c8a12c22ac1/boto3-1.9.44-py2.py3-none-any.whl (128kB)\n",
      "Requirement not upgraded as not directly required: chardet<3.1.0,>=3.0.2 in /home/leechuck/.local/lib/python3.6/site-packages (from requests->smart-open>=1.2.1->gensim) (3.0.4)\n",
      "Requirement not upgraded as not directly required: urllib3<1.23,>=1.21.1 in /home/leechuck/.local/lib/python3.6/site-packages (from requests->smart-open>=1.2.1->gensim) (1.22)\n",
      "Requirement not upgraded as not directly required: certifi>=2017.4.17 in /home/leechuck/.local/lib/python3.6/site-packages (from requests->smart-open>=1.2.1->gensim) (2018.4.16)\n",
      "Requirement not upgraded as not directly required: idna<2.7,>=2.5 in /home/leechuck/.local/lib/python3.6/site-packages (from requests->smart-open>=1.2.1->gensim) (2.6)\n",
      "Collecting jmespath<1.0.0,>=0.7.1 (from boto3->smart-open>=1.2.1->gensim)\n",
      "  Downloading https://files.pythonhosted.org/packages/b7/31/05c8d001f7f87f0f07289a5fc0fc3832e9a57f2dbd4d3b0fee70e0d51365/jmespath-0.9.3-py2.py3-none-any.whl\n",
      "Collecting botocore<1.13.0,>=1.12.44 (from boto3->smart-open>=1.2.1->gensim)\n",
      "  Downloading https://files.pythonhosted.org/packages/e5/14/fca2c32c33cc6321c8820c6c4193131438a1055c95b6951003ebd225f03b/botocore-1.12.44-py2.py3-none-any.whl (4.8MB)\n",
      "Collecting s3transfer<0.2.0,>=0.1.10 (from boto3->smart-open>=1.2.1->gensim)\n",
      "  Downloading https://files.pythonhosted.org/packages/d7/14/2a0004d487464d120c9fb85313a75cd3d71a7506955be458eebfe19a6b1d/s3transfer-0.1.13-py2.py3-none-any.whl (59kB)\n",
      "Requirement not upgraded as not directly required: python-dateutil<3.0.0,>=2.1; python_version >= \"2.7\" in /home/leechuck/.local/lib/python3.6/site-packages (from botocore<1.13.0,>=1.12.44->boto3->smart-open>=1.2.1->gensim) (2.6.1)\n",
      "Requirement not upgraded as not directly required: docutils>=0.10 in /home/leechuck/.local/lib/python3.6/site-packages (from botocore<1.13.0,>=1.12.44->boto3->smart-open>=1.2.1->gensim) (0.13.1)\n",
      "Building wheels for collected packages: smart-open, bz2file\n",
      "  Running setup.py bdist_wheel for smart-open: started\n",
      "  Running setup.py bdist_wheel for smart-open: finished with status 'done'\n",
      "  Stored in directory: /home/leechuck/.cache/pip/wheels/23/00/44/e5b939f7a80c04e32297dbd6d96fa3065af89ecf57e2b5f89f\n",
      "  Running setup.py bdist_wheel for bz2file: started\n",
      "  Running setup.py bdist_wheel for bz2file: finished with status 'done'\n",
      "  Stored in directory: /home/leechuck/.cache/pip/wheels/81/75/d6/e1317bf09bf1af5a30befc2a007869fa6e1f516b8f7c591cb9\n",
      "Successfully built smart-open bz2file\n",
      "Installing collected packages: bz2file, jmespath, botocore, s3transfer, boto3, smart-open, gensim\n",
      "Successfully installed boto3-1.9.44 botocore-1.12.44 bz2file-0.98 gensim-3.6.0 jmespath-0.9.3 s3transfer-0.1.13 smart-open-1.7.1\n"
     ]
    },
    {
     "name": "stderr",
     "output_type": "stream",
     "text": [
      "distributed 1.21.8 requires msgpack, which is not installed.\n",
      "fitbit 0.2.2 has requirement python-dateutil<2.5,>=1.5, but you'll have python-dateutil 2.6.1 which is incompatible.\n",
      "pytest 3.5.1 has requirement pluggy<0.7,>=0.5, but you'll have pluggy 0.3.1 which is incompatible.\n",
      "pytest 3.5.1 has requirement py>=1.5.0, but you'll have py 1.4.33 which is incompatible.\n",
      "flask 1.0.2 has requirement Jinja2>=2.10, but you'll have jinja2 2.9.6 which is incompatible.\n",
      "You are using pip version 10.0.1, however version 18.1 is available.\n",
      "You should consider upgrading via the 'pip install --upgrade pip' command.\n"
     ]
    }
   ],
   "source": [
    "%%bash\n",
    "pip install --upgrade gensim"
   ]
  },
  {
   "cell_type": "markdown",
   "metadata": {},
   "source": [
    "Finally, you need to download the PubMed pre-trained model for OPA2Vec from http://bio2vec.net/data/pubmed_model/.\n",
    "\n",
    "Now that our enviornment is hopefully ready, we can go ahead and run OPA2Vec. The folder where you found this tutorial contains some files that we could use as input samples, in particular:\n",
    "- *phenomenet.owl*, the file containing the ontology we would like to use in owl format.\n",
    "- *go_associations*, a file containing protein to GO function annotations. \n",
    "- *entities.lst*, an optional file containing the list of biological entities we are interested in getting a vector representation for.\n",
    "\n",
    "\n",
    "Let's go ahead and run OPA2Vec from the command line: "
   ]
  },
  {
   "cell_type": "code",
   "execution_count": 3,
   "metadata": {
    "scrolled": true
   },
   "outputs": [
    {
     "name": "stdout",
     "output_type": "stream",
     "text": [
      "***********OPA2Vec Running ...***********\n",
      "\n",
      "***********1.Ontology Processing ...***********\n",
      "\n",
      "***********Ontology Processing Complete ...***********\n",
      "\n",
      "***********2.Metadata Extraction ...***********\n",
      "\n",
      "***********Metadata Extraction Complete ...***********\n",
      "\n",
      "***********3.Propagate Associations through hierarchy ...***********\n",
      "\n",
      "***********Association propagation Complete ...***********\n",
      "\n",
      "***********4.Corpus Creation ...***********\n",
      "\n",
      "***********Corpus Creation Complete ...***********\n",
      "\n",
      "***********5.Running Word2Vec ...*********** \n",
      "\n",
      "***********Vector representations available at AllVectorResults.lst ***********\n",
      "\n",
      "***********OPA2Vec Complete ...***********\n",
      "\n"
     ]
    },
    {
     "name": "stderr",
     "output_type": "stream",
     "text": [
      "org.codehaus.groovy.control.MultipleCompilationErrorsException: startup failed:\n",
      "General error during conversion: Error grabbing Grapes -- [download failed: org.apache.httpcomponents#httpclient;4.5.1!httpclient.jar, download failed: org.apache.httpcomponents#httpcore;4.4.3!httpcore.jar]\n",
      "\n",
      "java.lang.RuntimeException: Error grabbing Grapes -- [download failed: org.apache.httpcomponents#httpclient;4.5.1!httpclient.jar, download failed: org.apache.httpcomponents#httpcore;4.4.3!httpcore.jar]\n",
      "\tat sun.reflect.NativeConstructorAccessorImpl.newInstance0(Native Method)\n",
      "\tat sun.reflect.NativeConstructorAccessorImpl.newInstance(NativeConstructorAccessorImpl.java:62)\n",
      "\tat sun.reflect.DelegatingConstructorAccessorImpl.newInstance(DelegatingConstructorAccessorImpl.java:45)\n",
      "\tat java.lang.reflect.Constructor.newInstance(Constructor.java:423)\n",
      "\tat org.codehaus.groovy.reflection.CachedConstructor.invoke(CachedConstructor.java:83)\n",
      "\tat org.codehaus.groovy.reflection.CachedConstructor.doConstructorInvoke(CachedConstructor.java:77)\n",
      "\tat org.codehaus.groovy.runtime.callsite.ConstructorSite$ConstructorSiteNoUnwrap.callConstructor(ConstructorSite.java:84)\n",
      "\tat org.codehaus.groovy.runtime.callsite.CallSiteArray.defaultCallConstructor(CallSiteArray.java:59)\n",
      "\tat org.codehaus.groovy.runtime.callsite.AbstractCallSite.callConstructor(AbstractCallSite.java:238)\n",
      "\tat org.codehaus.groovy.runtime.callsite.AbstractCallSite.callConstructor(AbstractCallSite.java:250)\n",
      "\tat groovy.grape.GrapeIvy.getDependencies(GrapeIvy.groovy:422)\n",
      "\tat sun.reflect.NativeMethodAccessorImpl.invoke0(Native Method)\n",
      "\tat sun.reflect.NativeMethodAccessorImpl.invoke(NativeMethodAccessorImpl.java:62)\n",
      "\tat sun.reflect.DelegatingMethodAccessorImpl.invoke(DelegatingMethodAccessorImpl.java:43)\n",
      "\tat java.lang.reflect.Method.invoke(Method.java:498)\n",
      "\tat org.codehaus.groovy.runtime.callsite.PogoMetaMethodSite$PogoCachedMethodSite.invoke(PogoMetaMethodSite.java:169)\n",
      "\tat org.codehaus.groovy.runtime.callsite.PogoMetaMethodSite.callCurrent(PogoMetaMethodSite.java:59)\n",
      "\tat org.codehaus.groovy.runtime.callsite.CallSiteArray.defaultCallCurrent(CallSiteArray.java:51)\n",
      "\tat org.codehaus.groovy.runtime.callsite.AbstractCallSite.callCurrent(AbstractCallSite.java:157)\n",
      "\tat groovy.grape.GrapeIvy.resolve(GrapeIvy.groovy:569)\n",
      "\tat groovy.grape.GrapeIvy$resolve$1.callCurrent(Unknown Source)\n",
      "\tat org.codehaus.groovy.runtime.callsite.CallSiteArray.defaultCallCurrent(CallSiteArray.java:51)\n",
      "\tat org.codehaus.groovy.runtime.callsite.AbstractCallSite.callCurrent(AbstractCallSite.java:157)\n",
      "\tat org.codehaus.groovy.runtime.callsite.AbstractCallSite.callCurrent(AbstractCallSite.java:193)\n",
      "\tat groovy.grape.GrapeIvy.resolve(GrapeIvy.groovy:536)\n",
      "\tat groovy.grape.GrapeIvy$resolve$0.callCurrent(Unknown Source)\n",
      "\tat org.codehaus.groovy.runtime.callsite.CallSiteArray.defaultCallCurrent(CallSiteArray.java:51)\n",
      "\tat org.codehaus.groovy.runtime.callsite.AbstractCallSite.callCurrent(AbstractCallSite.java:157)\n",
      "\tat org.codehaus.groovy.runtime.callsite.AbstractCallSite.callCurrent(AbstractCallSite.java:185)\n",
      "\tat groovy.grape.GrapeIvy.grab(GrapeIvy.groovy:254)\n",
      "\tat groovy.grape.Grape.grab(Grape.java:167)\n",
      "\tat groovy.grape.GrabAnnotationTransformation.visit(GrabAnnotationTransformation.java:376)\n",
      "\tat org.codehaus.groovy.transform.ASTTransformationVisitor$3.call(ASTTransformationVisitor.java:346)\n",
      "\tat org.codehaus.groovy.control.CompilationUnit.applyToSourceUnits(CompilationUnit.java:966)\n",
      "\tat org.codehaus.groovy.control.CompilationUnit.doPhaseOperation(CompilationUnit.java:626)\n",
      "\tat org.codehaus.groovy.control.CompilationUnit.processPhaseOperations(CompilationUnit.java:602)\n",
      "\tat org.codehaus.groovy.control.CompilationUnit.compile(CompilationUnit.java:579)\n",
      "\tat groovy.lang.GroovyClassLoader.doParseClass(GroovyClassLoader.java:323)\n",
      "\tat groovy.lang.GroovyClassLoader.parseClass(GroovyClassLoader.java:293)\n",
      "\tat groovy.lang.GroovyShell.parseClass(GroovyShell.java:677)\n",
      "\tat groovy.lang.GroovyShell.run(GroovyShell.java:506)\n",
      "\tat groovy.lang.GroovyShell.run(GroovyShell.java:496)\n",
      "\tat groovy.ui.GroovyMain.processOnce(GroovyMain.java:597)\n",
      "\tat groovy.ui.GroovyMain.run(GroovyMain.java:329)\n",
      "\tat groovy.ui.GroovyMain.process(GroovyMain.java:315)\n",
      "\tat groovy.ui.GroovyMain.processArgs(GroovyMain.java:134)\n",
      "\tat groovy.ui.GroovyMain.main(GroovyMain.java:114)\n",
      "\tat sun.reflect.NativeMethodAccessorImpl.invoke0(Native Method)\n",
      "\tat sun.reflect.NativeMethodAccessorImpl.invoke(NativeMethodAccessorImpl.java:62)\n",
      "\tat sun.reflect.DelegatingMethodAccessorImpl.invoke(DelegatingMethodAccessorImpl.java:43)\n",
      "\tat java.lang.reflect.Method.invoke(Method.java:498)\n",
      "\tat org.codehaus.groovy.tools.GroovyStarter.rootLoader(GroovyStarter.java:116)\n",
      "\tat org.codehaus.groovy.tools.GroovyStarter.main(GroovyStarter.java:138)\n",
      "\n",
      "1 error\n",
      "\n",
      "cat: classes.lst: No such file or directory\n",
      "cat: axiomsorig.lst: No such file or directory\n",
      "cat: axiomsinf.lst: No such file or directory\n",
      "org.codehaus.groovy.control.MultipleCompilationErrorsException: startup failed:\n",
      "General error during conversion: Error grabbing Grapes -- [download failed: org.apache.httpcomponents#httpclient;4.5.1!httpclient.jar, download failed: org.apache.httpcomponents#httpcore;4.4.3!httpcore.jar]\n",
      "\n",
      "java.lang.RuntimeException: Error grabbing Grapes -- [download failed: org.apache.httpcomponents#httpclient;4.5.1!httpclient.jar, download failed: org.apache.httpcomponents#httpcore;4.4.3!httpcore.jar]\n",
      "\tat sun.reflect.NativeConstructorAccessorImpl.newInstance0(Native Method)\n",
      "\tat sun.reflect.NativeConstructorAccessorImpl.newInstance(NativeConstructorAccessorImpl.java:62)\n",
      "\tat sun.reflect.DelegatingConstructorAccessorImpl.newInstance(DelegatingConstructorAccessorImpl.java:45)\n",
      "\tat java.lang.reflect.Constructor.newInstance(Constructor.java:423)\n",
      "\tat org.codehaus.groovy.reflection.CachedConstructor.invoke(CachedConstructor.java:83)\n",
      "\tat org.codehaus.groovy.reflection.CachedConstructor.doConstructorInvoke(CachedConstructor.java:77)\n",
      "\tat org.codehaus.groovy.runtime.callsite.ConstructorSite$ConstructorSiteNoUnwrap.callConstructor(ConstructorSite.java:84)\n",
      "\tat org.codehaus.groovy.runtime.callsite.CallSiteArray.defaultCallConstructor(CallSiteArray.java:59)\n",
      "\tat org.codehaus.groovy.runtime.callsite.AbstractCallSite.callConstructor(AbstractCallSite.java:238)\n",
      "\tat org.codehaus.groovy.runtime.callsite.AbstractCallSite.callConstructor(AbstractCallSite.java:250)\n",
      "\tat groovy.grape.GrapeIvy.getDependencies(GrapeIvy.groovy:422)\n",
      "\tat sun.reflect.NativeMethodAccessorImpl.invoke0(Native Method)\n",
      "\tat sun.reflect.NativeMethodAccessorImpl.invoke(NativeMethodAccessorImpl.java:62)\n",
      "\tat sun.reflect.DelegatingMethodAccessorImpl.invoke(DelegatingMethodAccessorImpl.java:43)\n",
      "\tat java.lang.reflect.Method.invoke(Method.java:498)\n",
      "\tat org.codehaus.groovy.runtime.callsite.PogoMetaMethodSite$PogoCachedMethodSite.invoke(PogoMetaMethodSite.java:169)\n",
      "\tat org.codehaus.groovy.runtime.callsite.PogoMetaMethodSite.callCurrent(PogoMetaMethodSite.java:59)\n",
      "\tat org.codehaus.groovy.runtime.callsite.CallSiteArray.defaultCallCurrent(CallSiteArray.java:51)\n",
      "\tat org.codehaus.groovy.runtime.callsite.AbstractCallSite.callCurrent(AbstractCallSite.java:157)\n",
      "\tat groovy.grape.GrapeIvy.resolve(GrapeIvy.groovy:569)\n",
      "\tat groovy.grape.GrapeIvy$resolve$1.callCurrent(Unknown Source)\n",
      "\tat org.codehaus.groovy.runtime.callsite.CallSiteArray.defaultCallCurrent(CallSiteArray.java:51)\n",
      "\tat org.codehaus.groovy.runtime.callsite.AbstractCallSite.callCurrent(AbstractCallSite.java:157)\n",
      "\tat org.codehaus.groovy.runtime.callsite.AbstractCallSite.callCurrent(AbstractCallSite.java:193)\n",
      "\tat groovy.grape.GrapeIvy.resolve(GrapeIvy.groovy:536)\n",
      "\tat groovy.grape.GrapeIvy$resolve$0.callCurrent(Unknown Source)\n",
      "\tat org.codehaus.groovy.runtime.callsite.CallSiteArray.defaultCallCurrent(CallSiteArray.java:51)\n",
      "\tat org.codehaus.groovy.runtime.callsite.AbstractCallSite.callCurrent(AbstractCallSite.java:157)\n",
      "\tat org.codehaus.groovy.runtime.callsite.AbstractCallSite.callCurrent(AbstractCallSite.java:185)\n",
      "\tat groovy.grape.GrapeIvy.grab(GrapeIvy.groovy:254)\n",
      "\tat groovy.grape.Grape.grab(Grape.java:167)\n",
      "\tat groovy.grape.GrabAnnotationTransformation.visit(GrabAnnotationTransformation.java:376)\n",
      "\tat org.codehaus.groovy.transform.ASTTransformationVisitor$3.call(ASTTransformationVisitor.java:346)\n",
      "\tat org.codehaus.groovy.control.CompilationUnit.applyToSourceUnits(CompilationUnit.java:966)\n",
      "\tat org.codehaus.groovy.control.CompilationUnit.doPhaseOperation(CompilationUnit.java:626)\n",
      "\tat org.codehaus.groovy.control.CompilationUnit.processPhaseOperations(CompilationUnit.java:602)\n",
      "\tat org.codehaus.groovy.control.CompilationUnit.compile(CompilationUnit.java:579)\n",
      "\tat groovy.lang.GroovyClassLoader.doParseClass(GroovyClassLoader.java:323)\n",
      "\tat groovy.lang.GroovyClassLoader.parseClass(GroovyClassLoader.java:293)\n",
      "\tat groovy.lang.GroovyShell.parseClass(GroovyShell.java:677)\n",
      "\tat groovy.lang.GroovyShell.run(GroovyShell.java:506)\n",
      "\tat groovy.lang.GroovyShell.run(GroovyShell.java:496)\n",
      "\tat groovy.ui.GroovyMain.processOnce(GroovyMain.java:597)\n",
      "\tat groovy.ui.GroovyMain.run(GroovyMain.java:329)\n",
      "\tat groovy.ui.GroovyMain.process(GroovyMain.java:315)\n",
      "\tat groovy.ui.GroovyMain.processArgs(GroovyMain.java:134)\n",
      "\tat groovy.ui.GroovyMain.main(GroovyMain.java:114)\n",
      "\tat sun.reflect.NativeMethodAccessorImpl.invoke0(Native Method)\n",
      "\tat sun.reflect.NativeMethodAccessorImpl.invoke(NativeMethodAccessorImpl.java:62)\n",
      "\tat sun.reflect.DelegatingMethodAccessorImpl.invoke(DelegatingMethodAccessorImpl.java:43)\n",
      "\tat java.lang.reflect.Method.invoke(Method.java:498)\n",
      "\tat org.codehaus.groovy.tools.GroovyStarter.rootLoader(GroovyStarter.java:116)\n",
      "\tat org.codehaus.groovy.tools.GroovyStarter.main(GroovyStarter.java:138)\n",
      "\n",
      "1 error\n",
      "\n",
      "cat: metadata.lst: No such file or directory\n",
      "Traceback (most recent call last):\n",
      "  File \"runWord2Vec.py\", line 20, in <module>\n",
      "    mymodel=gensim.models.Word2Vec.load (pretrain)\n",
      "  File \"/home/leechuck/anaconda3/lib/python3.6/site-packages/gensim/models/word2vec.py\", line 1312, in load\n",
      "    model = super(Word2Vec, cls).load(*args, **kwargs)\n",
      "  File \"/home/leechuck/anaconda3/lib/python3.6/site-packages/gensim/models/base_any2vec.py\", line 1244, in load\n",
      "    model = super(BaseWordEmbeddingsModel, cls).load(*args, **kwargs)\n",
      "  File \"/home/leechuck/anaconda3/lib/python3.6/site-packages/gensim/models/base_any2vec.py\", line 603, in load\n",
      "    return super(BaseAny2VecModel, cls).load(fname_or_handle, **kwargs)\n",
      "  File \"/home/leechuck/anaconda3/lib/python3.6/site-packages/gensim/utils.py\", line 423, in load\n",
      "    obj._load_specials(fname, mmap, compress, subname)\n",
      "  File \"/home/leechuck/anaconda3/lib/python3.6/site-packages/gensim/utils.py\", line 453, in _load_specials\n",
      "    getattr(self, attrib)._load_specials(cfname, mmap, compress, subname)\n",
      "  File \"/home/leechuck/anaconda3/lib/python3.6/site-packages/gensim/utils.py\", line 464, in _load_specials\n",
      "    val = np.load(subname(fname, attrib), mmap_mode=mmap)\n",
      "  File \"/home/leechuck/.local/lib/python3.6/site-packages/numpy/lib/npyio.py\", line 370, in load\n",
      "    fid = open(file, \"rb\")\n",
      "FileNotFoundError: [Errno 2] No such file or directory: 'RepresentationModel_pubmed.txt.wv.syn0.npy'\n",
      "rm: cannot remove 'inferred*': No such file or directory\n",
      "rm: cannot remove 'classes.lst': No such file or directory\n",
      "rm: cannot remove 'metadata.lst': No such file or directory\n"
     ]
    }
   ],
   "source": [
    "%%bash\n",
    "python runOPA2Vec.py phenomenet.owl go_associations -entities entities.lst -annotations all -reasoner elk"
   ]
  },
  {
   "cell_type": "markdown",
   "metadata": {},
   "source": [
    "If everything goes well, an output file, *AllVectorResults.lst*, will be created in no more than 20 min and should contain the obtained vector representations. A sample output file *AllVectorResults1* is available in this tutorial.\n",
    "\n",
    "As you can see in the command above, in addition to the two mandatory input files , *phenomenet.owl* and *go_associations*, we have also specified three optional parameters: *all* for the *-annotations* parameter to make OPA2Vec use all annotation properties from the metadata of the ontology, *elk* as our reasoner of choice and the *entities.lst* file.\n",
    "\n",
    "OPA2Vec allows you to choose more optional parameters depending on your data and type of application.  \n",
    "In particular, the optional parameters we are allowed to specify in the command line are :\n",
    " \n",
    "    -embedsize [embedding size]\n",
    "    Size of obtained vectors (will depend on training model)\n",
    "\n",
    "    -windsize [window size]\n",
    "    Window size for word2vec model\n",
    "\n",
    "    -mincount [min count]\n",
    "    Minimum count value for word2vec model\n",
    "\n",
    "    -model [model]\n",
    "    Preferred word2vec architecture, sg or cbow\n",
    "\n",
    "    -annotations [metadata annotations] List of full URIs of annotation properties to be included in metadata separated by a comma . Use 'all' for all annotation properties (default) or 'none' for no annotation property\n",
    "\n",
    "\n",
    "    -pretrained [pre-trained model] Pre-trained word2vec model for background knowledge. If no pre-trained model is specified, the program will assume you have downloaded the default pre-trained model from http://bio2vec.net/data/pubmed_model/ \n",
    "\n",
    "Let's now have a look at what the output file looks like:"
   ]
  },
  {
   "cell_type": "code",
   "execution_count": 4,
   "metadata": {},
   "outputs": [
    {
     "name": "stderr",
     "output_type": "stream",
     "text": [
      "head: cannot open 'AllVectorResults1' for reading: No such file or directory\n"
     ]
    }
   ],
   "source": [
    "%%bash\n",
    "head -45 AllVectorResults1"
   ]
  },
  {
   "cell_type": "markdown",
   "metadata": {},
   "source": [
    "The vectors are printed accross multiple lines which makes them a bit hard to process. We can transform the vectors using the following script to a more convenient format: "
   ]
  },
  {
   "cell_type": "code",
   "execution_count": null,
   "metadata": {
    "collapsed": true
   },
   "outputs": [],
   "source": [
    "import os\n",
    "import sys\n",
    "\n",
    "# process vectors\n",
    "file=open(\"processed_vectors\",'w')\n",
    "\n",
    "input_file=\"AllVectorResults1\"\n",
    "\n",
    "inf =open (input_file)\n",
    "for line in inf:\n",
    "\t line.strip().replace ('[',\"\").replace(']',\"\\n\")\n",
    "\t file.write (line.strip().replace ('[',\"\").replace(']',\"\\n\")),\n",
    "\n",
    "file.close"
   ]
  },
  {
   "cell_type": "markdown",
   "metadata": {},
   "source": [
    "Our vectors look much better now :"
   ]
  },
  {
   "cell_type": "code",
   "execution_count": null,
   "metadata": {
    "collapsed": true
   },
   "outputs": [],
   "source": [
    "%%bash\n",
    "head -20 processed_vectors"
   ]
  },
  {
   "cell_type": "markdown",
   "metadata": {},
   "source": [
    "Let's try a few things we can do with our vectors.\n",
    "As an example, given a query protein *p*,let's find the *n* closest proteins to it based on pairwise cosine similarity of the obtained vectors. To do so, we first need to install the sklearn package containing the cosine similarity function in python:  "
   ]
  },
  {
   "cell_type": "code",
   "execution_count": null,
   "metadata": {
    "collapsed": true
   },
   "outputs": [],
   "source": [
    "%%bash\n",
    " apt-get -y install python-sklearn"
   ]
  },
  {
   "cell_type": "markdown",
   "metadata": {},
   "source": [
    "We can now go ahead and try to find the 10 closest neighbors to protein *A0A024RBG1* as an example. To speed up the calculation, we fix the set of entities we compare to a set of 1000 entity only."
   ]
  },
  {
   "cell_type": "code",
   "execution_count": 7,
   "metadata": {
    "scrolled": true
   },
   "outputs": [
    {
     "name": "stdout",
     "output_type": "stream",
     "text": [
      "1. A6NL82\t0.24056068519081897\n",
      "\n",
      "2. A0A0U1RR11\t0.21344038506854024\n",
      "\n",
      "3. A0A2R8YFB7\t0.20980879136776454\n",
      "\n",
      "4. A0A286YFB4\t0.19988283188103195\n",
      "\n",
      "5. A0A0U1RRI6\t0.19704075439528834\n",
      "\n",
      "6. A0A286YET3\t0.19369666960546184\n",
      "\n",
      "7. A0A286YFG1\t0.1928914756300507\n",
      "\n",
      "8. A6NJ78\t0.19175714812144584\n",
      "\n",
      "9. A0A286YF60\t0.1890638514071129\n",
      "\n",
      "10. A6NNA2\t0.18722186307718114\n",
      "\n"
     ]
    }
   ],
   "source": [
    "import os\n",
    "import sys\n",
    "import numpy\n",
    "from sklearn.metrics import pairwise_distances\n",
    "from scipy.spatial.distance import cosine \n",
    "from itertools import islice\n",
    "\n",
    "#1.Defining query and # of neighbors (coud be given as input)\n",
    "#query =str(sys.argv[1])\n",
    "#n = int (sys.argv[2])\n",
    "query =\"A0A024RBG1\"\n",
    "n=10\n",
    "\n",
    "#2.Reading input: vectors and entities\n",
    "vectors=numpy.loadtxt(\"sample_vectors\");\n",
    "text_file=\"sample_entities\"\n",
    "classfile=open (text_file)\n",
    "mylist=[]\n",
    "for linec in classfile:\n",
    "\tmystr=linec.strip()\n",
    "\tmylist.append(mystr)\n",
    "\n",
    "\n",
    "#3.Mapping Entities to Vectors\n",
    "vectors_map={}\n",
    "for i in range(0,len(mylist)):\n",
    "\tvectors_map[mylist[i]]=vectors[i,:]\n",
    "\t\n",
    "\n",
    "#4.Calculating cosine similarity to query\n",
    "cosine_sim={}\n",
    "for x in range(0,len(mylist)):\n",
    "\tif (mylist[x]!=query): \t\n",
    "\t\tv1=vectors_map[mylist[x]]\n",
    "\t\tv2=vectors_map[query]\n",
    "\t\tvalue=cosine(v1,v2)\n",
    "\t\tcosine_sim[mylist[x]]=value\n",
    "\n",
    "#5.Retrieving the n closest neighbors to query\n",
    "sortedmap=sorted(cosine_sim,key=cosine_sim.get, reverse=True)\n",
    "iterator=islice(sortedmap,n)\n",
    "i =1\n",
    "for d in iterator:\n",
    "\tprint (str(i)+\". \"+ str(d) +\"\\t\"+str(cosine_sim[d])+\"\\n\")\n",
    "\ti +=1"
   ]
  },
  {
   "cell_type": "code",
   "execution_count": null,
   "metadata": {
    "collapsed": true
   },
   "outputs": [],
   "source": []
  }
 ],
 "metadata": {
  "kernelspec": {
   "display_name": "Python 2",
   "language": "python",
   "name": "python2"
  },
  "language_info": {
   "codemirror_mode": {
    "name": "ipython",
    "version": 3
   },
   "file_extension": ".py",
   "mimetype": "text/x-python",
   "name": "python",
   "nbconvert_exporter": "python",
   "pygments_lexer": "ipython3",
   "version": "3.6.5"
  }
 },
 "nbformat": 4,
 "nbformat_minor": 2
}
